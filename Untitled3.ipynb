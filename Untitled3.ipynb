{
  "nbformat": 4,
  "nbformat_minor": 0,
  "metadata": {
    "colab": {
      "name": "Untitled3.ipynb",
      "provenance": [],
      "collapsed_sections": [],
      "authorship_tag": "ABX9TyNSM89+qq4tPfIt1bZYll/G",
      "include_colab_link": true
    },
    "kernelspec": {
      "name": "python3",
      "display_name": "Python 3"
    },
    "language_info": {
      "name": "python"
    }
  },
  "cells": [
    {
      "cell_type": "markdown",
      "metadata": {
        "id": "view-in-github",
        "colab_type": "text"
      },
      "source": [
        "<a href=\"https://colab.research.google.com/github/fabizap/fabizap/blob/main/Untitled3.ipynb\" target=\"_parent\"><img src=\"https://colab.research.google.com/assets/colab-badge.svg\" alt=\"Open In Colab\"/></a>"
      ]
    },
    {
      "cell_type": "code",
      "source": [
        "estoy = 1+5\n",
        "dar = 65"
      ],
      "metadata": {
        "id": "wvNEIVTprZSP"
      },
      "execution_count": 109,
      "outputs": []
    },
    {
      "cell_type": "code",
      "execution_count": 110,
      "metadata": {
        "colab": {
          "base_uri": "https://localhost:8080/",
          "height": 35
        },
        "id": "vxPj_SUnrH1t",
        "outputId": "246ae5f0-29b9-4520-9d4d-af37d6d7619a"
      },
      "outputs": [
        {
          "output_type": "execute_result",
          "data": {
            "text/plain": [
              "'6 65'"
            ],
            "application/vnd.google.colaboratory.intrinsic+json": {
              "type": "string"
            }
          },
          "metadata": {},
          "execution_count": 110
        }
      ],
      "source": [
        "f'{estoy} {dar}' "
      ]
    },
    {
      "cell_type": "markdown",
      "source": [
        "# Listas"
      ],
      "metadata": {
        "id": "JnkFnQJ7tK_-"
      }
    },
    {
      "cell_type": "code",
      "source": [
        "countries = ['arg', 'br', 'çhi', 'per']"
      ],
      "metadata": {
        "id": "bHYbFC-ftKZc"
      },
      "execution_count": 111,
      "outputs": []
    },
    {
      "cell_type": "code",
      "source": [
        "countries [1]"
      ],
      "metadata": {
        "colab": {
          "base_uri": "https://localhost:8080/",
          "height": 35
        },
        "id": "j4sYrRfDtKNg",
        "outputId": "2f22a366-66a0-4ac5-8263-ee9af4a455f7"
      },
      "execution_count": 112,
      "outputs": [
        {
          "output_type": "execute_result",
          "data": {
            "text/plain": [
              "'br'"
            ],
            "application/vnd.google.colaboratory.intrinsic+json": {
              "type": "string"
            }
          },
          "metadata": {},
          "execution_count": 112
        }
      ]
    },
    {
      "cell_type": "code",
      "source": [
        "countries [-1]"
      ],
      "metadata": {
        "colab": {
          "base_uri": "https://localhost:8080/",
          "height": 35
        },
        "id": "i0x8LNNftKDm",
        "outputId": "def3e203-9216-4a3c-ac8a-d8e11614e862"
      },
      "execution_count": 113,
      "outputs": [
        {
          "output_type": "execute_result",
          "data": {
            "text/plain": [
              "'per'"
            ],
            "application/vnd.google.colaboratory.intrinsic+json": {
              "type": "string"
            }
          },
          "metadata": {},
          "execution_count": 113
        }
      ]
    },
    {
      "cell_type": "code",
      "source": [
        "countries [1:3]"
      ],
      "metadata": {
        "colab": {
          "base_uri": "https://localhost:8080/"
        },
        "id": "1h7DhIsmtJ5Y",
        "outputId": "9a23bbd8-159e-4a3e-dd06-aa5e70165ad5"
      },
      "execution_count": 114,
      "outputs": [
        {
          "output_type": "execute_result",
          "data": {
            "text/plain": [
              "['br', 'çhi']"
            ]
          },
          "metadata": {},
          "execution_count": 114
        }
      ]
    },
    {
      "cell_type": "markdown",
      "source": [
        "# appendd\n",
        "### agregar un elemento a la lista"
      ],
      "metadata": {
        "id": "Y8Boo1aPm4FN"
      }
    },
    {
      "cell_type": "code",
      "source": [
        "countries.append('uru')"
      ],
      "metadata": {
        "id": "91OjYl_ktJro"
      },
      "execution_count": 115,
      "outputs": []
    },
    {
      "cell_type": "code",
      "source": [
        "countries"
      ],
      "metadata": {
        "colab": {
          "base_uri": "https://localhost:8080/"
        },
        "id": "tAMv8gKM3dMg",
        "outputId": "661f9be7-6a4d-4efe-f5f0-d63bfdff6a7c"
      },
      "execution_count": 116,
      "outputs": [
        {
          "output_type": "execute_result",
          "data": {
            "text/plain": [
              "['arg', 'br', 'çhi', 'per', 'uru']"
            ]
          },
          "metadata": {},
          "execution_count": 116
        }
      ]
    },
    {
      "cell_type": "markdown",
      "source": [
        "# insert (posicion, 'elemento')\n",
        "### insertar un elemento en una posicion determianada"
      ],
      "metadata": {
        "id": "HMz-KrJdnQcO"
      }
    },
    {
      "cell_type": "code",
      "source": [
        "countries.insert(2,'par')"
      ],
      "metadata": {
        "id": "4KL9wbUd3dCo"
      },
      "execution_count": 117,
      "outputs": []
    },
    {
      "cell_type": "code",
      "source": [
        "countries"
      ],
      "metadata": {
        "colab": {
          "base_uri": "https://localhost:8080/"
        },
        "id": "-NWpxRUs3c2p",
        "outputId": "0947c83a-56cb-4f49-eecb-54fbd629fbab"
      },
      "execution_count": 118,
      "outputs": [
        {
          "output_type": "execute_result",
          "data": {
            "text/plain": [
              "['arg', 'br', 'par', 'çhi', 'per', 'uru']"
            ]
          },
          "metadata": {},
          "execution_count": 118
        }
      ]
    },
    {
      "cell_type": "code",
      "source": [
        "countries_2 = ['usa', 'esp',]"
      ],
      "metadata": {
        "id": "67JTXe-9CMam"
      },
      "execution_count": 119,
      "outputs": []
    },
    {
      "cell_type": "code",
      "source": [
        "countries_2"
      ],
      "metadata": {
        "colab": {
          "base_uri": "https://localhost:8080/"
        },
        "id": "M9Z5Q9aHCMV3",
        "outputId": "73f21858-3bc3-4cb1-90b5-d545262240a4"
      },
      "execution_count": 120,
      "outputs": [
        {
          "output_type": "execute_result",
          "data": {
            "text/plain": [
              "['usa', 'esp']"
            ]
          },
          "metadata": {},
          "execution_count": 120
        }
      ]
    },
    {
      "cell_type": "markdown",
      "source": [
        "# unir dos listas en una"
      ],
      "metadata": {
        "id": "n42YYs9Yn06v"
      }
    },
    {
      "cell_type": "code",
      "source": [
        "countries + countries_2"
      ],
      "metadata": {
        "colab": {
          "base_uri": "https://localhost:8080/"
        },
        "id": "tM0-sNShCMRn",
        "outputId": "59d4b83c-72fe-4b0d-c3cd-a970850a8d1c"
      },
      "execution_count": 121,
      "outputs": [
        {
          "output_type": "execute_result",
          "data": {
            "text/plain": [
              "['arg', 'br', 'par', 'çhi', 'per', 'uru', 'usa', 'esp']"
            ]
          },
          "metadata": {},
          "execution_count": 121
        }
      ]
    },
    {
      "cell_type": "markdown",
      "source": [
        "# lista de listas"
      ],
      "metadata": {
        "id": "sLR1oB9ToDSx"
      }
    },
    {
      "cell_type": "code",
      "source": [
        "nueva_lista = [countries, countries_2]"
      ],
      "metadata": {
        "id": "YBpYrodqCMMk"
      },
      "execution_count": 122,
      "outputs": []
    },
    {
      "cell_type": "code",
      "source": [
        "nueva_lista"
      ],
      "metadata": {
        "colab": {
          "base_uri": "https://localhost:8080/"
        },
        "id": "vFD6W4uXCMH3",
        "outputId": "7115b1d1-a3d9-46ef-8782-fe27d60179b6"
      },
      "execution_count": 123,
      "outputs": [
        {
          "output_type": "execute_result",
          "data": {
            "text/plain": [
              "[['arg', 'br', 'par', 'çhi', 'per', 'uru'], ['usa', 'esp']]"
            ]
          },
          "metadata": {},
          "execution_count": 123
        }
      ]
    },
    {
      "cell_type": "markdown",
      "source": [
        "## Eliminar elemento de uma lista remove, pop, del"
      ],
      "metadata": {
        "id": "x6MhDyymEkuv"
      }
    },
    {
      "cell_type": "code",
      "source": [
        "countries"
      ],
      "metadata": {
        "colab": {
          "base_uri": "https://localhost:8080/"
        },
        "id": "01IQ4sWdogrk",
        "outputId": "b99dcfc5-5e9e-4c22-ee3f-64af97a55152"
      },
      "execution_count": 124,
      "outputs": [
        {
          "output_type": "execute_result",
          "data": {
            "text/plain": [
              "['arg', 'br', 'par', 'çhi', 'per', 'uru']"
            ]
          },
          "metadata": {},
          "execution_count": 124
        }
      ]
    },
    {
      "cell_type": "code",
      "source": [
        "countriesCopy = countries.copy()\n",
        "countriesCopy"
      ],
      "metadata": {
        "colab": {
          "base_uri": "https://localhost:8080/"
        },
        "id": "9JAwGo30uv92",
        "outputId": "23f03251-ef88-42df-d788-922a17f877bc"
      },
      "execution_count": 125,
      "outputs": [
        {
          "output_type": "execute_result",
          "data": {
            "text/plain": [
              "['arg', 'br', 'par', 'çhi', 'per', 'uru']"
            ]
          },
          "metadata": {},
          "execution_count": 125
        }
      ]
    },
    {
      "cell_type": "code",
      "source": [
        "del countries [0]\n",
        "countries\n"
      ],
      "metadata": {
        "id": "rwkhtnqYD9yu",
        "colab": {
          "base_uri": "https://localhost:8080/"
        },
        "outputId": "143f343c-15a7-41d8-d505-31271cba0261"
      },
      "execution_count": 126,
      "outputs": [
        {
          "output_type": "execute_result",
          "data": {
            "text/plain": [
              "['br', 'par', 'çhi', 'per', 'uru']"
            ]
          },
          "metadata": {},
          "execution_count": 126
        }
      ]
    },
    {
      "cell_type": "code",
      "source": [
        "countriesCopy"
      ],
      "metadata": {
        "colab": {
          "base_uri": "https://localhost:8080/"
        },
        "id": "ChvffBN2D9pC",
        "outputId": "a91cf109-33ce-4e1d-f707-bf290188f2fe"
      },
      "execution_count": 127,
      "outputs": [
        {
          "output_type": "execute_result",
          "data": {
            "text/plain": [
              "['arg', 'br', 'par', 'çhi', 'per', 'uru']"
            ]
          },
          "metadata": {},
          "execution_count": 127
        }
      ]
    },
    {
      "cell_type": "code",
      "source": [
        "countries.remove('çhi')\n",
        "countries"
      ],
      "metadata": {
        "colab": {
          "base_uri": "https://localhost:8080/"
        },
        "id": "CkVp3jPQD9fJ",
        "outputId": "7531804e-f1d2-4fcb-9a4b-68441362e23e"
      },
      "execution_count": 128,
      "outputs": [
        {
          "output_type": "execute_result",
          "data": {
            "text/plain": [
              "['br', 'par', 'per', 'uru']"
            ]
          },
          "metadata": {},
          "execution_count": 128
        }
      ]
    },
    {
      "cell_type": "code",
      "source": [
        "countries.pop(1)\n",
        "countries"
      ],
      "metadata": {
        "colab": {
          "base_uri": "https://localhost:8080/"
        },
        "id": "TzkC587FD9Kt",
        "outputId": "79fab595-cccb-425d-e54e-e904e6c62aa2"
      },
      "execution_count": 129,
      "outputs": [
        {
          "output_type": "execute_result",
          "data": {
            "text/plain": [
              "['br', 'per', 'uru']"
            ]
          },
          "metadata": {},
          "execution_count": 129
        }
      ]
    },
    {
      "cell_type": "markdown",
      "source": [
        "# sort -de menor a mayor-\n",
        "# sort (reverse = true) -de mayor a meno -\n",
        "## ordenar listas"
      ],
      "metadata": {
        "id": "4ulGGbq8mf1Z"
      }
    },
    {
      "cell_type": "code",
      "source": [
        "lista_numeros = [1,6,15,21,4,9,33]"
      ],
      "metadata": {
        "id": "OOA3hRbUmvEO"
      },
      "execution_count": 130,
      "outputs": []
    },
    {
      "cell_type": "code",
      "source": [
        "lista_numeros"
      ],
      "metadata": {
        "colab": {
          "base_uri": "https://localhost:8080/"
        },
        "id": "7vXmQpBbmvBl",
        "outputId": "15185269-07c4-46eb-d8ba-5b16c5d43be7"
      },
      "execution_count": 131,
      "outputs": [
        {
          "output_type": "execute_result",
          "data": {
            "text/plain": [
              "[1, 6, 15, 21, 4, 9, 33]"
            ]
          },
          "metadata": {},
          "execution_count": 131
        }
      ]
    },
    {
      "cell_type": "code",
      "source": [
        "lista_numeros.sort ()\n",
        "lista_numeros"
      ],
      "metadata": {
        "colab": {
          "base_uri": "https://localhost:8080/"
        },
        "id": "KiSd_X8tmu9R",
        "outputId": "5bd5d8f6-cfb8-4a4f-df93-c9ea90053a6d"
      },
      "execution_count": 132,
      "outputs": [
        {
          "output_type": "execute_result",
          "data": {
            "text/plain": [
              "[1, 4, 6, 9, 15, 21, 33]"
            ]
          },
          "metadata": {},
          "execution_count": 132
        }
      ]
    },
    {
      "cell_type": "code",
      "source": [
        "lista_numeros.sort (reverse = True)\n",
        "lista_numeros"
      ],
      "metadata": {
        "colab": {
          "base_uri": "https://localhost:8080/"
        },
        "id": "C0uC6J3OmulB",
        "outputId": "75ba123c-4776-45af-fabe-e3f9c7b687a2"
      },
      "execution_count": 133,
      "outputs": [
        {
          "output_type": "execute_result",
          "data": {
            "text/plain": [
              "[33, 21, 15, 9, 6, 4, 1]"
            ]
          },
          "metadata": {},
          "execution_count": 133
        }
      ]
    },
    {
      "cell_type": "code",
      "source": [
        "lista_numeros [1:4]"
      ],
      "metadata": {
        "id": "4a0KI0eSmuiI",
        "colab": {
          "base_uri": "https://localhost:8080/"
        },
        "outputId": "96806ecc-075d-4333-9c0d-07dd6aabdd0b"
      },
      "execution_count": 134,
      "outputs": [
        {
          "output_type": "execute_result",
          "data": {
            "text/plain": [
              "[21, 15, 9]"
            ]
          },
          "metadata": {},
          "execution_count": 134
        }
      ]
    },
    {
      "cell_type": "markdown",
      "source": [
        "# reemplaza elementos de la lista"
      ],
      "metadata": {
        "id": "EAOHJ60Ny-cu"
      }
    },
    {
      "cell_type": "code",
      "source": [
        "lista_numeros[1:6] = [100, 200, 300,220,230]"
      ],
      "metadata": {
        "id": "ilP00jWbmufi"
      },
      "execution_count": 135,
      "outputs": []
    },
    {
      "cell_type": "code",
      "source": [
        "lista_numeros"
      ],
      "metadata": {
        "id": "5tYpPtGBmucn",
        "colab": {
          "base_uri": "https://localhost:8080/"
        },
        "outputId": "619105df-4df8-46c8-b5a6-5d282c8b8483"
      },
      "execution_count": 136,
      "outputs": [
        {
          "output_type": "execute_result",
          "data": {
            "text/plain": [
              "[33, 100, 200, 300, 220, 230, 1]"
            ]
          },
          "metadata": {},
          "execution_count": 136
        }
      ]
    },
    {
      "cell_type": "markdown",
      "source": [
        "# copiar una lista (y que la misma sea independiente de la original. Es decir, que los cambios en la primera no se hagan en la copia)"
      ],
      "metadata": {
        "id": "BdzR6caovuLj"
      }
    },
    {
      "cell_type": "code",
      "source": [
        "lista_numeros.copy ()"
      ],
      "metadata": {
        "id": "tJLs-D4wmuXN",
        "colab": {
          "base_uri": "https://localhost:8080/"
        },
        "outputId": "6da1e671-7ed3-4a4d-e3a4-2977dccb9b30"
      },
      "execution_count": 137,
      "outputs": [
        {
          "output_type": "execute_result",
          "data": {
            "text/plain": [
              "[33, 100, 200, 300, 220, 230, 1]"
            ]
          },
          "metadata": {},
          "execution_count": 137
        }
      ]
    },
    {
      "cell_type": "code",
      "source": [
        "nueva_lista2=lista_numeros.copy()\n",
        "nueva_lista2"
      ],
      "metadata": {
        "id": "9NANBvsmmuS_",
        "colab": {
          "base_uri": "https://localhost:8080/"
        },
        "outputId": "5972a6b9-de12-477a-a09c-82c994401903"
      },
      "execution_count": 138,
      "outputs": [
        {
          "output_type": "execute_result",
          "data": {
            "text/plain": [
              "[33, 100, 200, 300, 220, 230, 1]"
            ]
          },
          "metadata": {},
          "execution_count": 138
        }
      ]
    },
    {
      "cell_type": "code",
      "source": [
        "lista_numeros.append ('75000')"
      ],
      "metadata": {
        "id": "YnuIu7ufwp2Q"
      },
      "execution_count": 139,
      "outputs": []
    },
    {
      "cell_type": "code",
      "source": [
        "print (nueva_lista2)\n",
        "lista_numeros"
      ],
      "metadata": {
        "colab": {
          "base_uri": "https://localhost:8080/"
        },
        "id": "glkG4tZ0zprC",
        "outputId": "2dd3ee13-d1b6-4eb4-ee84-46330a8ff800"
      },
      "execution_count": 140,
      "outputs": [
        {
          "output_type": "stream",
          "name": "stdout",
          "text": [
            "[33, 100, 200, 300, 220, 230, 1]\n"
          ]
        },
        {
          "output_type": "execute_result",
          "data": {
            "text/plain": [
              "[33, 100, 200, 300, 220, 230, 1, '75000']"
            ]
          },
          "metadata": {},
          "execution_count": 140
        }
      ]
    },
    {
      "cell_type": "markdown",
      "source": [
        "# copiar una lista (y que la misma sea cambie, si lo hace la original. Es decir, que los cambios en la primera tambien sucedan en la copia)"
      ],
      "metadata": {
        "id": "grGgea05yYK5"
      }
    },
    {
      "cell_type": "code",
      "source": [
        "lista_3 = lista_numeros\n",
        "lista_3"
      ],
      "metadata": {
        "colab": {
          "base_uri": "https://localhost:8080/"
        },
        "id": "CkbhBX3uxuR6",
        "outputId": "cf164c6a-a3c9-4238-b310-3d92c284cd82"
      },
      "execution_count": 141,
      "outputs": [
        {
          "output_type": "execute_result",
          "data": {
            "text/plain": [
              "[33, 100, 200, 300, 220, 230, 1, '75000']"
            ]
          },
          "metadata": {},
          "execution_count": 141
        }
      ]
    },
    {
      "cell_type": "code",
      "source": [
        "lista_numeros.append ('75000')"
      ],
      "metadata": {
        "id": "R43y5xZUxuMz"
      },
      "execution_count": 142,
      "outputs": []
    },
    {
      "cell_type": "code",
      "source": [
        "lista_3"
      ],
      "metadata": {
        "colab": {
          "base_uri": "https://localhost:8080/"
        },
        "id": "zXJqQcmFzNG1",
        "outputId": "eef4ff01-0c08-4dba-8089-da47960ec2c3"
      },
      "execution_count": 143,
      "outputs": [
        {
          "output_type": "execute_result",
          "data": {
            "text/plain": [
              "[33, 100, 200, 300, 220, 230, 1, '75000', '75000']"
            ]
          },
          "metadata": {},
          "execution_count": 143
        }
      ]
    },
    {
      "cell_type": "code",
      "source": [
        "lista_numeros.insert (4,400)\n",
        "lista_3"
      ],
      "metadata": {
        "colab": {
          "base_uri": "https://localhost:8080/"
        },
        "id": "ctiwdCZ-1Q1Y",
        "outputId": "ddf0a522-ee6e-4fd6-c9fe-f4f288578248"
      },
      "execution_count": 144,
      "outputs": [
        {
          "output_type": "execute_result",
          "data": {
            "text/plain": [
              "[33, 100, 200, 300, 400, 220, 230, 1, '75000', '75000']"
            ]
          },
          "metadata": {},
          "execution_count": 144
        }
      ]
    },
    {
      "cell_type": "markdown",
      "source": [
        "## Diccionarios"
      ],
      "metadata": {
        "id": "ad-jk0MOzRY8"
      }
    },
    {
      "cell_type": "code",
      "source": [
        "notas = {'fabi':10, 'vero':9}"
      ],
      "metadata": {
        "id": "qhBVT59bxuIK"
      },
      "execution_count": 145,
      "outputs": []
    },
    {
      "cell_type": "code",
      "source": [
        "notas['fabi']"
      ],
      "metadata": {
        "colab": {
          "base_uri": "https://localhost:8080/"
        },
        "id": "J_NLx2IJxuCz",
        "outputId": "f39b3c27-54e8-4524-83e4-d99dc56821d0"
      },
      "execution_count": 146,
      "outputs": [
        {
          "output_type": "execute_result",
          "data": {
            "text/plain": [
              "10"
            ]
          },
          "metadata": {},
          "execution_count": 146
        }
      ]
    },
    {
      "cell_type": "code",
      "source": [
        "notas.keys ()"
      ],
      "metadata": {
        "colab": {
          "base_uri": "https://localhost:8080/"
        },
        "id": "uUn9Q01yqHlK",
        "outputId": "2f240f62-4485-443e-c14e-f46d5157e1ed"
      },
      "execution_count": 147,
      "outputs": [
        {
          "output_type": "execute_result",
          "data": {
            "text/plain": [
              "dict_keys(['fabi', 'vero'])"
            ]
          },
          "metadata": {},
          "execution_count": 147
        }
      ]
    },
    {
      "cell_type": "code",
      "source": [
        "notas.values()"
      ],
      "metadata": {
        "colab": {
          "base_uri": "https://localhost:8080/"
        },
        "id": "kA-EvzGFxtzL",
        "outputId": "8f5e6529-1999-4a9d-ec6e-1debbfa4ec66"
      },
      "execution_count": 148,
      "outputs": [
        {
          "output_type": "execute_result",
          "data": {
            "text/plain": [
              "dict_values([10, 9])"
            ]
          },
          "metadata": {},
          "execution_count": 148
        }
      ]
    },
    {
      "cell_type": "code",
      "source": [
        "notas.items()"
      ],
      "metadata": {
        "colab": {
          "base_uri": "https://localhost:8080/"
        },
        "id": "SsuudHrAqzMa",
        "outputId": "827ce4ff-6db9-45f3-93b2-cb6ddbdcefd1"
      },
      "execution_count": 149,
      "outputs": [
        {
          "output_type": "execute_result",
          "data": {
            "text/plain": [
              "dict_items([('fabi', 10), ('vero', 9)])"
            ]
          },
          "metadata": {},
          "execution_count": 149
        }
      ]
    },
    {
      "cell_type": "code",
      "source": [
        "notas"
      ],
      "metadata": {
        "colab": {
          "base_uri": "https://localhost:8080/"
        },
        "id": "GfWxER2VqzDM",
        "outputId": "8eb145d1-e053-4aef-aa41-16d29b6642d7"
      },
      "execution_count": 150,
      "outputs": [
        {
          "output_type": "execute_result",
          "data": {
            "text/plain": [
              "{'fabi': 10, 'vero': 9}"
            ]
          },
          "metadata": {},
          "execution_count": 150
        }
      ]
    },
    {
      "cell_type": "code",
      "source": [
        "notas ['eli'] = 5"
      ],
      "metadata": {
        "id": "OQ-q_1jDqy8u"
      },
      "execution_count": 151,
      "outputs": []
    },
    {
      "cell_type": "code",
      "source": [
        "notas"
      ],
      "metadata": {
        "colab": {
          "base_uri": "https://localhost:8080/"
        },
        "id": "pvhQjpLuqyyy",
        "outputId": "1957b3f7-8498-49a4-dd67-1a5cea35efb9"
      },
      "execution_count": 152,
      "outputs": [
        {
          "output_type": "execute_result",
          "data": {
            "text/plain": [
              "{'eli': 5, 'fabi': 10, 'vero': 9}"
            ]
          },
          "metadata": {},
          "execution_count": 152
        }
      ]
    },
    {
      "cell_type": "markdown",
      "source": [
        "# if, elif, else"
      ],
      "metadata": {
        "id": "oEojBzyxJYIW"
      }
    },
    {
      "cell_type": "code",
      "source": [
        "sueldo = 85000"
      ],
      "metadata": {
        "id": "WJ3S--IpI448"
      },
      "execution_count": 186,
      "outputs": []
    },
    {
      "cell_type": "code",
      "source": [
        "if sueldo>=110000:\n",
        "  print (\"eres afortunado\")\n",
        "elif sueldo>=80000:\n",
        "  print (\"estas mejor qque muchos\")\n",
        "else: \n",
        "  print (\"deberias buscar un empleo donde te paguen mejor\")\n"
      ],
      "metadata": {
        "colab": {
          "base_uri": "https://localhost:8080/"
        },
        "id": "zrXLDCIXI41G",
        "outputId": "27b7d674-aa0f-408f-c4aa-7846deaf0375"
      },
      "execution_count": 187,
      "outputs": [
        {
          "output_type": "stream",
          "name": "stdout",
          "text": [
            "estas mejor qque muchos\n"
          ]
        }
      ]
    },
    {
      "cell_type": "code",
      "source": [
        ""
      ],
      "metadata": {
        "id": "1DnjXIIcI4vG"
      },
      "execution_count": null,
      "outputs": []
    },
    {
      "cell_type": "code",
      "source": [
        ""
      ],
      "metadata": {
        "id": "5rsln-L5I4m1"
      },
      "execution_count": null,
      "outputs": []
    },
    {
      "cell_type": "code",
      "source": [
        ""
      ],
      "metadata": {
        "id": "Kx0ia6DKI4P1"
      },
      "execution_count": null,
      "outputs": []
    }
  ]
}