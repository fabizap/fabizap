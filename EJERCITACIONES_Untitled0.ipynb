{
  "nbformat": 4,
  "nbformat_minor": 0,
  "metadata": {
    "colab": {
      "name": "EJERCITACIONES Untitled0.ipynb",
      "provenance": [],
      "authorship_tag": "ABX9TyMK2clrJ3Pt0UNzuVKQn/ev",
      "include_colab_link": true
    },
    "kernelspec": {
      "name": "python3",
      "display_name": "Python 3"
    },
    "language_info": {
      "name": "python"
    }
  },
  "cells": [
    {
      "cell_type": "markdown",
      "metadata": {
        "id": "view-in-github",
        "colab_type": "text"
      },
      "source": [
        "<a href=\"https://colab.research.google.com/github/fabizap/fabizap/blob/main/EJERCITACIONES_Untitled0.ipynb\" target=\"_parent\"><img src=\"https://colab.research.google.com/assets/colab-badge.svg\" alt=\"Open In Colab\"/></a>"
      ]
    },
    {
      "cell_type": "markdown",
      "source": [
        "### Practica 1\n",
        "Llamar libreria, Uso de condicionales. Imprimir\n"
      ],
      "metadata": {
        "id": "3q3h5WR4f8be"
      }
    },
    {
      "cell_type": "code",
      "execution_count": 1,
      "metadata": {
        "colab": {
          "base_uri": "https://localhost:8080/"
        },
        "id": "sKsVr1tGfLCZ",
        "outputId": "8009194e-5f67-4b63-c7ac-86221959fde6"
      },
      "outputs": [
        {
          "output_type": "stream",
          "name": "stdout",
          "text": [
            "-58\n",
            "MENOR Q 3\n"
          ]
        }
      ],
      "source": [
        "## Primeros pasos!! woooow!! vaaaaaamosss TITAN!!\n",
        "import random\n",
        "x = random.randint(-100, 10)\n",
        "print (x)\n",
        "\n",
        "if x > 3:\n",
        "  print(\"MAY Q 3\")\n",
        "elif x < 3:\n",
        "  print(\"MENOR Q 3\")\n",
        "else:\n",
        "  print('igual 3')"
      ]
    },
    {
      "cell_type": "markdown",
      "source": [
        "#Practica 1\n",
        "Lazos\n",
        "sumar 10 numeros aleatorios"
      ],
      "metadata": {
        "id": "mzKrhemuvZbS"
      }
    },
    {
      "cell_type": "code",
      "source": [
        "import random\n",
        "x = 0\n",
        "for i in range (10):\n",
        "  x = x + random.randint (1, 3)\n",
        "  print (x)\n",
        "print (x)"
      ],
      "metadata": {
        "colab": {
          "base_uri": "https://localhost:8080/"
        },
        "id": "75ukIpSUvr3o",
        "outputId": "cd4c1411-8d0a-42bb-adfd-0a388b2a1348"
      },
      "execution_count": 2,
      "outputs": [
        {
          "output_type": "stream",
          "name": "stdout",
          "text": [
            "3\n",
            "4\n",
            "7\n",
            "8\n",
            "9\n",
            "11\n",
            "14\n",
            "15\n",
            "17\n",
            "20\n",
            "20\n"
          ]
        }
      ]
    },
    {
      "cell_type": "code",
      "source": [
        "import random\n",
        "x = 0\n",
        "for i in range (1, 10):\n",
        "  x = x + random.randint (1, 3)\n",
        "  print (i)\n",
        "print (x)"
      ],
      "metadata": {
        "colab": {
          "base_uri": "https://localhost:8080/"
        },
        "outputId": "de876297-3d2b-4848-aabe-de3c19de0f25",
        "id": "cUbNnezgzNmn"
      },
      "execution_count": 3,
      "outputs": [
        {
          "output_type": "stream",
          "name": "stdout",
          "text": [
            "1\n",
            "2\n",
            "3\n",
            "4\n",
            "5\n",
            "6\n",
            "7\n",
            "8\n",
            "9\n",
            "21\n"
          ]
        }
      ]
    },
    {
      "cell_type": "code",
      "source": [
        "import random ##imprime el aleatorio, la suma parcial, y la suma total\n",
        "x = 0\n",
        "for i in range (1, 10):\n",
        "  aleatorio = random.randint (1, 3)\n",
        "  x = x + aleatorio\n",
        "  print (\"El aleatorio\", i,\"es: \", aleatorio)\n",
        "  print (\"La suma parcial es:\", x)\n",
        "print (\"La suma total es:\", x)"
      ],
      "metadata": {
        "colab": {
          "base_uri": "https://localhost:8080/"
        },
        "outputId": "d4ee6a9d-cc5d-47f5-f321-b4ff9fa9d0cf",
        "id": "kWebYfm0zPZs"
      },
      "execution_count": 4,
      "outputs": [
        {
          "output_type": "stream",
          "name": "stdout",
          "text": [
            "El aleatorio 1 es:  3\n",
            "La suma parcial es: 3\n",
            "El aleatorio 2 es:  3\n",
            "La suma parcial es: 6\n",
            "El aleatorio 3 es:  2\n",
            "La suma parcial es: 8\n",
            "El aleatorio 4 es:  1\n",
            "La suma parcial es: 9\n",
            "El aleatorio 5 es:  2\n",
            "La suma parcial es: 11\n",
            "El aleatorio 6 es:  3\n",
            "La suma parcial es: 14\n",
            "El aleatorio 7 es:  3\n",
            "La suma parcial es: 17\n",
            "El aleatorio 8 es:  2\n",
            "La suma parcial es: 19\n",
            "El aleatorio 9 es:  3\n",
            "La suma parcial es: 22\n",
            "La suma total es: 22\n"
          ]
        }
      ]
    },
    {
      "cell_type": "markdown",
      "source": [
        "#PRACTICA 3\n",
        "Lazo while\n"
      ],
      "metadata": {
        "id": "db_T1vX-5Ybx"
      }
    },
    {
      "cell_type": "code",
      "source": [
        "## Busca un número aleatorio igual a 5\n",
        "## imprime el aleatorio\n",
        "#muestra la cantidad de nuemros aleatorios hasta que aparece el 5\n",
        "\n",
        "import random\n",
        "cont = 0\n",
        "x = 0\n",
        "while x != 2:\n",
        "  x = random.randint(-3, 3)\n",
        "  cont = cont + 1\n",
        "  print (\"Iteracion numero:\", cont)\n",
        "  print (\"Valor nuemero aleatorio:\", x)\n",
        "print (\"Se hallo el aleatorio igual a:\", x)"
      ],
      "metadata": {
        "colab": {
          "base_uri": "https://localhost:8080/"
        },
        "id": "09NRI7Ez5jTF",
        "outputId": "eda8494a-9e3c-4d4a-a0d4-1f69a32562bc"
      },
      "execution_count": 17,
      "outputs": [
        {
          "output_type": "stream",
          "name": "stdout",
          "text": [
            "Iteracion numero: 1\n",
            "Valor nuemero aleatorio: -1\n",
            "Iteracion numero: 2\n",
            "Valor nuemero aleatorio: 3\n",
            "Iteracion numero: 3\n",
            "Valor nuemero aleatorio: 0\n",
            "Iteracion numero: 4\n",
            "Valor nuemero aleatorio: 1\n",
            "Iteracion numero: 5\n",
            "Valor nuemero aleatorio: 2\n",
            "Se hallo el aleatorio igual a: 2\n"
          ]
        }
      ]
    }
  ]
}