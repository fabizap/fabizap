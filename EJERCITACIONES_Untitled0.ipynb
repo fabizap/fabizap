{
  "nbformat": 4,
  "nbformat_minor": 0,
  "metadata": {
    "colab": {
      "name": "EJERCITACIONES Untitled0.ipynb",
      "provenance": [],
      "collapsed_sections": [],
      "authorship_tag": "ABX9TyOhf2LOC7ZgRPcHrRrlMkFX",
      "include_colab_link": true
    },
    "kernelspec": {
      "name": "python3",
      "display_name": "Python 3"
    },
    "language_info": {
      "name": "python"
    }
  },
  "cells": [
    {
      "cell_type": "markdown",
      "metadata": {
        "id": "view-in-github",
        "colab_type": "text"
      },
      "source": [
        "<a href=\"https://colab.research.google.com/github/fabizap/fabizap/blob/main/EJERCITACIONES_Untitled0.ipynb\" target=\"_parent\"><img src=\"https://colab.research.google.com/assets/colab-badge.svg\" alt=\"Open In Colab\"/></a>"
      ]
    },
    {
      "cell_type": "markdown",
      "source": [
        "### Practica 1\n",
        "Llamar libreria, Uso de condicionales. Imprimir\n"
      ],
      "metadata": {
        "id": "3q3h5WR4f8be"
      }
    },
    {
      "cell_type": "code",
      "execution_count": 199,
      "metadata": {
        "colab": {
          "base_uri": "https://localhost:8080/"
        },
        "id": "sKsVr1tGfLCZ",
        "outputId": "3650a6b2-f064-4cfa-a3e1-382591823b8c"
      },
      "outputs": [
        {
          "output_type": "stream",
          "name": "stdout",
          "text": [
            "-69\n",
            "MENOR Q 3\n"
          ]
        }
      ],
      "source": [
        "## Primeros pasos!! woooow!! vaaaaaamosss TITAN!!\n",
        "import random\n",
        "x = random.randint(-100, 10)\n",
        "print (x)\n",
        "\n",
        "if x > 3:\n",
        "  print(\"MAY Q 3\")\n",
        "elif x < 3:\n",
        "  print(\"MENOR Q 3\")\n",
        "else:\n",
        "  print('igual 3')"
      ]
    },
    {
      "cell_type": "markdown",
      "source": [
        "#Practica 1\n",
        "Lazos\n",
        "sumar 10 numeros aleatorios"
      ],
      "metadata": {
        "id": "mzKrhemuvZbS"
      }
    },
    {
      "cell_type": "code",
      "source": [
        "import random\n",
        "x = 0\n",
        "for i in range (10):\n",
        "  x = x + random.randint (1, 3)\n",
        "  print (x)\n",
        "print (x)"
      ],
      "metadata": {
        "colab": {
          "base_uri": "https://localhost:8080/"
        },
        "id": "75ukIpSUvr3o",
        "outputId": "a51949b8-5f8e-49d7-e5e1-378a9dbc6272"
      },
      "execution_count": 200,
      "outputs": [
        {
          "output_type": "stream",
          "name": "stdout",
          "text": [
            "2\n",
            "3\n",
            "4\n",
            "7\n",
            "8\n",
            "10\n",
            "13\n",
            "16\n",
            "17\n",
            "20\n",
            "20\n"
          ]
        }
      ]
    },
    {
      "cell_type": "code",
      "source": [
        "import random\n",
        "x = 0\n",
        "for i in range (1, 10):\n",
        "  x = x + random.randint (1, 3)\n",
        "  print (i)\n",
        "print (x)"
      ],
      "metadata": {
        "colab": {
          "base_uri": "https://localhost:8080/"
        },
        "outputId": "33895c4c-b479-4c82-ec8a-f848f1bf5fb4",
        "id": "cUbNnezgzNmn"
      },
      "execution_count": 201,
      "outputs": [
        {
          "output_type": "stream",
          "name": "stdout",
          "text": [
            "1\n",
            "2\n",
            "3\n",
            "4\n",
            "5\n",
            "6\n",
            "7\n",
            "8\n",
            "9\n",
            "17\n"
          ]
        }
      ]
    },
    {
      "cell_type": "code",
      "source": [
        "import random ##imprime el aleatorio, la suma parcial, y la suma total\n",
        "x = 0\n",
        "for i in range (1, 10):\n",
        "  aleatorio = random.randint (1, 3)\n",
        "  x = x + aleatorio\n",
        "  print (\"El aleatorio\", i,\"es: \", aleatorio)\n",
        "  print (\"La suma parcial es:\", x)\n",
        "print (\"La suma total es:\", x)"
      ],
      "metadata": {
        "colab": {
          "base_uri": "https://localhost:8080/"
        },
        "outputId": "240a14ad-39d1-4474-9107-673b3bd13f1d",
        "id": "kWebYfm0zPZs"
      },
      "execution_count": 202,
      "outputs": [
        {
          "output_type": "stream",
          "name": "stdout",
          "text": [
            "El aleatorio 1 es:  3\n",
            "La suma parcial es: 3\n",
            "El aleatorio 2 es:  1\n",
            "La suma parcial es: 4\n",
            "El aleatorio 3 es:  3\n",
            "La suma parcial es: 7\n",
            "El aleatorio 4 es:  2\n",
            "La suma parcial es: 9\n",
            "El aleatorio 5 es:  2\n",
            "La suma parcial es: 11\n",
            "El aleatorio 6 es:  1\n",
            "La suma parcial es: 12\n",
            "El aleatorio 7 es:  1\n",
            "La suma parcial es: 13\n",
            "El aleatorio 8 es:  2\n",
            "La suma parcial es: 15\n",
            "El aleatorio 9 es:  2\n",
            "La suma parcial es: 17\n",
            "La suma total es: 17\n"
          ]
        }
      ]
    },
    {
      "cell_type": "markdown",
      "source": [
        "#PRACTICA 3\n",
        "Lazo while\n"
      ],
      "metadata": {
        "id": "db_T1vX-5Ybx"
      }
    },
    {
      "cell_type": "code",
      "source": [
        "## Busca un número aleatorio igual a 5\n",
        "## imprime el aleatorio\n",
        "#muestra la cantidad de nuemros aleatorios hasta que aparece el 5\n",
        "\n",
        "import random\n",
        "cont = 0\n",
        "x = 0\n",
        "while x != 2:\n",
        "  x = random.randint(-3, 3)\n",
        "  cont = cont + 1\n",
        "  print (\"Iteracion numero:\", cont)\n",
        "  print (\"Valor nuemero aleatorio:\", x)\n",
        "print (\"Se hallo el aleatorio igual a:\", x)"
      ],
      "metadata": {
        "colab": {
          "base_uri": "https://localhost:8080/"
        },
        "id": "09NRI7Ez5jTF",
        "outputId": "53d39ad9-817c-4db3-fed7-0a950d12201e"
      },
      "execution_count": 203,
      "outputs": [
        {
          "output_type": "stream",
          "name": "stdout",
          "text": [
            "Iteracion numero: 1\n",
            "Valor nuemero aleatorio: 2\n",
            "Se hallo el aleatorio igual a: 2\n"
          ]
        }
      ]
    },
    {
      "cell_type": "markdown",
      "source": [
        "##Practica 4 LISTAS\n",
        "creacion de una lista"
      ],
      "metadata": {
        "id": "RRanMIIJXoSZ"
      }
    },
    {
      "cell_type": "code",
      "source": [
        "numeros = [2, 9, 5, 4, 11] #creo lista\n",
        "print (numeros[-5]) #imprimo el 5to elemnto de derecha a izquierda ( a esto se le llama INDEXACION)\n",
        "print (numeros[1]) #imprimo el 2do elemnto de izquierda a derecha\n"
      ],
      "metadata": {
        "colab": {
          "base_uri": "https://localhost:8080/"
        },
        "id": "LdSOaI2LXx1Q",
        "outputId": "e3adae7f-850c-4dc9-c661-0a39d0a76490"
      },
      "execution_count": 204,
      "outputs": [
        {
          "output_type": "stream",
          "name": "stdout",
          "text": [
            "2\n",
            "9\n"
          ]
        }
      ]
    },
    {
      "cell_type": "markdown",
      "source": [
        "append\n",
        "\n",
        "Agrego un numero a la lista (al final)"
      ],
      "metadata": {
        "id": "ksVuPWML_Ts3"
      }
    },
    {
      "cell_type": "code",
      "source": [
        "numeros.append (1000)\n",
        "print (numeros)"
      ],
      "metadata": {
        "colab": {
          "base_uri": "https://localhost:8080/"
        },
        "id": "ihuvTp8V_Soc",
        "outputId": "c2634b18-4515-40d7-8193-9592ae7f4439"
      },
      "execution_count": 205,
      "outputs": [
        {
          "output_type": "stream",
          "name": "stdout",
          "text": [
            "[2, 9, 5, 4, 11, 1000]\n"
          ]
        }
      ]
    },
    {
      "cell_type": "markdown",
      "source": [
        "remove\n",
        "\n",
        "Elimino un numero de la lista\n",
        "sabiendo valor del numero"
      ],
      "metadata": {
        "id": "9JWkjdswhYgR"
      }
    },
    {
      "cell_type": "code",
      "source": [
        "numeros = [2, 9, 5, 4, 9, 11] #creo lista\n",
        "numeros.remove(9) ##Elimino un (solo) número de la lista sabiendo valor del numero\n",
        "print (numeros) "
      ],
      "metadata": {
        "colab": {
          "base_uri": "https://localhost:8080/"
        },
        "outputId": "5b997d4d-902a-4c7c-9593-19e866cbd46d",
        "id": "9c1n-BFrgR5U"
      },
      "execution_count": 206,
      "outputs": [
        {
          "output_type": "stream",
          "name": "stdout",
          "text": [
            "[2, 5, 4, 9, 11]\n"
          ]
        }
      ]
    },
    {
      "cell_type": "markdown",
      "source": [
        "pop\n",
        "\n",
        "Elimino un número de la lista sabiendo su POSICION del nuemero"
      ],
      "metadata": {
        "id": "9WEgMch7hmZy"
      }
    },
    {
      "cell_type": "code",
      "source": [
        "numeros = [2, 9, 5, 4, 9, 11] #creo lista\n",
        "numeros.pop(0) ##Elimino un nuemero de la lista sabiendo POSICION del numero\n",
        "print (numeros) "
      ],
      "metadata": {
        "colab": {
          "base_uri": "https://localhost:8080/"
        },
        "outputId": "05a1eb05-f757-4f50-a0b7-65f52119a43a",
        "id": "O1xmYw-khvIc"
      },
      "execution_count": 207,
      "outputs": [
        {
          "output_type": "stream",
          "name": "stdout",
          "text": [
            "[9, 5, 4, 9, 11]\n"
          ]
        }
      ]
    },
    {
      "cell_type": "markdown",
      "source": [
        "Cambio un valor dentro de la lista,por su posicion"
      ],
      "metadata": {
        "id": "X-RqZ9fTm-Fi"
      }
    },
    {
      "cell_type": "code",
      "source": [
        "numeros[-4] = 25 ## cambia el valor en la posicion indcada\n",
        "print (numeros)\n",
        "\n",
        "numeros [2] += 10 ## edita el valor del elemetno en la posicion 2\n",
        "print (numeros)"
      ],
      "metadata": {
        "colab": {
          "base_uri": "https://localhost:8080/"
        },
        "id": "xXkeFFonnBpa",
        "outputId": "30a140ec-fdae-4696-c4ec-08488a59585a"
      },
      "execution_count": 208,
      "outputs": [
        {
          "output_type": "stream",
          "name": "stdout",
          "text": [
            "[9, 25, 4, 9, 11]\n",
            "[9, 25, 14, 9, 11]\n"
          ]
        }
      ]
    },
    {
      "cell_type": "markdown",
      "source": [
        ""
      ],
      "metadata": {
        "id": "Rl8fZDA3oQau"
      }
    },
    {
      "cell_type": "markdown",
      "source": [
        "len\n",
        "\n",
        "Permite conocer la cantidad de elementos de la coleccion o arreglo"
      ],
      "metadata": {
        "id": "0u0s4MAgoyf2"
      }
    },
    {
      "cell_type": "code",
      "source": [
        "print (len (numeros) )\n",
        "print (\"La lista contiene:\", (len (numeros)), \"elementos\")"
      ],
      "metadata": {
        "colab": {
          "base_uri": "https://localhost:8080/"
        },
        "id": "uD7SHNJjo6NF",
        "outputId": "81cf12f7-b55e-4d02-f45d-b60a7bf180f3"
      },
      "execution_count": 209,
      "outputs": [
        {
          "output_type": "stream",
          "name": "stdout",
          "text": [
            "5\n",
            "La lista contiene: 5 elementos\n"
          ]
        }
      ]
    },
    {
      "cell_type": "markdown",
      "source": [
        "index\n",
        "\n",
        "saber en que posicion se encuentra un valor "
      ],
      "metadata": {
        "id": "0QwF_zBnsZ3C"
      }
    },
    {
      "cell_type": "code",
      "source": [
        "print (numeros)\n",
        "print (numeros.index (9))"
      ],
      "metadata": {
        "colab": {
          "base_uri": "https://localhost:8080/"
        },
        "id": "YBYLVYUxsj3L",
        "outputId": "72d0b968-48c7-425d-cca9-3ace6859143a"
      },
      "execution_count": 210,
      "outputs": [
        {
          "output_type": "stream",
          "name": "stdout",
          "text": [
            "[9, 25, 14, 9, 11]\n",
            "0\n"
          ]
        }
      ]
    },
    {
      "cell_type": "code",
      "source": [
        "print (9 in (numeros)) #para ver si un elemento se encuentra en la lista "
      ],
      "metadata": {
        "colab": {
          "base_uri": "https://localhost:8080/"
        },
        "id": "EQekYqZ6t23X",
        "outputId": "e0ac773d-f0d8-42b2-bc26-cb689c7ef124"
      },
      "execution_count": 211,
      "outputs": [
        {
          "output_type": "stream",
          "name": "stdout",
          "text": [
            "True\n"
          ]
        }
      ]
    },
    {
      "cell_type": "code",
      "source": [
        "numeros.sort() #ordena ascendente, de men a may\n",
        "print (\"De menor a mayor:\", (numeros))\n",
        "numeros.reverse() #ordena descendente, de may a men\n",
        "print (\"De mayor a menor:\", (numeros))"
      ],
      "metadata": {
        "colab": {
          "base_uri": "https://localhost:8080/"
        },
        "id": "xprGQlQyuHe2",
        "outputId": "72910772-1381-4fac-dcd0-9467c3953743"
      },
      "execution_count": 212,
      "outputs": [
        {
          "output_type": "stream",
          "name": "stdout",
          "text": [
            "De menor a mayor: [9, 9, 11, 14, 25]\n",
            "De mayor a menor: [25, 14, 11, 9, 9]\n"
          ]
        }
      ]
    },
    {
      "cell_type": "code",
      "source": [
        "for elem in numeros: #recorre la lista de elementos\n",
        "  print (elem) #recorro lisa usando valores"
      ],
      "metadata": {
        "colab": {
          "base_uri": "https://localhost:8080/"
        },
        "id": "nhUr8RqXv7aY",
        "outputId": "a6234e22-2cdc-4b52-ded5-ce1fdeaceec9"
      },
      "execution_count": 213,
      "outputs": [
        {
          "output_type": "stream",
          "name": "stdout",
          "text": [
            "25\n",
            "14\n",
            "11\n",
            "9\n",
            "9\n"
          ]
        }
      ]
    },
    {
      "cell_type": "code",
      "source": [
        "for i in range(len(numeros)):\n",
        "  print (i) #muestra los indices de los valores"
      ],
      "metadata": {
        "colab": {
          "base_uri": "https://localhost:8080/"
        },
        "id": "Ylws_dRV8iio",
        "outputId": "c7d9532f-d2f6-4380-fc66-37e9150542e3"
      },
      "execution_count": 214,
      "outputs": [
        {
          "output_type": "stream",
          "name": "stdout",
          "text": [
            "0\n",
            "1\n",
            "2\n",
            "3\n",
            "4\n"
          ]
        }
      ]
    },
    {
      "cell_type": "code",
      "source": [
        "for i in range(len(numeros)):\n",
        "  print (numeros[i]) #recorro lista usando indices"
      ],
      "metadata": {
        "colab": {
          "base_uri": "https://localhost:8080/"
        },
        "id": "HAS93VU79x-I",
        "outputId": "50f8b306-3c60-44e6-ed1b-d3d047d58c65"
      },
      "execution_count": 216,
      "outputs": [
        {
          "output_type": "stream",
          "name": "stdout",
          "text": [
            "25\n",
            "14\n",
            "11\n",
            "9\n",
            "9\n"
          ]
        }
      ]
    },
    {
      "cell_type": "code",
      "source": [
        ""
      ],
      "metadata": {
        "id": "6a2K0RTH8ihO"
      },
      "execution_count": 216,
      "outputs": []
    }
  ]
}