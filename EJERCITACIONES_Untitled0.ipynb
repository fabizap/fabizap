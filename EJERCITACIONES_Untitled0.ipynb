{
  "nbformat": 4,
  "nbformat_minor": 0,
  "metadata": {
    "colab": {
      "name": "EJERCITACIONES Untitled0.ipynb",
      "provenance": [],
      "authorship_tag": "ABX9TyP2TYZNTZON/xBIZ7/QGHkv",
      "include_colab_link": true
    },
    "kernelspec": {
      "name": "python3",
      "display_name": "Python 3"
    },
    "language_info": {
      "name": "python"
    }
  },
  "cells": [
    {
      "cell_type": "markdown",
      "metadata": {
        "id": "view-in-github",
        "colab_type": "text"
      },
      "source": [
        "<a href=\"https://colab.research.google.com/github/fabizap/fabizap/blob/main/EJERCITACIONES_Untitled0.ipynb\" target=\"_parent\"><img src=\"https://colab.research.google.com/assets/colab-badge.svg\" alt=\"Open In Colab\"/></a>"
      ]
    },
    {
      "cell_type": "markdown",
      "source": [
        "### Practica 1\n",
        "Llamar libreria, Uso de condicionales. Imprimir\n"
      ],
      "metadata": {
        "id": "3q3h5WR4f8be"
      }
    },
    {
      "cell_type": "code",
      "execution_count": 1,
      "metadata": {
        "colab": {
          "base_uri": "https://localhost:8080/"
        },
        "id": "sKsVr1tGfLCZ",
        "outputId": "a223dbcf-7884-4760-8cd2-01b466780d1b"
      },
      "outputs": [
        {
          "output_type": "stream",
          "name": "stdout",
          "text": [
            "-91\n",
            "MENOR Q 3\n"
          ]
        }
      ],
      "source": [
        "## Primeros pasos!! woooow!! vaaaaaamosss TITAN!!\n",
        "import random\n",
        "x = random.randint(-100, 10)\n",
        "print (x)\n",
        "\n",
        "if x > 3:\n",
        "  print(\"MAY Q 3\")\n",
        "elif x < 3:\n",
        "  print(\"MENOR Q 3\")\n",
        "else:\n",
        "  print('igual 3')"
      ]
    },
    {
      "cell_type": "markdown",
      "source": [
        "#Practica 1\n",
        "Lazos\n",
        "sumar 10 numeros aleatorios"
      ],
      "metadata": {
        "id": "mzKrhemuvZbS"
      }
    },
    {
      "cell_type": "code",
      "source": [
        "import random\n",
        "x = 0\n",
        "for i in range (1, 10):\n",
        "\n",
        "  x = x + random.randint (1, 3)\n",
        "  print ()\n",
        "print (x)"
      ],
      "metadata": {
        "colab": {
          "base_uri": "https://localhost:8080/"
        },
        "id": "75ukIpSUvr3o",
        "outputId": "47eeaa31-5ae1-4879-82ab-c658e839ff93"
      },
      "execution_count": 29,
      "outputs": [
        {
          "output_type": "stream",
          "name": "stdout",
          "text": [
            "2\n",
            "5\n",
            "8\n",
            "10\n",
            "13\n",
            "16\n",
            "17\n",
            "19\n",
            "22\n",
            "22\n"
          ]
        }
      ]
    },
    {
      "cell_type": "code",
      "source": [
        "import random\n",
        "x = 0\n",
        "for i in range (1, 10):\n",
        "\n",
        "  x = x + random.randint (1, 3)\n",
        "  print ()\n",
        "print (x)"
      ],
      "metadata": {
        "colab": {
          "base_uri": "https://localhost:8080/"
        },
        "outputId": "47eeaa31-5ae1-4879-82ab-c658e839ff93",
        "id": "cUbNnezgzNmn"
      },
      "execution_count": null,
      "outputs": [
        {
          "output_type": "stream",
          "name": "stdout",
          "text": [
            "2\n",
            "5\n",
            "8\n",
            "10\n",
            "13\n",
            "16\n",
            "17\n",
            "19\n",
            "22\n",
            "22\n"
          ]
        }
      ]
    },
    {
      "cell_type": "code",
      "source": [
        "import random ##imprime el aleatorio, la suma parcial, y la suma total\n",
        "x = 0\n",
        "for i in range (1, 10):\n",
        "  aleatorio = random.randint (1, 3)\n",
        "  x = x + aleatorio\n",
        "  print (\"El aleatorio\", i,\"es: \", aleatorio)\n",
        "  print (\"La suma parcial es:\", x)\n",
        "print (\"La suma total es:\", x)"
      ],
      "metadata": {
        "colab": {
          "base_uri": "https://localhost:8080/"
        },
        "outputId": "3bb44877-fc1a-416c-be69-2c7f381b25d7",
        "id": "kWebYfm0zPZs"
      },
      "execution_count": 34,
      "outputs": [
        {
          "output_type": "stream",
          "name": "stdout",
          "text": [
            "El aleatorio 1 es:  2\n",
            "La suma parcial es: 2\n",
            "El aleatorio 2 es:  1\n",
            "La suma parcial es: 3\n",
            "El aleatorio 3 es:  3\n",
            "La suma parcial es: 6\n",
            "El aleatorio 4 es:  1\n",
            "La suma parcial es: 7\n",
            "El aleatorio 5 es:  3\n",
            "La suma parcial es: 10\n",
            "El aleatorio 6 es:  2\n",
            "La suma parcial es: 12\n",
            "El aleatorio 7 es:  2\n",
            "La suma parcial es: 14\n",
            "El aleatorio 8 es:  1\n",
            "La suma parcial es: 15\n",
            "El aleatorio 9 es:  1\n",
            "La suma parcial es: 16\n",
            "La suma total es: 16\n"
          ]
        }
      ]
    }
  ]
}