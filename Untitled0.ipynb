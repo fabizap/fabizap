{
  "nbformat": 4,
  "nbformat_minor": 0,
  "metadata": {
    "colab": {
      "name": "Untitled0.ipynb",
      "provenance": [],
      "authorship_tag": "ABX9TyMBDBEiUVK0qiDG/zeAlec4",
      "include_colab_link": true
    },
    "kernelspec": {
      "name": "python3",
      "display_name": "Python 3"
    },
    "language_info": {
      "name": "python"
    }
  },
  "cells": [
    {
      "cell_type": "markdown",
      "metadata": {
        "id": "view-in-github",
        "colab_type": "text"
      },
      "source": [
        "<a href=\"https://colab.research.google.com/github/fabizap/fabizap/blob/main/Untitled0.ipynb\" target=\"_parent\"><img src=\"https://colab.research.google.com/assets/colab-badge.svg\" alt=\"Open In Colab\"/></a>"
      ]
    },
    {
      "cell_type": "markdown",
      "source": [
        "# PRACTICA 1\n",
        "Llamando funcion, uso de condicionales, imprimir"
      ],
      "metadata": {
        "id": "xj8w9EO5kCWb"
      }
    },
    {
      "cell_type": "code",
      "execution_count": null,
      "metadata": {
        "colab": {
          "base_uri": "https://localhost:8080/"
        },
        "id": "sKsVr1tGfLCZ",
        "outputId": "a223dbcf-7884-4760-8cd2-01b466780d1b"
      },
      "outputs": [
        {
          "output_type": "stream",
          "name": "stdout",
          "text": [
            "-91\n",
            "MENOR Q 3\n"
          ]
        }
      ],
      "source": [
        "## Primeros pasos!! woooow!! vaaaaaamosss TITAN!!\n",
        "import random\n",
        "x = random.randint(-100, 10)\n",
        "print (x)\n",
        "\n",
        "if x > 3:\n",
        "  print(\"MAY Q 3\")\n",
        "elif x < 3:\n",
        "  print(\"MENOR Q 3\")\n",
        "else:\n",
        "  print('igual 3')"
      ]
    },
    {
      "cell_type": "markdown",
      "source": [
        ""
      ],
      "metadata": {
        "id": "dpju0ko1kAzU"
      }
    }
  ]
}