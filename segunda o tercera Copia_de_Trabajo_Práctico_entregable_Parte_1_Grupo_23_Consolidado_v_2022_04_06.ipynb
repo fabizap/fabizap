{
  "nbformat": 4,
  "nbformat_minor": 0,
  "metadata": {
    "colab": {
      "name": "Copia de Trabajo Práctico entregable - Parte 1 - Grupo 23 - Consolidado v.2022.04.06",
      "provenance": [],
      "collapsed_sections": [],
      "include_colab_link": true
    },
    "kernelspec": {
      "name": "python3",
      "display_name": "Python 3"
    }
  },
  "cells": [
    {
      "cell_type": "markdown",
      "metadata": {
        "id": "view-in-github",
        "colab_type": "text"
      },
      "source": [
        "<a href=\"https://colab.research.google.com/github/fabizap/fabizap/blob/main/segunda%20o%20tercera%20Copia_de_Trabajo_Pr%C3%A1ctico_entregable_Parte_1_Grupo_23_Consolidado_v_2022_04_06.ipynb\" target=\"_parent\"><img src=\"https://colab.research.google.com/assets/colab-badge.svg\" alt=\"Open In Colab\"/></a>"
      ]
    },
    {
      "cell_type": "markdown",
      "metadata": {
        "id": "LYvAOR2VzHmW"
      },
      "source": [
        "\n",
        "**Diplomatura en Ciencia de Datos, Aprendizaje Automático y sus Aplicaciones**\n",
        "\n",
        "**Edición 2022**\n",
        "\n",
        "---\n",
        "## Trabajo práctico entregable - Parte 1 - Grupo 23"
      ]
    },
    {
      "cell_type": "markdown",
      "source": [
        "**Integrantes:** Franco Amilcar Genolet (francogeno97@gmail.com), Fabian Alejandro Zapata Cerutti (fzc501@gmail.com), Luis Alejandro Guedez Gomez (luis.guedez@dicsys.com), María Laura Mantovani (mantovanimlaura@gmail.com)."
      ],
      "metadata": {
        "id": "_04NUtbiukNE"
      }
    },
    {
      "cell_type": "markdown",
      "metadata": {
        "id": "-ZSQYANFHHgV"
      },
      "source": [
        "# Ejercicio 1 - Análisis descriptivo - Consigna\n",
        "\n",
        "Responder a la pregunta: **¿Cuáles son los lenguajes de programación asociados a los mejores salarios?**\n",
        "\n",
        "Para ello:\n",
        "1. Seleccionar las columnas relevantes para analizar.\n",
        "2. Seleccionar las filas relevantes para analizar. Esto incluye la eliminación de valores extremos y erróneos, pero también puede enfocar el análisis en una sub-población. Por ejemplo, se pueden limitar a personas con un salario mayor que 10000 pesos, o a las personas que trabajan sólo en \"Data Science\", pero deben justificar su elección y reformular la pregunta inicial de ser necesario.\n",
        "  * Obtener una lista de los lenguajes de programación más populares. Decidir cuántos y cuáles seleccionan para incluir en el análisis.\n",
        "  * Para cada una de las otras columnas del punto anterior, elegir los rangos o valores seleccionan para incluir en el análisis.\n",
        "3. Seleccionar métricas que ayuden a responder la pregunta, y los métodos para analizarlas. Elegir UNA de las siguientes opciones:\n",
        "  * Comparar las distribuciones de salario para cada lenguaje utilizando visualizaciones. Como la visualización es el producto final, debe ser clara y mostrar información relevante.\n",
        "  * Comparar medidas de estadística descriptiva sobre la distribución de salario para cada lenguaje. Sean creativos, la estadística descriptiva nos permite decir cosas como: \"el 10% de los mejores sueldos los ganan, en su mayoría, programadores que saben kotlin!\" (donde *mayoría* es un término medio engañoso que sólo significa más del 50%). Para comparar múltiples lenguajes, les recomendamos usar también visualizaciones.\n",
        "  * Comparar probabilidades. Por ejemplo: \"Si sabés Python o Java, tenés un 30% más de chances de ganar arriba de 100K\".\n",
        "\n",
        "Si lo consideran necesario, realicen varias iteraciones. Es decir, si encuentran que las distribuciones de los lenguajes de programación que seleccionaron inicialmente no son muy diferentes, pueden re-hacer el análisis usando sólo los lenguajes de programación que son diferentes."
      ]
    },
    {
      "cell_type": "markdown",
      "metadata": {
        "id": "VwtF2oVTu0l5"
      },
      "source": [
        "# Resolución"
      ]
    },
    {
      "cell_type": "code",
      "metadata": {
        "id": "Xwdfo7z20TUK"
      },
      "source": [
        "#Importamos las librerías que necesitamos para trabajar\n",
        "import io\n",
        "import matplotlib\n",
        "import matplotlib.pyplot as plt\n",
        "import numpy\n",
        "import pandas as pd\n",
        "import seaborn\n",
        "seaborn.set_context('talk')\n",
        "pd.options.display.float_format = '{:,.1f}'.format"
      ],
      "execution_count": 36,
      "outputs": []
    },
    {
      "cell_type": "code",
      "metadata": {
        "id": "Vviv_sqXdR5W"
      },
      "source": [
        "#Lectura del dataset\n",
        "url = 'https://cs.famaf.unc.edu.ar/~mteruel/datasets/diplodatos/sysarmy_survey_2020_processed.csv'\n",
        "df = pd.read_csv(url)"
      ],
      "execution_count": 37,
      "outputs": []
    },
    {
      "cell_type": "markdown",
      "source": [
        "######Para responder a la pregunta de cuáles son las variables de interés, comenzamos revisando las columnas de nuestro dataset. Vemos la cantidad de nulos, de ceros y de datos únicos para cada variable:"
      ],
      "metadata": {
        "id": "suAfsqWovCW4"
      }
    },
    {
      "cell_type": "code",
      "source": [
        "def status(data):\n",
        "\n",
        "    data2=data \n",
        "\n",
        "    # total de rows\n",
        "    tot_rows=len(data2)\n",
        "    \n",
        "    # total de nan\n",
        "    d2=data2.isnull().sum().reset_index()\n",
        "    d2.columns=['variable', 'q_nan']\n",
        "    \n",
        "    # percentage of nan\n",
        "    d2[['p_nan']]=d2[['q_nan']]/tot_rows\n",
        "    \n",
        "    # num of zeros\n",
        "    d2['q_zeros']=(data2==0).sum().values\n",
        "\n",
        "    # perc of zeros\n",
        "    d2['p_zeros']=d2[['q_zeros']]/tot_rows\n",
        "\n",
        "    # total unique values\n",
        "    d2['unique']=data2.nunique().values\n",
        "    \n",
        "    # get data types per column\n",
        "    d2['type']=[str(x) for x in data2.dtypes.values]\n",
        "    \n",
        "    return(d2)"
      ],
      "metadata": {
        "id": "O-e0sIoH4Z9V"
      },
      "execution_count": 38,
      "outputs": []
    },
    {
      "cell_type": "code",
      "source": [
        "pd.options.display.float_format = '{:,.1f}'.format\n",
        "status(df)"
      ],
      "metadata": {
        "id": "00QUe4DQ4ctw",
        "colab": {
          "base_uri": "https://localhost:8080/",
          "height": 1000
        },
        "outputId": "670c09cd-19d2-499e-f6e6-ccb66db2c7cc"
      },
      "execution_count": 39,
      "outputs": [
        {
          "output_type": "execute_result",
          "data": {
            "text/plain": [
              "                                        variable  q_nan  p_nan  q_zeros  \\\n",
              "0                                 profile_gender      0    0.0        0   \n",
              "1                                    profile_age      0    0.0        0   \n",
              "2                                   work_country      0    0.0        0   \n",
              "3                                  work_province      0    0.0        0   \n",
              "4                       profile_years_experience      0    0.0      318   \n",
              "5                          work_years_in_company      0    0.0     1538   \n",
              "6                 work_years_in_current_position      0    0.0     1324   \n",
              "7                       work_people_in_charge_of      0    0.0     4592   \n",
              "8                          profile_studies_level      0    0.0        0   \n",
              "9                    profile_studies_level_state      0    0.0        0   \n",
              "10                                profile_career    299    0.0        0   \n",
              "11                            profile_university    534    0.1        0   \n",
              "12                profile_specialization_courses      0    0.0        0   \n",
              "13             profile_open_source_contributions      0    0.0        0   \n",
              "14                  profile_programming_as_hobby      0    0.0        0   \n",
              "15                                     work_role      0    0.0        0   \n",
              "16                                tools_platform      2    0.0        0   \n",
              "17                   tools_programming_languages      1    0.0        0   \n",
              "18                              tools_frameworks      1    0.0        0   \n",
              "19                              tools_data_bases      2    0.0        0   \n",
              "20                              tools_qa_testing      6    0.0        0   \n",
              "21                                    tools_IDEs      1    0.0        0   \n",
              "22                              tools_work_pc_os      0    0.0        0   \n",
              "23                            tools_cellphone_os      0    0.0        0   \n",
              "24                             work_on_call_duty      0    0.0        0   \n",
              "25                    salary_on_call_duty_charge      0    0.0     5656   \n",
              "26                 work_on_call_duty_charge_type      0    0.0        0   \n",
              "27                            work_contract_type      0    0.0        0   \n",
              "28                          salary_monthly_BRUTO      0    0.0        0   \n",
              "29                           salary_monthly_NETO    212    0.0        0   \n",
              "30                                 salary_in_usd   5419    0.9        0   \n",
              "31                           salary_satisfaction      0    0.0        0   \n",
              "32               salary_comparison_last_semester      0    0.0        0   \n",
              "33                              salary_has_bonus      0    0.0        0   \n",
              "34                          salary_bonus_tied_to      0    0.0        0   \n",
              "35              salary_inflation_adjustment_2020      0    0.0        0   \n",
              "36   salary_percentage_inflation_adjustment_2020      0    0.0     2685   \n",
              "37        salary_month_last_inflation_adjustment      0    0.0     2468   \n",
              "38                  work_has_violence_situations    141    0.0        0   \n",
              "39                    profile_sexual_orientation    183    0.0        0   \n",
              "40                      profile_has_disabilities   5495    0.9        0   \n",
              "41  profile_has_disabilities_hiring_difficulties   3888    0.6        0   \n",
              "42                       company_employee_number      0    0.0        0   \n",
              "43                         company_main_activity      0    0.0        0   \n",
              "44                           company_recommended      0    0.0        0   \n",
              "45                    company_diversity_policies      0    0.0        0   \n",
              "46                        company_extra_benefits      1    0.0        0   \n",
              "47                   company_best_companies_city   4403    0.7        0   \n",
              "\n",
              "    p_zeros  unique     type  \n",
              "0       0.0       3   object  \n",
              "1       0.0      50    int64  \n",
              "2       0.0       1   object  \n",
              "3       0.0      25   object  \n",
              "4       0.1      59  float64  \n",
              "5       0.3      45  float64  \n",
              "6       0.2      43  float64  \n",
              "7       0.8      51    int64  \n",
              "8       0.0       7   object  \n",
              "9       0.0       3   object  \n",
              "10      0.0     495   object  \n",
              "11      0.0     799   object  \n",
              "12      0.0       7   object  \n",
              "13      0.0       2   object  \n",
              "14      0.0       2   object  \n",
              "15      0.0     334   object  \n",
              "16      0.0    1183   object  \n",
              "17      0.0    1637   object  \n",
              "18      0.0    1371   object  \n",
              "19      0.0    1271   object  \n",
              "20      0.0     717   object  \n",
              "21      0.0    1097   object  \n",
              "22      0.0       4   object  \n",
              "23      0.0       4   object  \n",
              "24      0.0       3   object  \n",
              "25      0.9     127  float64  \n",
              "26      0.0       3   object  \n",
              "27      0.0       5   object  \n",
              "28      0.0    1459  float64  \n",
              "29      0.0    1379  float64  \n",
              "30      0.0       1   object  \n",
              "31      0.0       4    int64  \n",
              "32      0.0       4    int64  \n",
              "33      0.0       5   object  \n",
              "34      0.0     192   object  \n",
              "35      0.0       5   object  \n",
              "36      0.4     127  float64  \n",
              "37      0.4       9    int64  \n",
              "38      0.0       3   object  \n",
              "39      0.0      42   object  \n",
              "40      0.0      89   object  \n",
              "41      0.0       2   object  \n",
              "42      0.0      10   object  \n",
              "43      0.0       3   object  \n",
              "44      0.0      10    int64  \n",
              "45      0.0      10    int64  \n",
              "46      0.0    1916   object  \n",
              "47      0.0    1293   object  "
            ],
            "text/html": [
              "\n",
              "  <div id=\"df-e3e6f363-b356-4d51-8ab3-0df7d93c5f26\">\n",
              "    <div class=\"colab-df-container\">\n",
              "      <div>\n",
              "<style scoped>\n",
              "    .dataframe tbody tr th:only-of-type {\n",
              "        vertical-align: middle;\n",
              "    }\n",
              "\n",
              "    .dataframe tbody tr th {\n",
              "        vertical-align: top;\n",
              "    }\n",
              "\n",
              "    .dataframe thead th {\n",
              "        text-align: right;\n",
              "    }\n",
              "</style>\n",
              "<table border=\"1\" class=\"dataframe\">\n",
              "  <thead>\n",
              "    <tr style=\"text-align: right;\">\n",
              "      <th></th>\n",
              "      <th>variable</th>\n",
              "      <th>q_nan</th>\n",
              "      <th>p_nan</th>\n",
              "      <th>q_zeros</th>\n",
              "      <th>p_zeros</th>\n",
              "      <th>unique</th>\n",
              "      <th>type</th>\n",
              "    </tr>\n",
              "  </thead>\n",
              "  <tbody>\n",
              "    <tr>\n",
              "      <th>0</th>\n",
              "      <td>profile_gender</td>\n",
              "      <td>0</td>\n",
              "      <td>0.0</td>\n",
              "      <td>0</td>\n",
              "      <td>0.0</td>\n",
              "      <td>3</td>\n",
              "      <td>object</td>\n",
              "    </tr>\n",
              "    <tr>\n",
              "      <th>1</th>\n",
              "      <td>profile_age</td>\n",
              "      <td>0</td>\n",
              "      <td>0.0</td>\n",
              "      <td>0</td>\n",
              "      <td>0.0</td>\n",
              "      <td>50</td>\n",
              "      <td>int64</td>\n",
              "    </tr>\n",
              "    <tr>\n",
              "      <th>2</th>\n",
              "      <td>work_country</td>\n",
              "      <td>0</td>\n",
              "      <td>0.0</td>\n",
              "      <td>0</td>\n",
              "      <td>0.0</td>\n",
              "      <td>1</td>\n",
              "      <td>object</td>\n",
              "    </tr>\n",
              "    <tr>\n",
              "      <th>3</th>\n",
              "      <td>work_province</td>\n",
              "      <td>0</td>\n",
              "      <td>0.0</td>\n",
              "      <td>0</td>\n",
              "      <td>0.0</td>\n",
              "      <td>25</td>\n",
              "      <td>object</td>\n",
              "    </tr>\n",
              "    <tr>\n",
              "      <th>4</th>\n",
              "      <td>profile_years_experience</td>\n",
              "      <td>0</td>\n",
              "      <td>0.0</td>\n",
              "      <td>318</td>\n",
              "      <td>0.1</td>\n",
              "      <td>59</td>\n",
              "      <td>float64</td>\n",
              "    </tr>\n",
              "    <tr>\n",
              "      <th>5</th>\n",
              "      <td>work_years_in_company</td>\n",
              "      <td>0</td>\n",
              "      <td>0.0</td>\n",
              "      <td>1538</td>\n",
              "      <td>0.3</td>\n",
              "      <td>45</td>\n",
              "      <td>float64</td>\n",
              "    </tr>\n",
              "    <tr>\n",
              "      <th>6</th>\n",
              "      <td>work_years_in_current_position</td>\n",
              "      <td>0</td>\n",
              "      <td>0.0</td>\n",
              "      <td>1324</td>\n",
              "      <td>0.2</td>\n",
              "      <td>43</td>\n",
              "      <td>float64</td>\n",
              "    </tr>\n",
              "    <tr>\n",
              "      <th>7</th>\n",
              "      <td>work_people_in_charge_of</td>\n",
              "      <td>0</td>\n",
              "      <td>0.0</td>\n",
              "      <td>4592</td>\n",
              "      <td>0.8</td>\n",
              "      <td>51</td>\n",
              "      <td>int64</td>\n",
              "    </tr>\n",
              "    <tr>\n",
              "      <th>8</th>\n",
              "      <td>profile_studies_level</td>\n",
              "      <td>0</td>\n",
              "      <td>0.0</td>\n",
              "      <td>0</td>\n",
              "      <td>0.0</td>\n",
              "      <td>7</td>\n",
              "      <td>object</td>\n",
              "    </tr>\n",
              "    <tr>\n",
              "      <th>9</th>\n",
              "      <td>profile_studies_level_state</td>\n",
              "      <td>0</td>\n",
              "      <td>0.0</td>\n",
              "      <td>0</td>\n",
              "      <td>0.0</td>\n",
              "      <td>3</td>\n",
              "      <td>object</td>\n",
              "    </tr>\n",
              "    <tr>\n",
              "      <th>10</th>\n",
              "      <td>profile_career</td>\n",
              "      <td>299</td>\n",
              "      <td>0.0</td>\n",
              "      <td>0</td>\n",
              "      <td>0.0</td>\n",
              "      <td>495</td>\n",
              "      <td>object</td>\n",
              "    </tr>\n",
              "    <tr>\n",
              "      <th>11</th>\n",
              "      <td>profile_university</td>\n",
              "      <td>534</td>\n",
              "      <td>0.1</td>\n",
              "      <td>0</td>\n",
              "      <td>0.0</td>\n",
              "      <td>799</td>\n",
              "      <td>object</td>\n",
              "    </tr>\n",
              "    <tr>\n",
              "      <th>12</th>\n",
              "      <td>profile_specialization_courses</td>\n",
              "      <td>0</td>\n",
              "      <td>0.0</td>\n",
              "      <td>0</td>\n",
              "      <td>0.0</td>\n",
              "      <td>7</td>\n",
              "      <td>object</td>\n",
              "    </tr>\n",
              "    <tr>\n",
              "      <th>13</th>\n",
              "      <td>profile_open_source_contributions</td>\n",
              "      <td>0</td>\n",
              "      <td>0.0</td>\n",
              "      <td>0</td>\n",
              "      <td>0.0</td>\n",
              "      <td>2</td>\n",
              "      <td>object</td>\n",
              "    </tr>\n",
              "    <tr>\n",
              "      <th>14</th>\n",
              "      <td>profile_programming_as_hobby</td>\n",
              "      <td>0</td>\n",
              "      <td>0.0</td>\n",
              "      <td>0</td>\n",
              "      <td>0.0</td>\n",
              "      <td>2</td>\n",
              "      <td>object</td>\n",
              "    </tr>\n",
              "    <tr>\n",
              "      <th>15</th>\n",
              "      <td>work_role</td>\n",
              "      <td>0</td>\n",
              "      <td>0.0</td>\n",
              "      <td>0</td>\n",
              "      <td>0.0</td>\n",
              "      <td>334</td>\n",
              "      <td>object</td>\n",
              "    </tr>\n",
              "    <tr>\n",
              "      <th>16</th>\n",
              "      <td>tools_platform</td>\n",
              "      <td>2</td>\n",
              "      <td>0.0</td>\n",
              "      <td>0</td>\n",
              "      <td>0.0</td>\n",
              "      <td>1183</td>\n",
              "      <td>object</td>\n",
              "    </tr>\n",
              "    <tr>\n",
              "      <th>17</th>\n",
              "      <td>tools_programming_languages</td>\n",
              "      <td>1</td>\n",
              "      <td>0.0</td>\n",
              "      <td>0</td>\n",
              "      <td>0.0</td>\n",
              "      <td>1637</td>\n",
              "      <td>object</td>\n",
              "    </tr>\n",
              "    <tr>\n",
              "      <th>18</th>\n",
              "      <td>tools_frameworks</td>\n",
              "      <td>1</td>\n",
              "      <td>0.0</td>\n",
              "      <td>0</td>\n",
              "      <td>0.0</td>\n",
              "      <td>1371</td>\n",
              "      <td>object</td>\n",
              "    </tr>\n",
              "    <tr>\n",
              "      <th>19</th>\n",
              "      <td>tools_data_bases</td>\n",
              "      <td>2</td>\n",
              "      <td>0.0</td>\n",
              "      <td>0</td>\n",
              "      <td>0.0</td>\n",
              "      <td>1271</td>\n",
              "      <td>object</td>\n",
              "    </tr>\n",
              "    <tr>\n",
              "      <th>20</th>\n",
              "      <td>tools_qa_testing</td>\n",
              "      <td>6</td>\n",
              "      <td>0.0</td>\n",
              "      <td>0</td>\n",
              "      <td>0.0</td>\n",
              "      <td>717</td>\n",
              "      <td>object</td>\n",
              "    </tr>\n",
              "    <tr>\n",
              "      <th>21</th>\n",
              "      <td>tools_IDEs</td>\n",
              "      <td>1</td>\n",
              "      <td>0.0</td>\n",
              "      <td>0</td>\n",
              "      <td>0.0</td>\n",
              "      <td>1097</td>\n",
              "      <td>object</td>\n",
              "    </tr>\n",
              "    <tr>\n",
              "      <th>22</th>\n",
              "      <td>tools_work_pc_os</td>\n",
              "      <td>0</td>\n",
              "      <td>0.0</td>\n",
              "      <td>0</td>\n",
              "      <td>0.0</td>\n",
              "      <td>4</td>\n",
              "      <td>object</td>\n",
              "    </tr>\n",
              "    <tr>\n",
              "      <th>23</th>\n",
              "      <td>tools_cellphone_os</td>\n",
              "      <td>0</td>\n",
              "      <td>0.0</td>\n",
              "      <td>0</td>\n",
              "      <td>0.0</td>\n",
              "      <td>4</td>\n",
              "      <td>object</td>\n",
              "    </tr>\n",
              "    <tr>\n",
              "      <th>24</th>\n",
              "      <td>work_on_call_duty</td>\n",
              "      <td>0</td>\n",
              "      <td>0.0</td>\n",
              "      <td>0</td>\n",
              "      <td>0.0</td>\n",
              "      <td>3</td>\n",
              "      <td>object</td>\n",
              "    </tr>\n",
              "    <tr>\n",
              "      <th>25</th>\n",
              "      <td>salary_on_call_duty_charge</td>\n",
              "      <td>0</td>\n",
              "      <td>0.0</td>\n",
              "      <td>5656</td>\n",
              "      <td>0.9</td>\n",
              "      <td>127</td>\n",
              "      <td>float64</td>\n",
              "    </tr>\n",
              "    <tr>\n",
              "      <th>26</th>\n",
              "      <td>work_on_call_duty_charge_type</td>\n",
              "      <td>0</td>\n",
              "      <td>0.0</td>\n",
              "      <td>0</td>\n",
              "      <td>0.0</td>\n",
              "      <td>3</td>\n",
              "      <td>object</td>\n",
              "    </tr>\n",
              "    <tr>\n",
              "      <th>27</th>\n",
              "      <td>work_contract_type</td>\n",
              "      <td>0</td>\n",
              "      <td>0.0</td>\n",
              "      <td>0</td>\n",
              "      <td>0.0</td>\n",
              "      <td>5</td>\n",
              "      <td>object</td>\n",
              "    </tr>\n",
              "    <tr>\n",
              "      <th>28</th>\n",
              "      <td>salary_monthly_BRUTO</td>\n",
              "      <td>0</td>\n",
              "      <td>0.0</td>\n",
              "      <td>0</td>\n",
              "      <td>0.0</td>\n",
              "      <td>1459</td>\n",
              "      <td>float64</td>\n",
              "    </tr>\n",
              "    <tr>\n",
              "      <th>29</th>\n",
              "      <td>salary_monthly_NETO</td>\n",
              "      <td>212</td>\n",
              "      <td>0.0</td>\n",
              "      <td>0</td>\n",
              "      <td>0.0</td>\n",
              "      <td>1379</td>\n",
              "      <td>float64</td>\n",
              "    </tr>\n",
              "    <tr>\n",
              "      <th>30</th>\n",
              "      <td>salary_in_usd</td>\n",
              "      <td>5419</td>\n",
              "      <td>0.9</td>\n",
              "      <td>0</td>\n",
              "      <td>0.0</td>\n",
              "      <td>1</td>\n",
              "      <td>object</td>\n",
              "    </tr>\n",
              "    <tr>\n",
              "      <th>31</th>\n",
              "      <td>salary_satisfaction</td>\n",
              "      <td>0</td>\n",
              "      <td>0.0</td>\n",
              "      <td>0</td>\n",
              "      <td>0.0</td>\n",
              "      <td>4</td>\n",
              "      <td>int64</td>\n",
              "    </tr>\n",
              "    <tr>\n",
              "      <th>32</th>\n",
              "      <td>salary_comparison_last_semester</td>\n",
              "      <td>0</td>\n",
              "      <td>0.0</td>\n",
              "      <td>0</td>\n",
              "      <td>0.0</td>\n",
              "      <td>4</td>\n",
              "      <td>int64</td>\n",
              "    </tr>\n",
              "    <tr>\n",
              "      <th>33</th>\n",
              "      <td>salary_has_bonus</td>\n",
              "      <td>0</td>\n",
              "      <td>0.0</td>\n",
              "      <td>0</td>\n",
              "      <td>0.0</td>\n",
              "      <td>5</td>\n",
              "      <td>object</td>\n",
              "    </tr>\n",
              "    <tr>\n",
              "      <th>34</th>\n",
              "      <td>salary_bonus_tied_to</td>\n",
              "      <td>0</td>\n",
              "      <td>0.0</td>\n",
              "      <td>0</td>\n",
              "      <td>0.0</td>\n",
              "      <td>192</td>\n",
              "      <td>object</td>\n",
              "    </tr>\n",
              "    <tr>\n",
              "      <th>35</th>\n",
              "      <td>salary_inflation_adjustment_2020</td>\n",
              "      <td>0</td>\n",
              "      <td>0.0</td>\n",
              "      <td>0</td>\n",
              "      <td>0.0</td>\n",
              "      <td>5</td>\n",
              "      <td>object</td>\n",
              "    </tr>\n",
              "    <tr>\n",
              "      <th>36</th>\n",
              "      <td>salary_percentage_inflation_adjustment_2020</td>\n",
              "      <td>0</td>\n",
              "      <td>0.0</td>\n",
              "      <td>2685</td>\n",
              "      <td>0.4</td>\n",
              "      <td>127</td>\n",
              "      <td>float64</td>\n",
              "    </tr>\n",
              "    <tr>\n",
              "      <th>37</th>\n",
              "      <td>salary_month_last_inflation_adjustment</td>\n",
              "      <td>0</td>\n",
              "      <td>0.0</td>\n",
              "      <td>2468</td>\n",
              "      <td>0.4</td>\n",
              "      <td>9</td>\n",
              "      <td>int64</td>\n",
              "    </tr>\n",
              "    <tr>\n",
              "      <th>38</th>\n",
              "      <td>work_has_violence_situations</td>\n",
              "      <td>141</td>\n",
              "      <td>0.0</td>\n",
              "      <td>0</td>\n",
              "      <td>0.0</td>\n",
              "      <td>3</td>\n",
              "      <td>object</td>\n",
              "    </tr>\n",
              "    <tr>\n",
              "      <th>39</th>\n",
              "      <td>profile_sexual_orientation</td>\n",
              "      <td>183</td>\n",
              "      <td>0.0</td>\n",
              "      <td>0</td>\n",
              "      <td>0.0</td>\n",
              "      <td>42</td>\n",
              "      <td>object</td>\n",
              "    </tr>\n",
              "    <tr>\n",
              "      <th>40</th>\n",
              "      <td>profile_has_disabilities</td>\n",
              "      <td>5495</td>\n",
              "      <td>0.9</td>\n",
              "      <td>0</td>\n",
              "      <td>0.0</td>\n",
              "      <td>89</td>\n",
              "      <td>object</td>\n",
              "    </tr>\n",
              "    <tr>\n",
              "      <th>41</th>\n",
              "      <td>profile_has_disabilities_hiring_difficulties</td>\n",
              "      <td>3888</td>\n",
              "      <td>0.6</td>\n",
              "      <td>0</td>\n",
              "      <td>0.0</td>\n",
              "      <td>2</td>\n",
              "      <td>object</td>\n",
              "    </tr>\n",
              "    <tr>\n",
              "      <th>42</th>\n",
              "      <td>company_employee_number</td>\n",
              "      <td>0</td>\n",
              "      <td>0.0</td>\n",
              "      <td>0</td>\n",
              "      <td>0.0</td>\n",
              "      <td>10</td>\n",
              "      <td>object</td>\n",
              "    </tr>\n",
              "    <tr>\n",
              "      <th>43</th>\n",
              "      <td>company_main_activity</td>\n",
              "      <td>0</td>\n",
              "      <td>0.0</td>\n",
              "      <td>0</td>\n",
              "      <td>0.0</td>\n",
              "      <td>3</td>\n",
              "      <td>object</td>\n",
              "    </tr>\n",
              "    <tr>\n",
              "      <th>44</th>\n",
              "      <td>company_recommended</td>\n",
              "      <td>0</td>\n",
              "      <td>0.0</td>\n",
              "      <td>0</td>\n",
              "      <td>0.0</td>\n",
              "      <td>10</td>\n",
              "      <td>int64</td>\n",
              "    </tr>\n",
              "    <tr>\n",
              "      <th>45</th>\n",
              "      <td>company_diversity_policies</td>\n",
              "      <td>0</td>\n",
              "      <td>0.0</td>\n",
              "      <td>0</td>\n",
              "      <td>0.0</td>\n",
              "      <td>10</td>\n",
              "      <td>int64</td>\n",
              "    </tr>\n",
              "    <tr>\n",
              "      <th>46</th>\n",
              "      <td>company_extra_benefits</td>\n",
              "      <td>1</td>\n",
              "      <td>0.0</td>\n",
              "      <td>0</td>\n",
              "      <td>0.0</td>\n",
              "      <td>1916</td>\n",
              "      <td>object</td>\n",
              "    </tr>\n",
              "    <tr>\n",
              "      <th>47</th>\n",
              "      <td>company_best_companies_city</td>\n",
              "      <td>4403</td>\n",
              "      <td>0.7</td>\n",
              "      <td>0</td>\n",
              "      <td>0.0</td>\n",
              "      <td>1293</td>\n",
              "      <td>object</td>\n",
              "    </tr>\n",
              "  </tbody>\n",
              "</table>\n",
              "</div>\n",
              "      <button class=\"colab-df-convert\" onclick=\"convertToInteractive('df-e3e6f363-b356-4d51-8ab3-0df7d93c5f26')\"\n",
              "              title=\"Convert this dataframe to an interactive table.\"\n",
              "              style=\"display:none;\">\n",
              "        \n",
              "  <svg xmlns=\"http://www.w3.org/2000/svg\" height=\"24px\"viewBox=\"0 0 24 24\"\n",
              "       width=\"24px\">\n",
              "    <path d=\"M0 0h24v24H0V0z\" fill=\"none\"/>\n",
              "    <path d=\"M18.56 5.44l.94 2.06.94-2.06 2.06-.94-2.06-.94-.94-2.06-.94 2.06-2.06.94zm-11 1L8.5 8.5l.94-2.06 2.06-.94-2.06-.94L8.5 2.5l-.94 2.06-2.06.94zm10 10l.94 2.06.94-2.06 2.06-.94-2.06-.94-.94-2.06-.94 2.06-2.06.94z\"/><path d=\"M17.41 7.96l-1.37-1.37c-.4-.4-.92-.59-1.43-.59-.52 0-1.04.2-1.43.59L10.3 9.45l-7.72 7.72c-.78.78-.78 2.05 0 2.83L4 21.41c.39.39.9.59 1.41.59.51 0 1.02-.2 1.41-.59l7.78-7.78 2.81-2.81c.8-.78.8-2.07 0-2.86zM5.41 20L4 18.59l7.72-7.72 1.47 1.35L5.41 20z\"/>\n",
              "  </svg>\n",
              "      </button>\n",
              "      \n",
              "  <style>\n",
              "    .colab-df-container {\n",
              "      display:flex;\n",
              "      flex-wrap:wrap;\n",
              "      gap: 12px;\n",
              "    }\n",
              "\n",
              "    .colab-df-convert {\n",
              "      background-color: #E8F0FE;\n",
              "      border: none;\n",
              "      border-radius: 50%;\n",
              "      cursor: pointer;\n",
              "      display: none;\n",
              "      fill: #1967D2;\n",
              "      height: 32px;\n",
              "      padding: 0 0 0 0;\n",
              "      width: 32px;\n",
              "    }\n",
              "\n",
              "    .colab-df-convert:hover {\n",
              "      background-color: #E2EBFA;\n",
              "      box-shadow: 0px 1px 2px rgba(60, 64, 67, 0.3), 0px 1px 3px 1px rgba(60, 64, 67, 0.15);\n",
              "      fill: #174EA6;\n",
              "    }\n",
              "\n",
              "    [theme=dark] .colab-df-convert {\n",
              "      background-color: #3B4455;\n",
              "      fill: #D2E3FC;\n",
              "    }\n",
              "\n",
              "    [theme=dark] .colab-df-convert:hover {\n",
              "      background-color: #434B5C;\n",
              "      box-shadow: 0px 1px 3px 1px rgba(0, 0, 0, 0.15);\n",
              "      filter: drop-shadow(0px 1px 2px rgba(0, 0, 0, 0.3));\n",
              "      fill: #FFFFFF;\n",
              "    }\n",
              "  </style>\n",
              "\n",
              "      <script>\n",
              "        const buttonEl =\n",
              "          document.querySelector('#df-e3e6f363-b356-4d51-8ab3-0df7d93c5f26 button.colab-df-convert');\n",
              "        buttonEl.style.display =\n",
              "          google.colab.kernel.accessAllowed ? 'block' : 'none';\n",
              "\n",
              "        async function convertToInteractive(key) {\n",
              "          const element = document.querySelector('#df-e3e6f363-b356-4d51-8ab3-0df7d93c5f26');\n",
              "          const dataTable =\n",
              "            await google.colab.kernel.invokeFunction('convertToInteractive',\n",
              "                                                     [key], {});\n",
              "          if (!dataTable) return;\n",
              "\n",
              "          const docLinkHtml = 'Like what you see? Visit the ' +\n",
              "            '<a target=\"_blank\" href=https://colab.research.google.com/notebooks/data_table.ipynb>data table notebook</a>'\n",
              "            + ' to learn more about interactive tables.';\n",
              "          element.innerHTML = '';\n",
              "          dataTable['output_type'] = 'display_data';\n",
              "          await google.colab.output.renderOutput(dataTable, element);\n",
              "          const docLink = document.createElement('div');\n",
              "          docLink.innerHTML = docLinkHtml;\n",
              "          element.appendChild(docLink);\n",
              "        }\n",
              "      </script>\n",
              "    </div>\n",
              "  </div>\n",
              "  "
            ]
          },
          "metadata": {},
          "execution_count": 39
        }
      ]
    },
    {
      "cell_type": "markdown",
      "source": [
        "Luego de esta exploración de las columnas del dataset, sabemos que nuestras columnas o variables de interés para responder a la pregunta son: \n",
        "1. Lenguajes de programación: `tools_programming_languages`, y \n",
        "2. Salario (Bruto o Neto): `salary_monthly_BRUTO` y `salary_monthly_NETO`\n",
        "En la tabla anterior vimos que el salario Neto tiene 212 valores nulos, con lo cual parece mejor opción para el análisis considerar el salario Bruto por ser mas completo."
      ],
      "metadata": {
        "id": "Qz-c4u_gv_Bn"
      }
    },
    {
      "cell_type": "code",
      "metadata": {
        "id": "6dqTEr7cZgvl"
      },
      "source": [
        "#armamos un dataset con nuestras columnas relevantes\n",
        "relevant_columns = ['tools_programming_languages', 'salary_monthly_BRUTO']"
      ],
      "execution_count": 40,
      "outputs": []
    },
    {
      "cell_type": "markdown",
      "metadata": {
        "id": "OoGgzMvuEocM"
      },
      "source": [
        "En cuanto a la columna que contiene información sobre los lenguajes de programación utilizados (`tools_programming_languages`), sabemos que sus valores son strings con los lenguajes seleccionados separados por comas. Necesitamos separarlos para poder hacer un análisis comparativo entre lenguajes.\n",
        "\n"
      ]
    },
    {
      "cell_type": "code",
      "metadata": {
        "colab": {
          "base_uri": "https://localhost:8080/"
        },
        "id": "J7AB2Ty8SvNl",
        "outputId": "d477995b-e6f9-4577-eb82-cdbdbc216935"
      },
      "source": [
        "#Vemos las primeras 3 filas a modo de ejemplo\n",
        "df.tools_programming_languages[:3]"
      ],
      "execution_count": 41,
      "outputs": [
        {
          "output_type": "execute_result",
          "data": {
            "text/plain": [
              "0                     Ninguno\n",
              "1    HTML, Javascript, Python\n",
              "2                     Ninguno\n",
              "Name: tools_programming_languages, dtype: object"
            ]
          },
          "metadata": {},
          "execution_count": 41
        }
      ]
    },
    {
      "cell_type": "markdown",
      "metadata": {
        "id": "l8bYmvMhSroH"
      },
      "source": [
        "######Las siguientes celdas de código separan estos lenguajes de programación y cuentan la frecuencia con la que aparecen. Además, crea un nuevo dataset llamado `df_lang` en el que agrega a nuestro dataset `relevant_columns` recientemente creado dos columnas nuevas: una llamada `cured_programming_languages` y otra (creada a partir de esta última) llamada `programming_language`. "
      ]
    },
    {
      "cell_type": "code",
      "metadata": {
        "id": "PAQ81x3iUP_N"
      },
      "source": [
        "def split_languages(languages_str):\n",
        "  if not isinstance(languages_str, str):\n",
        "    return []\n",
        "  languages_str = languages_str.lower()\\\n",
        "    .replace('ninguno de los anteriores', '')\\\n",
        "    .replace('ninguno', '')\n",
        "  return [lang.strip().replace(',', '')\n",
        "          for lang in languages_str.split()]\n",
        "df.loc[:, 'cured_programming_languages'] = df.tools_programming_languages\\\n",
        "    .apply(split_languages)\n",
        "if 'cured_programming_languages' not in relevant_columns:\n",
        "    relevant_columns.append('cured_programming_languages') \n",
        "df_lang = df.cured_programming_languages\\\n",
        "    .apply(pd.Series).stack()\\\n",
        "    .reset_index(level=-1, drop=True).to_frame()\\\n",
        "    .join(df[relevant_columns])\\\n",
        "    .rename(columns={0: 'programming_language'})\n"
      ],
      "execution_count": 42,
      "outputs": []
    },
    {
      "cell_type": "markdown",
      "source": [
        "######Vemos cómo quedó este nuevo dataset `df_lang` revisando sus primeras 5 filas.\n",
        "\n",
        "---\n",
        "\n"
      ],
      "metadata": {
        "id": "qMAIj2Ho0Osa"
      }
    },
    {
      "cell_type": "code",
      "source": [
        "df_lang[:5]"
      ],
      "metadata": {
        "id": "DFrBQ2Sz1jPA",
        "colab": {
          "base_uri": "https://localhost:8080/",
          "height": 206
        },
        "outputId": "d3ed89b1-40aa-49c1-eb69-13d0c903e1d8"
      },
      "execution_count": 43,
      "outputs": [
        {
          "output_type": "execute_result",
          "data": {
            "text/plain": [
              "  programming_language                        tools_programming_languages  \\\n",
              "1                 html                           HTML, Javascript, Python   \n",
              "1           javascript                           HTML, Javascript, Python   \n",
              "1               python                           HTML, Javascript, Python   \n",
              "3           bash/shell  Bash/Shell, C, CSS, HTML, Java, Javascript, PH...   \n",
              "3                    c  Bash/Shell, C, CSS, HTML, Java, Javascript, PH...   \n",
              "\n",
              "   salary_monthly_BRUTO                        cured_programming_languages  \n",
              "1              79,000.0                         [html, javascript, python]  \n",
              "1              79,000.0                         [html, javascript, python]  \n",
              "1              79,000.0                         [html, javascript, python]  \n",
              "3             130,000.0  [bash/shell, c, css, html, java, javascript, p...  \n",
              "3             130,000.0  [bash/shell, c, css, html, java, javascript, p...  "
            ],
            "text/html": [
              "\n",
              "  <div id=\"df-641d8e3f-32dd-4fa8-9781-10cb0d78e9da\">\n",
              "    <div class=\"colab-df-container\">\n",
              "      <div>\n",
              "<style scoped>\n",
              "    .dataframe tbody tr th:only-of-type {\n",
              "        vertical-align: middle;\n",
              "    }\n",
              "\n",
              "    .dataframe tbody tr th {\n",
              "        vertical-align: top;\n",
              "    }\n",
              "\n",
              "    .dataframe thead th {\n",
              "        text-align: right;\n",
              "    }\n",
              "</style>\n",
              "<table border=\"1\" class=\"dataframe\">\n",
              "  <thead>\n",
              "    <tr style=\"text-align: right;\">\n",
              "      <th></th>\n",
              "      <th>programming_language</th>\n",
              "      <th>tools_programming_languages</th>\n",
              "      <th>salary_monthly_BRUTO</th>\n",
              "      <th>cured_programming_languages</th>\n",
              "    </tr>\n",
              "  </thead>\n",
              "  <tbody>\n",
              "    <tr>\n",
              "      <th>1</th>\n",
              "      <td>html</td>\n",
              "      <td>HTML, Javascript, Python</td>\n",
              "      <td>79,000.0</td>\n",
              "      <td>[html, javascript, python]</td>\n",
              "    </tr>\n",
              "    <tr>\n",
              "      <th>1</th>\n",
              "      <td>javascript</td>\n",
              "      <td>HTML, Javascript, Python</td>\n",
              "      <td>79,000.0</td>\n",
              "      <td>[html, javascript, python]</td>\n",
              "    </tr>\n",
              "    <tr>\n",
              "      <th>1</th>\n",
              "      <td>python</td>\n",
              "      <td>HTML, Javascript, Python</td>\n",
              "      <td>79,000.0</td>\n",
              "      <td>[html, javascript, python]</td>\n",
              "    </tr>\n",
              "    <tr>\n",
              "      <th>3</th>\n",
              "      <td>bash/shell</td>\n",
              "      <td>Bash/Shell, C, CSS, HTML, Java, Javascript, PH...</td>\n",
              "      <td>130,000.0</td>\n",
              "      <td>[bash/shell, c, css, html, java, javascript, p...</td>\n",
              "    </tr>\n",
              "    <tr>\n",
              "      <th>3</th>\n",
              "      <td>c</td>\n",
              "      <td>Bash/Shell, C, CSS, HTML, Java, Javascript, PH...</td>\n",
              "      <td>130,000.0</td>\n",
              "      <td>[bash/shell, c, css, html, java, javascript, p...</td>\n",
              "    </tr>\n",
              "  </tbody>\n",
              "</table>\n",
              "</div>\n",
              "      <button class=\"colab-df-convert\" onclick=\"convertToInteractive('df-641d8e3f-32dd-4fa8-9781-10cb0d78e9da')\"\n",
              "              title=\"Convert this dataframe to an interactive table.\"\n",
              "              style=\"display:none;\">\n",
              "        \n",
              "  <svg xmlns=\"http://www.w3.org/2000/svg\" height=\"24px\"viewBox=\"0 0 24 24\"\n",
              "       width=\"24px\">\n",
              "    <path d=\"M0 0h24v24H0V0z\" fill=\"none\"/>\n",
              "    <path d=\"M18.56 5.44l.94 2.06.94-2.06 2.06-.94-2.06-.94-.94-2.06-.94 2.06-2.06.94zm-11 1L8.5 8.5l.94-2.06 2.06-.94-2.06-.94L8.5 2.5l-.94 2.06-2.06.94zm10 10l.94 2.06.94-2.06 2.06-.94-2.06-.94-.94-2.06-.94 2.06-2.06.94z\"/><path d=\"M17.41 7.96l-1.37-1.37c-.4-.4-.92-.59-1.43-.59-.52 0-1.04.2-1.43.59L10.3 9.45l-7.72 7.72c-.78.78-.78 2.05 0 2.83L4 21.41c.39.39.9.59 1.41.59.51 0 1.02-.2 1.41-.59l7.78-7.78 2.81-2.81c.8-.78.8-2.07 0-2.86zM5.41 20L4 18.59l7.72-7.72 1.47 1.35L5.41 20z\"/>\n",
              "  </svg>\n",
              "      </button>\n",
              "      \n",
              "  <style>\n",
              "    .colab-df-container {\n",
              "      display:flex;\n",
              "      flex-wrap:wrap;\n",
              "      gap: 12px;\n",
              "    }\n",
              "\n",
              "    .colab-df-convert {\n",
              "      background-color: #E8F0FE;\n",
              "      border: none;\n",
              "      border-radius: 50%;\n",
              "      cursor: pointer;\n",
              "      display: none;\n",
              "      fill: #1967D2;\n",
              "      height: 32px;\n",
              "      padding: 0 0 0 0;\n",
              "      width: 32px;\n",
              "    }\n",
              "\n",
              "    .colab-df-convert:hover {\n",
              "      background-color: #E2EBFA;\n",
              "      box-shadow: 0px 1px 2px rgba(60, 64, 67, 0.3), 0px 1px 3px 1px rgba(60, 64, 67, 0.15);\n",
              "      fill: #174EA6;\n",
              "    }\n",
              "\n",
              "    [theme=dark] .colab-df-convert {\n",
              "      background-color: #3B4455;\n",
              "      fill: #D2E3FC;\n",
              "    }\n",
              "\n",
              "    [theme=dark] .colab-df-convert:hover {\n",
              "      background-color: #434B5C;\n",
              "      box-shadow: 0px 1px 3px 1px rgba(0, 0, 0, 0.15);\n",
              "      filter: drop-shadow(0px 1px 2px rgba(0, 0, 0, 0.3));\n",
              "      fill: #FFFFFF;\n",
              "    }\n",
              "  </style>\n",
              "\n",
              "      <script>\n",
              "        const buttonEl =\n",
              "          document.querySelector('#df-641d8e3f-32dd-4fa8-9781-10cb0d78e9da button.colab-df-convert');\n",
              "        buttonEl.style.display =\n",
              "          google.colab.kernel.accessAllowed ? 'block' : 'none';\n",
              "\n",
              "        async function convertToInteractive(key) {\n",
              "          const element = document.querySelector('#df-641d8e3f-32dd-4fa8-9781-10cb0d78e9da');\n",
              "          const dataTable =\n",
              "            await google.colab.kernel.invokeFunction('convertToInteractive',\n",
              "                                                     [key], {});\n",
              "          if (!dataTable) return;\n",
              "\n",
              "          const docLinkHtml = 'Like what you see? Visit the ' +\n",
              "            '<a target=\"_blank\" href=https://colab.research.google.com/notebooks/data_table.ipynb>data table notebook</a>'\n",
              "            + ' to learn more about interactive tables.';\n",
              "          element.innerHTML = '';\n",
              "          dataTable['output_type'] = 'display_data';\n",
              "          await google.colab.output.renderOutput(dataTable, element);\n",
              "          const docLink = document.createElement('div');\n",
              "          docLink.innerHTML = docLinkHtml;\n",
              "          element.appendChild(docLink);\n",
              "        }\n",
              "      </script>\n",
              "    </div>\n",
              "  </div>\n",
              "  "
            ]
          },
          "metadata": {},
          "execution_count": 43
        }
      ]
    },
    {
      "cell_type": "markdown",
      "metadata": {
        "id": "qm8NUg-7UEue"
      },
      "source": [
        "Se observa que si una respuesta contenía 3 lenguajes, como `\"HTML, Javascript, Python\"`, la fila ha sido replicada 3 veces. Por ello, hay tres filas con índice 1."
      ]
    },
    {
      "cell_type": "markdown",
      "source": [
        "#####A continuación revisamos la cantidad de veces que se repite cada lenguaje en nuestro dataframe `df_lang` para empezar a aproximarnos a los lenguajes de programación más frecuentemente manejados por los encuestados. Vemos los 15 lenguajes más frecuentes entre los encuestados:"
      ],
      "metadata": {
        "id": "q9HnYdgQ2EU5"
      }
    },
    {
      "cell_type": "code",
      "metadata": {
        "colab": {
          "base_uri": "https://localhost:8080/",
          "height": 990
        },
        "id": "lNPb4tTvWCwv",
        "outputId": "35018184-1493-4226-c27d-ded3e80cca4f"
      },
      "source": [
        "language_count = df_lang.programming_language.value_counts()\\\n",
        "    .reset_index()\\\n",
        "    .rename(columns={'index': 'language', 'programming_language': 'frequency'})\n",
        "language_count[:30]"
      ],
      "execution_count": 44,
      "outputs": [
        {
          "output_type": "execute_result",
          "data": {
            "text/plain": [
              "        language  frequency\n",
              "0     javascript       2513\n",
              "1            sql       2154\n",
              "2           html       1861\n",
              "3         python       1475\n",
              "4           java       1453\n",
              "5            css       1247\n",
              "6     bash/shell        993\n",
              "7            php        891\n",
              "8           .net        823\n",
              "9     typescript        779\n",
              "10            c#        734\n",
              "11            go        306\n",
              "12           c++        271\n",
              "13             c        242\n",
              "14           vba        222\n",
              "15        kotlin        191\n",
              "16        groovy        169\n",
              "17          ruby        157\n",
              "18         scala        115\n",
              "19         swift        103\n",
              "20             r         86\n",
              "21         cobol         81\n",
              "22          abap         73\n",
              "23          perl         65\n",
              "24   objective-c         51\n",
              "25        delphi         44\n",
              "26    powershell         41\n",
              "27          dart         38\n",
              "28     assembler         36\n",
              "29  actionscript         35"
            ],
            "text/html": [
              "\n",
              "  <div id=\"df-fbb9548f-f099-4ec7-b14d-afab437ee305\">\n",
              "    <div class=\"colab-df-container\">\n",
              "      <div>\n",
              "<style scoped>\n",
              "    .dataframe tbody tr th:only-of-type {\n",
              "        vertical-align: middle;\n",
              "    }\n",
              "\n",
              "    .dataframe tbody tr th {\n",
              "        vertical-align: top;\n",
              "    }\n",
              "\n",
              "    .dataframe thead th {\n",
              "        text-align: right;\n",
              "    }\n",
              "</style>\n",
              "<table border=\"1\" class=\"dataframe\">\n",
              "  <thead>\n",
              "    <tr style=\"text-align: right;\">\n",
              "      <th></th>\n",
              "      <th>language</th>\n",
              "      <th>frequency</th>\n",
              "    </tr>\n",
              "  </thead>\n",
              "  <tbody>\n",
              "    <tr>\n",
              "      <th>0</th>\n",
              "      <td>javascript</td>\n",
              "      <td>2513</td>\n",
              "    </tr>\n",
              "    <tr>\n",
              "      <th>1</th>\n",
              "      <td>sql</td>\n",
              "      <td>2154</td>\n",
              "    </tr>\n",
              "    <tr>\n",
              "      <th>2</th>\n",
              "      <td>html</td>\n",
              "      <td>1861</td>\n",
              "    </tr>\n",
              "    <tr>\n",
              "      <th>3</th>\n",
              "      <td>python</td>\n",
              "      <td>1475</td>\n",
              "    </tr>\n",
              "    <tr>\n",
              "      <th>4</th>\n",
              "      <td>java</td>\n",
              "      <td>1453</td>\n",
              "    </tr>\n",
              "    <tr>\n",
              "      <th>5</th>\n",
              "      <td>css</td>\n",
              "      <td>1247</td>\n",
              "    </tr>\n",
              "    <tr>\n",
              "      <th>6</th>\n",
              "      <td>bash/shell</td>\n",
              "      <td>993</td>\n",
              "    </tr>\n",
              "    <tr>\n",
              "      <th>7</th>\n",
              "      <td>php</td>\n",
              "      <td>891</td>\n",
              "    </tr>\n",
              "    <tr>\n",
              "      <th>8</th>\n",
              "      <td>.net</td>\n",
              "      <td>823</td>\n",
              "    </tr>\n",
              "    <tr>\n",
              "      <th>9</th>\n",
              "      <td>typescript</td>\n",
              "      <td>779</td>\n",
              "    </tr>\n",
              "    <tr>\n",
              "      <th>10</th>\n",
              "      <td>c#</td>\n",
              "      <td>734</td>\n",
              "    </tr>\n",
              "    <tr>\n",
              "      <th>11</th>\n",
              "      <td>go</td>\n",
              "      <td>306</td>\n",
              "    </tr>\n",
              "    <tr>\n",
              "      <th>12</th>\n",
              "      <td>c++</td>\n",
              "      <td>271</td>\n",
              "    </tr>\n",
              "    <tr>\n",
              "      <th>13</th>\n",
              "      <td>c</td>\n",
              "      <td>242</td>\n",
              "    </tr>\n",
              "    <tr>\n",
              "      <th>14</th>\n",
              "      <td>vba</td>\n",
              "      <td>222</td>\n",
              "    </tr>\n",
              "    <tr>\n",
              "      <th>15</th>\n",
              "      <td>kotlin</td>\n",
              "      <td>191</td>\n",
              "    </tr>\n",
              "    <tr>\n",
              "      <th>16</th>\n",
              "      <td>groovy</td>\n",
              "      <td>169</td>\n",
              "    </tr>\n",
              "    <tr>\n",
              "      <th>17</th>\n",
              "      <td>ruby</td>\n",
              "      <td>157</td>\n",
              "    </tr>\n",
              "    <tr>\n",
              "      <th>18</th>\n",
              "      <td>scala</td>\n",
              "      <td>115</td>\n",
              "    </tr>\n",
              "    <tr>\n",
              "      <th>19</th>\n",
              "      <td>swift</td>\n",
              "      <td>103</td>\n",
              "    </tr>\n",
              "    <tr>\n",
              "      <th>20</th>\n",
              "      <td>r</td>\n",
              "      <td>86</td>\n",
              "    </tr>\n",
              "    <tr>\n",
              "      <th>21</th>\n",
              "      <td>cobol</td>\n",
              "      <td>81</td>\n",
              "    </tr>\n",
              "    <tr>\n",
              "      <th>22</th>\n",
              "      <td>abap</td>\n",
              "      <td>73</td>\n",
              "    </tr>\n",
              "    <tr>\n",
              "      <th>23</th>\n",
              "      <td>perl</td>\n",
              "      <td>65</td>\n",
              "    </tr>\n",
              "    <tr>\n",
              "      <th>24</th>\n",
              "      <td>objective-c</td>\n",
              "      <td>51</td>\n",
              "    </tr>\n",
              "    <tr>\n",
              "      <th>25</th>\n",
              "      <td>delphi</td>\n",
              "      <td>44</td>\n",
              "    </tr>\n",
              "    <tr>\n",
              "      <th>26</th>\n",
              "      <td>powershell</td>\n",
              "      <td>41</td>\n",
              "    </tr>\n",
              "    <tr>\n",
              "      <th>27</th>\n",
              "      <td>dart</td>\n",
              "      <td>38</td>\n",
              "    </tr>\n",
              "    <tr>\n",
              "      <th>28</th>\n",
              "      <td>assembler</td>\n",
              "      <td>36</td>\n",
              "    </tr>\n",
              "    <tr>\n",
              "      <th>29</th>\n",
              "      <td>actionscript</td>\n",
              "      <td>35</td>\n",
              "    </tr>\n",
              "  </tbody>\n",
              "</table>\n",
              "</div>\n",
              "      <button class=\"colab-df-convert\" onclick=\"convertToInteractive('df-fbb9548f-f099-4ec7-b14d-afab437ee305')\"\n",
              "              title=\"Convert this dataframe to an interactive table.\"\n",
              "              style=\"display:none;\">\n",
              "        \n",
              "  <svg xmlns=\"http://www.w3.org/2000/svg\" height=\"24px\"viewBox=\"0 0 24 24\"\n",
              "       width=\"24px\">\n",
              "    <path d=\"M0 0h24v24H0V0z\" fill=\"none\"/>\n",
              "    <path d=\"M18.56 5.44l.94 2.06.94-2.06 2.06-.94-2.06-.94-.94-2.06-.94 2.06-2.06.94zm-11 1L8.5 8.5l.94-2.06 2.06-.94-2.06-.94L8.5 2.5l-.94 2.06-2.06.94zm10 10l.94 2.06.94-2.06 2.06-.94-2.06-.94-.94-2.06-.94 2.06-2.06.94z\"/><path d=\"M17.41 7.96l-1.37-1.37c-.4-.4-.92-.59-1.43-.59-.52 0-1.04.2-1.43.59L10.3 9.45l-7.72 7.72c-.78.78-.78 2.05 0 2.83L4 21.41c.39.39.9.59 1.41.59.51 0 1.02-.2 1.41-.59l7.78-7.78 2.81-2.81c.8-.78.8-2.07 0-2.86zM5.41 20L4 18.59l7.72-7.72 1.47 1.35L5.41 20z\"/>\n",
              "  </svg>\n",
              "      </button>\n",
              "      \n",
              "  <style>\n",
              "    .colab-df-container {\n",
              "      display:flex;\n",
              "      flex-wrap:wrap;\n",
              "      gap: 12px;\n",
              "    }\n",
              "\n",
              "    .colab-df-convert {\n",
              "      background-color: #E8F0FE;\n",
              "      border: none;\n",
              "      border-radius: 50%;\n",
              "      cursor: pointer;\n",
              "      display: none;\n",
              "      fill: #1967D2;\n",
              "      height: 32px;\n",
              "      padding: 0 0 0 0;\n",
              "      width: 32px;\n",
              "    }\n",
              "\n",
              "    .colab-df-convert:hover {\n",
              "      background-color: #E2EBFA;\n",
              "      box-shadow: 0px 1px 2px rgba(60, 64, 67, 0.3), 0px 1px 3px 1px rgba(60, 64, 67, 0.15);\n",
              "      fill: #174EA6;\n",
              "    }\n",
              "\n",
              "    [theme=dark] .colab-df-convert {\n",
              "      background-color: #3B4455;\n",
              "      fill: #D2E3FC;\n",
              "    }\n",
              "\n",
              "    [theme=dark] .colab-df-convert:hover {\n",
              "      background-color: #434B5C;\n",
              "      box-shadow: 0px 1px 3px 1px rgba(0, 0, 0, 0.15);\n",
              "      filter: drop-shadow(0px 1px 2px rgba(0, 0, 0, 0.3));\n",
              "      fill: #FFFFFF;\n",
              "    }\n",
              "  </style>\n",
              "\n",
              "      <script>\n",
              "        const buttonEl =\n",
              "          document.querySelector('#df-fbb9548f-f099-4ec7-b14d-afab437ee305 button.colab-df-convert');\n",
              "        buttonEl.style.display =\n",
              "          google.colab.kernel.accessAllowed ? 'block' : 'none';\n",
              "\n",
              "        async function convertToInteractive(key) {\n",
              "          const element = document.querySelector('#df-fbb9548f-f099-4ec7-b14d-afab437ee305');\n",
              "          const dataTable =\n",
              "            await google.colab.kernel.invokeFunction('convertToInteractive',\n",
              "                                                     [key], {});\n",
              "          if (!dataTable) return;\n",
              "\n",
              "          const docLinkHtml = 'Like what you see? Visit the ' +\n",
              "            '<a target=\"_blank\" href=https://colab.research.google.com/notebooks/data_table.ipynb>data table notebook</a>'\n",
              "            + ' to learn more about interactive tables.';\n",
              "          element.innerHTML = '';\n",
              "          dataTable['output_type'] = 'display_data';\n",
              "          await google.colab.output.renderOutput(dataTable, element);\n",
              "          const docLink = document.createElement('div');\n",
              "          docLink.innerHTML = docLinkHtml;\n",
              "          element.appendChild(docLink);\n",
              "        }\n",
              "      </script>\n",
              "    </div>\n",
              "  </div>\n",
              "  "
            ]
          },
          "metadata": {},
          "execution_count": 44
        }
      ]
    },
    {
      "cell_type": "markdown",
      "source": [
        "##Podemos ver estos datos en un gráfico de barras: "
      ],
      "metadata": {
        "id": "tZObYiYu21uP"
      }
    },
    {
      "cell_type": "code",
      "source": [
        "seaborn.set_theme(style=\"white\")\n",
        "aux = language_count[:15]\n",
        "filtered_language_count = aux.sort_values(by='frequency',ascending=False,inplace=False)\n",
        "\n",
        "x = numpy.array(list(filtered_language_count['language']))\n",
        "y1 = numpy.array(list(filtered_language_count['frequency']))\n",
        "f, (ax1) = plt.subplots(1, 1, figsize=(15, 5), sharex=True)\n",
        "\n",
        "seaborn.barplot(x=x, y=y1, palette=\"rocket\", ax=ax1)\n",
        "ax1.axhline(0, color=\"k\", clip_on=False)\n",
        "ax1.set_ylabel(\"Cantidad de personas\")\n",
        "ax1.set_title(\"Lenguajes de programación o tecnologías que manejan\")"
      ],
      "metadata": {
        "colab": {
          "base_uri": "https://localhost:8080/",
          "height": 355
        },
        "id": "WNkPj0mN2_3u",
        "outputId": "edc4f049-786f-4b7c-d174-3b2a44ad9ee5"
      },
      "execution_count": 45,
      "outputs": [
        {
          "output_type": "execute_result",
          "data": {
            "text/plain": [
              "Text(0.5, 1.0, 'Lenguajes de programación o tecnologías que manejan')"
            ]
          },
          "metadata": {},
          "execution_count": 45
        },
        {
          "output_type": "display_data",
          "data": {
            "text/plain": [
              "<Figure size 1080x360 with 1 Axes>"
            ],
            "image/png": "[encoded data removed]"
          },
          "metadata": {}
        }
      ]
    },
    {
      "cell_type": "markdown",
      "source": [
        "En el gráfico se ve una caída fuerte en la frecuencia de encuestados a partir del lenguaje `go`. En la tabla anterior podemos ver que 734 de los encuestados dijeron programar en `c#`, representando el 12% del total de encuestados (6095) mientras que la cantidad de encuestados que programa en `go` solo representa el 5% de la muestra. Por esto decidimos cortar nuestro listado de programas relevantes en los 11 primeros."
      ],
      "metadata": {
        "id": "jGFUYPtZ3PmB"
      }
    },
    {
      "cell_type": "code",
      "source": [
        "#Redefinimos los lenguajes más frecuentes para que sean 11\n",
        "aux1 = language_count[:11]\n",
        "filtered_language_count = aux1.sort_values(by='frequency',ascending=False,inplace=False)\n",
        "x = numpy.array(list(filtered_language_count['language']))"
      ],
      "metadata": {
        "id": "u5c-eJNp8VrH"
      },
      "execution_count": 46,
      "outputs": []
    },
    {
      "cell_type": "markdown",
      "metadata": {
        "id": "nThbJ1KeUgDo"
      },
      "source": [
        "##Filtramos entonces las filas donde el valor de la columna `programming_language` se encuentre en la lista `interesting_languages` que contiene los 11 lenguajes seleccionados y creamos un nuevo dataset a partir de `df_lang` llamado `filtered_df_lang`."
      ]
    },
    {
      "cell_type": "code",
      "metadata": {
        "colab": {
          "base_uri": "https://localhost:8080/",
          "height": 206
        },
        "id": "DEpVptnLZUQU",
        "outputId": "f3c0d34e-f8a3-490a-df32-6a13df9d9eea"
      },
      "source": [
        "#Creamos nuestro dataset filtrado y vemos las primeras 5 filas\n",
        "interesting_languages = x\n",
        "filtered_df_lang = df_lang[df_lang.programming_language.isin(interesting_languages)]\n",
        "filtered_df_lang[:5]"
      ],
      "execution_count": 47,
      "outputs": [
        {
          "output_type": "execute_result",
          "data": {
            "text/plain": [
              "  programming_language                        tools_programming_languages  \\\n",
              "1                 html                           HTML, Javascript, Python   \n",
              "1           javascript                           HTML, Javascript, Python   \n",
              "1               python                           HTML, Javascript, Python   \n",
              "3           bash/shell  Bash/Shell, C, CSS, HTML, Java, Javascript, PH...   \n",
              "3                  css  Bash/Shell, C, CSS, HTML, Java, Javascript, PH...   \n",
              "\n",
              "   salary_monthly_BRUTO                        cured_programming_languages  \n",
              "1              79,000.0                         [html, javascript, python]  \n",
              "1              79,000.0                         [html, javascript, python]  \n",
              "1              79,000.0                         [html, javascript, python]  \n",
              "3             130,000.0  [bash/shell, c, css, html, java, javascript, p...  \n",
              "3             130,000.0  [bash/shell, c, css, html, java, javascript, p...  "
            ],
            "text/html": [
              "\n",
              "  <div id=\"df-3ac5605f-1213-4ea0-bd04-8873a07afa54\">\n",
              "    <div class=\"colab-df-container\">\n",
              "      <div>\n",
              "<style scoped>\n",
              "    .dataframe tbody tr th:only-of-type {\n",
              "        vertical-align: middle;\n",
              "    }\n",
              "\n",
              "    .dataframe tbody tr th {\n",
              "        vertical-align: top;\n",
              "    }\n",
              "\n",
              "    .dataframe thead th {\n",
              "        text-align: right;\n",
              "    }\n",
              "</style>\n",
              "<table border=\"1\" class=\"dataframe\">\n",
              "  <thead>\n",
              "    <tr style=\"text-align: right;\">\n",
              "      <th></th>\n",
              "      <th>programming_language</th>\n",
              "      <th>tools_programming_languages</th>\n",
              "      <th>salary_monthly_BRUTO</th>\n",
              "      <th>cured_programming_languages</th>\n",
              "    </tr>\n",
              "  </thead>\n",
              "  <tbody>\n",
              "    <tr>\n",
              "      <th>1</th>\n",
              "      <td>html</td>\n",
              "      <td>HTML, Javascript, Python</td>\n",
              "      <td>79,000.0</td>\n",
              "      <td>[html, javascript, python]</td>\n",
              "    </tr>\n",
              "    <tr>\n",
              "      <th>1</th>\n",
              "      <td>javascript</td>\n",
              "      <td>HTML, Javascript, Python</td>\n",
              "      <td>79,000.0</td>\n",
              "      <td>[html, javascript, python]</td>\n",
              "    </tr>\n",
              "    <tr>\n",
              "      <th>1</th>\n",
              "      <td>python</td>\n",
              "      <td>HTML, Javascript, Python</td>\n",
              "      <td>79,000.0</td>\n",
              "      <td>[html, javascript, python]</td>\n",
              "    </tr>\n",
              "    <tr>\n",
              "      <th>3</th>\n",
              "      <td>bash/shell</td>\n",
              "      <td>Bash/Shell, C, CSS, HTML, Java, Javascript, PH...</td>\n",
              "      <td>130,000.0</td>\n",
              "      <td>[bash/shell, c, css, html, java, javascript, p...</td>\n",
              "    </tr>\n",
              "    <tr>\n",
              "      <th>3</th>\n",
              "      <td>css</td>\n",
              "      <td>Bash/Shell, C, CSS, HTML, Java, Javascript, PH...</td>\n",
              "      <td>130,000.0</td>\n",
              "      <td>[bash/shell, c, css, html, java, javascript, p...</td>\n",
              "    </tr>\n",
              "  </tbody>\n",
              "</table>\n",
              "</div>\n",
              "      <button class=\"colab-df-convert\" onclick=\"convertToInteractive('df-3ac5605f-1213-4ea0-bd04-8873a07afa54')\"\n",
              "              title=\"Convert this dataframe to an interactive table.\"\n",
              "              style=\"display:none;\">\n",
              "        \n",
              "  <svg xmlns=\"http://www.w3.org/2000/svg\" height=\"24px\"viewBox=\"0 0 24 24\"\n",
              "       width=\"24px\">\n",
              "    <path d=\"M0 0h24v24H0V0z\" fill=\"none\"/>\n",
              "    <path d=\"M18.56 5.44l.94 2.06.94-2.06 2.06-.94-2.06-.94-.94-2.06-.94 2.06-2.06.94zm-11 1L8.5 8.5l.94-2.06 2.06-.94-2.06-.94L8.5 2.5l-.94 2.06-2.06.94zm10 10l.94 2.06.94-2.06 2.06-.94-2.06-.94-.94-2.06-.94 2.06-2.06.94z\"/><path d=\"M17.41 7.96l-1.37-1.37c-.4-.4-.92-.59-1.43-.59-.52 0-1.04.2-1.43.59L10.3 9.45l-7.72 7.72c-.78.78-.78 2.05 0 2.83L4 21.41c.39.39.9.59 1.41.59.51 0 1.02-.2 1.41-.59l7.78-7.78 2.81-2.81c.8-.78.8-2.07 0-2.86zM5.41 20L4 18.59l7.72-7.72 1.47 1.35L5.41 20z\"/>\n",
              "  </svg>\n",
              "      </button>\n",
              "      \n",
              "  <style>\n",
              "    .colab-df-container {\n",
              "      display:flex;\n",
              "      flex-wrap:wrap;\n",
              "      gap: 12px;\n",
              "    }\n",
              "\n",
              "    .colab-df-convert {\n",
              "      background-color: #E8F0FE;\n",
              "      border: none;\n",
              "      border-radius: 50%;\n",
              "      cursor: pointer;\n",
              "      display: none;\n",
              "      fill: #1967D2;\n",
              "      height: 32px;\n",
              "      padding: 0 0 0 0;\n",
              "      width: 32px;\n",
              "    }\n",
              "\n",
              "    .colab-df-convert:hover {\n",
              "      background-color: #E2EBFA;\n",
              "      box-shadow: 0px 1px 2px rgba(60, 64, 67, 0.3), 0px 1px 3px 1px rgba(60, 64, 67, 0.15);\n",
              "      fill: #174EA6;\n",
              "    }\n",
              "\n",
              "    [theme=dark] .colab-df-convert {\n",
              "      background-color: #3B4455;\n",
              "      fill: #D2E3FC;\n",
              "    }\n",
              "\n",
              "    [theme=dark] .colab-df-convert:hover {\n",
              "      background-color: #434B5C;\n",
              "      box-shadow: 0px 1px 3px 1px rgba(0, 0, 0, 0.15);\n",
              "      filter: drop-shadow(0px 1px 2px rgba(0, 0, 0, 0.3));\n",
              "      fill: #FFFFFF;\n",
              "    }\n",
              "  </style>\n",
              "\n",
              "      <script>\n",
              "        const buttonEl =\n",
              "          document.querySelector('#df-3ac5605f-1213-4ea0-bd04-8873a07afa54 button.colab-df-convert');\n",
              "        buttonEl.style.display =\n",
              "          google.colab.kernel.accessAllowed ? 'block' : 'none';\n",
              "\n",
              "        async function convertToInteractive(key) {\n",
              "          const element = document.querySelector('#df-3ac5605f-1213-4ea0-bd04-8873a07afa54');\n",
              "          const dataTable =\n",
              "            await google.colab.kernel.invokeFunction('convertToInteractive',\n",
              "                                                     [key], {});\n",
              "          if (!dataTable) return;\n",
              "\n",
              "          const docLinkHtml = 'Like what you see? Visit the ' +\n",
              "            '<a target=\"_blank\" href=https://colab.research.google.com/notebooks/data_table.ipynb>data table notebook</a>'\n",
              "            + ' to learn more about interactive tables.';\n",
              "          element.innerHTML = '';\n",
              "          dataTable['output_type'] = 'display_data';\n",
              "          await google.colab.output.renderOutput(dataTable, element);\n",
              "          const docLink = document.createElement('div');\n",
              "          docLink.innerHTML = docLinkHtml;\n",
              "          element.appendChild(docLink);\n",
              "        }\n",
              "      </script>\n",
              "    </div>\n",
              "  </div>\n",
              "  "
            ]
          },
          "metadata": {},
          "execution_count": 47
        }
      ]
    },
    {
      "cell_type": "markdown",
      "source": [
        "##Ahora veamos medidas de tendencia central y de dispersión de la variable de interés `salary_monthly_BRUTO` con respecto a estos 11 lenguajes de programación."
      ],
      "metadata": {
        "id": "V_bblB2w3yLV"
      }
    },
    {
      "cell_type": "code",
      "source": [
        "pd.options.display.float_format = '{:,.0f}'.format\n",
        "filtered_df_lang.groupby('programming_language').describe().round()"
      ],
      "metadata": {
        "colab": {
          "base_uri": "https://localhost:8080/",
          "height": 457
        },
        "id": "BOfVyAIk95n6",
        "outputId": "09dcb10b-c8b8-4928-f423-6574806ec116"
      },
      "execution_count": 48,
      "outputs": [
        {
          "output_type": "execute_result",
          "data": {
            "text/plain": [
              "                     salary_monthly_BRUTO                                     \\\n",
              "                                    count    mean     std min    25%     50%   \n",
              "programming_language                                                           \n",
              ".net                                  823 116,507  97,341   1 63,000  94,377   \n",
              "bash/shell                            993 145,670 146,312   2 73,000 115,000   \n",
              "c#                                    734 116,789 108,548   1 62,732  92,247   \n",
              "css                                 1,247 118,567 125,576   1 60,000  90,000   \n",
              "html                                1,861 117,607 118,094   1 60,000  90,000   \n",
              "java                                1,453 135,575 123,882   1 70,000 112,000   \n",
              "javascript                          2,513 130,110 132,336   1 63,000 100,000   \n",
              "php                                   891 118,010 105,128   1 60,000  90,000   \n",
              "python                              1,475 146,513 135,523   1 75,000 115,000   \n",
              "sql                                 2,154 119,939 120,796   1 61,000  95,000   \n",
              "typescript                            779 149,161 169,341   1 69,500 110,000   \n",
              "\n",
              "                                        \n",
              "                         75%       max  \n",
              "programming_language                    \n",
              ".net                 140,000 1,033,000  \n",
              "bash/shell           165,000 2,080,000  \n",
              "c#                   139,412 1,680,000  \n",
              "css                  139,250 2,080,000  \n",
              "html                 135,000 2,080,000  \n",
              "java                 165,000 2,180,000  \n",
              "javascript           150,000 2,180,000  \n",
              "php                  140,000   975,000  \n",
              "python               170,000 1,680,000  \n",
              "sql                  140,000 2,180,000  \n",
              "typescript           163,148 2,180,000  "
            ],
            "text/html": [
              "\n",
              "  <div id=\"df-e1e82677-6239-47b4-814b-a9f7bbc84269\">\n",
              "    <div class=\"colab-df-container\">\n",
              "      <div>\n",
              "<style scoped>\n",
              "    .dataframe tbody tr th:only-of-type {\n",
              "        vertical-align: middle;\n",
              "    }\n",
              "\n",
              "    .dataframe tbody tr th {\n",
              "        vertical-align: top;\n",
              "    }\n",
              "\n",
              "    .dataframe thead tr th {\n",
              "        text-align: left;\n",
              "    }\n",
              "\n",
              "    .dataframe thead tr:last-of-type th {\n",
              "        text-align: right;\n",
              "    }\n",
              "</style>\n",
              "<table border=\"1\" class=\"dataframe\">\n",
              "  <thead>\n",
              "    <tr>\n",
              "      <th></th>\n",
              "      <th colspan=\"8\" halign=\"left\">salary_monthly_BRUTO</th>\n",
              "    </tr>\n",
              "    <tr>\n",
              "      <th></th>\n",
              "      <th>count</th>\n",
              "      <th>mean</th>\n",
              "      <th>std</th>\n",
              "      <th>min</th>\n",
              "      <th>25%</th>\n",
              "      <th>50%</th>\n",
              "      <th>75%</th>\n",
              "      <th>max</th>\n",
              "    </tr>\n",
              "    <tr>\n",
              "      <th>programming_language</th>\n",
              "      <th></th>\n",
              "      <th></th>\n",
              "      <th></th>\n",
              "      <th></th>\n",
              "      <th></th>\n",
              "      <th></th>\n",
              "      <th></th>\n",
              "      <th></th>\n",
              "    </tr>\n",
              "  </thead>\n",
              "  <tbody>\n",
              "    <tr>\n",
              "      <th>.net</th>\n",
              "      <td>823</td>\n",
              "      <td>116,507</td>\n",
              "      <td>97,341</td>\n",
              "      <td>1</td>\n",
              "      <td>63,000</td>\n",
              "      <td>94,377</td>\n",
              "      <td>140,000</td>\n",
              "      <td>1,033,000</td>\n",
              "    </tr>\n",
              "    <tr>\n",
              "      <th>bash/shell</th>\n",
              "      <td>993</td>\n",
              "      <td>145,670</td>\n",
              "      <td>146,312</td>\n",
              "      <td>2</td>\n",
              "      <td>73,000</td>\n",
              "      <td>115,000</td>\n",
              "      <td>165,000</td>\n",
              "      <td>2,080,000</td>\n",
              "    </tr>\n",
              "    <tr>\n",
              "      <th>c#</th>\n",
              "      <td>734</td>\n",
              "      <td>116,789</td>\n",
              "      <td>108,548</td>\n",
              "      <td>1</td>\n",
              "      <td>62,732</td>\n",
              "      <td>92,247</td>\n",
              "      <td>139,412</td>\n",
              "      <td>1,680,000</td>\n",
              "    </tr>\n",
              "    <tr>\n",
              "      <th>css</th>\n",
              "      <td>1,247</td>\n",
              "      <td>118,567</td>\n",
              "      <td>125,576</td>\n",
              "      <td>1</td>\n",
              "      <td>60,000</td>\n",
              "      <td>90,000</td>\n",
              "      <td>139,250</td>\n",
              "      <td>2,080,000</td>\n",
              "    </tr>\n",
              "    <tr>\n",
              "      <th>html</th>\n",
              "      <td>1,861</td>\n",
              "      <td>117,607</td>\n",
              "      <td>118,094</td>\n",
              "      <td>1</td>\n",
              "      <td>60,000</td>\n",
              "      <td>90,000</td>\n",
              "      <td>135,000</td>\n",
              "      <td>2,080,000</td>\n",
              "    </tr>\n",
              "    <tr>\n",
              "      <th>java</th>\n",
              "      <td>1,453</td>\n",
              "      <td>135,575</td>\n",
              "      <td>123,882</td>\n",
              "      <td>1</td>\n",
              "      <td>70,000</td>\n",
              "      <td>112,000</td>\n",
              "      <td>165,000</td>\n",
              "      <td>2,180,000</td>\n",
              "    </tr>\n",
              "    <tr>\n",
              "      <th>javascript</th>\n",
              "      <td>2,513</td>\n",
              "      <td>130,110</td>\n",
              "      <td>132,336</td>\n",
              "      <td>1</td>\n",
              "      <td>63,000</td>\n",
              "      <td>100,000</td>\n",
              "      <td>150,000</td>\n",
              "      <td>2,180,000</td>\n",
              "    </tr>\n",
              "    <tr>\n",
              "      <th>php</th>\n",
              "      <td>891</td>\n",
              "      <td>118,010</td>\n",
              "      <td>105,128</td>\n",
              "      <td>1</td>\n",
              "      <td>60,000</td>\n",
              "      <td>90,000</td>\n",
              "      <td>140,000</td>\n",
              "      <td>975,000</td>\n",
              "    </tr>\n",
              "    <tr>\n",
              "      <th>python</th>\n",
              "      <td>1,475</td>\n",
              "      <td>146,513</td>\n",
              "      <td>135,523</td>\n",
              "      <td>1</td>\n",
              "      <td>75,000</td>\n",
              "      <td>115,000</td>\n",
              "      <td>170,000</td>\n",
              "      <td>1,680,000</td>\n",
              "    </tr>\n",
              "    <tr>\n",
              "      <th>sql</th>\n",
              "      <td>2,154</td>\n",
              "      <td>119,939</td>\n",
              "      <td>120,796</td>\n",
              "      <td>1</td>\n",
              "      <td>61,000</td>\n",
              "      <td>95,000</td>\n",
              "      <td>140,000</td>\n",
              "      <td>2,180,000</td>\n",
              "    </tr>\n",
              "    <tr>\n",
              "      <th>typescript</th>\n",
              "      <td>779</td>\n",
              "      <td>149,161</td>\n",
              "      <td>169,341</td>\n",
              "      <td>1</td>\n",
              "      <td>69,500</td>\n",
              "      <td>110,000</td>\n",
              "      <td>163,148</td>\n",
              "      <td>2,180,000</td>\n",
              "    </tr>\n",
              "  </tbody>\n",
              "</table>\n",
              "</div>\n",
              "      <button class=\"colab-df-convert\" onclick=\"convertToInteractive('df-e1e82677-6239-47b4-814b-a9f7bbc84269')\"\n",
              "              title=\"Convert this dataframe to an interactive table.\"\n",
              "              style=\"display:none;\">\n",
              "        \n",
              "  <svg xmlns=\"http://www.w3.org/2000/svg\" height=\"24px\"viewBox=\"0 0 24 24\"\n",
              "       width=\"24px\">\n",
              "    <path d=\"M0 0h24v24H0V0z\" fill=\"none\"/>\n",
              "    <path d=\"M18.56 5.44l.94 2.06.94-2.06 2.06-.94-2.06-.94-.94-2.06-.94 2.06-2.06.94zm-11 1L8.5 8.5l.94-2.06 2.06-.94-2.06-.94L8.5 2.5l-.94 2.06-2.06.94zm10 10l.94 2.06.94-2.06 2.06-.94-2.06-.94-.94-2.06-.94 2.06-2.06.94z\"/><path d=\"M17.41 7.96l-1.37-1.37c-.4-.4-.92-.59-1.43-.59-.52 0-1.04.2-1.43.59L10.3 9.45l-7.72 7.72c-.78.78-.78 2.05 0 2.83L4 21.41c.39.39.9.59 1.41.59.51 0 1.02-.2 1.41-.59l7.78-7.78 2.81-2.81c.8-.78.8-2.07 0-2.86zM5.41 20L4 18.59l7.72-7.72 1.47 1.35L5.41 20z\"/>\n",
              "  </svg>\n",
              "      </button>\n",
              "      \n",
              "  <style>\n",
              "    .colab-df-container {\n",
              "      display:flex;\n",
              "      flex-wrap:wrap;\n",
              "      gap: 12px;\n",
              "    }\n",
              "\n",
              "    .colab-df-convert {\n",
              "      background-color: #E8F0FE;\n",
              "      border: none;\n",
              "      border-radius: 50%;\n",
              "      cursor: pointer;\n",
              "      display: none;\n",
              "      fill: #1967D2;\n",
              "      height: 32px;\n",
              "      padding: 0 0 0 0;\n",
              "      width: 32px;\n",
              "    }\n",
              "\n",
              "    .colab-df-convert:hover {\n",
              "      background-color: #E2EBFA;\n",
              "      box-shadow: 0px 1px 2px rgba(60, 64, 67, 0.3), 0px 1px 3px 1px rgba(60, 64, 67, 0.15);\n",
              "      fill: #174EA6;\n",
              "    }\n",
              "\n",
              "    [theme=dark] .colab-df-convert {\n",
              "      background-color: #3B4455;\n",
              "      fill: #D2E3FC;\n",
              "    }\n",
              "\n",
              "    [theme=dark] .colab-df-convert:hover {\n",
              "      background-color: #434B5C;\n",
              "      box-shadow: 0px 1px 3px 1px rgba(0, 0, 0, 0.15);\n",
              "      filter: drop-shadow(0px 1px 2px rgba(0, 0, 0, 0.3));\n",
              "      fill: #FFFFFF;\n",
              "    }\n",
              "  </style>\n",
              "\n",
              "      <script>\n",
              "        const buttonEl =\n",
              "          document.querySelector('#df-e1e82677-6239-47b4-814b-a9f7bbc84269 button.colab-df-convert');\n",
              "        buttonEl.style.display =\n",
              "          google.colab.kernel.accessAllowed ? 'block' : 'none';\n",
              "\n",
              "        async function convertToInteractive(key) {\n",
              "          const element = document.querySelector('#df-e1e82677-6239-47b4-814b-a9f7bbc84269');\n",
              "          const dataTable =\n",
              "            await google.colab.kernel.invokeFunction('convertToInteractive',\n",
              "                                                     [key], {});\n",
              "          if (!dataTable) return;\n",
              "\n",
              "          const docLinkHtml = 'Like what you see? Visit the ' +\n",
              "            '<a target=\"_blank\" href=https://colab.research.google.com/notebooks/data_table.ipynb>data table notebook</a>'\n",
              "            + ' to learn more about interactive tables.';\n",
              "          element.innerHTML = '';\n",
              "          dataTable['output_type'] = 'display_data';\n",
              "          await google.colab.output.renderOutput(dataTable, element);\n",
              "          const docLink = document.createElement('div');\n",
              "          docLink.innerHTML = docLinkHtml;\n",
              "          element.appendChild(docLink);\n",
              "        }\n",
              "      </script>\n",
              "    </div>\n",
              "  </div>\n",
              "  "
            ]
          },
          "metadata": {},
          "execution_count": 48
        }
      ]
    },
    {
      "cell_type": "markdown",
      "source": [
        "En la tabla vemos que el Salario mensual Bruto mínimo para estos 11 lenguajes es de $1. Asumimos que estos datos son equivalentes a \"Ns/Nc\". Asimismo, para la mayoría de estos lenguajes el sueldo máximo supera los 2 millones, lo cual resulta muy diferente de la Media."
      ],
      "metadata": {
        "id": "LG8zEZsnpqKl"
      }
    },
    {
      "cell_type": "markdown",
      "source": [
        "##A continuación y tal como se observó en la tabla antes expuesta, el boxplot nos muestra una fuerte presencia de valores extremos máximos."
      ],
      "metadata": {
        "id": "cyhdq-tgNw1Q"
      }
    },
    {
      "cell_type": "code",
      "source": [
        "seaborn.set_theme(style=\"ticks\")\n",
        "plt.figure(figsize=(12, 6))\n",
        "seaborn.boxplot(data=filtered_df_lang, x=\"salary_monthly_BRUTO\", y=\"programming_language\",\n",
        "                palette=\"rocket\")\n",
        "plt.ticklabel_format(style='plain', axis='x')"
      ],
      "metadata": {
        "colab": {
          "base_uri": "https://localhost:8080/",
          "height": 394
        },
        "id": "GOO9FOjhNbAz",
        "outputId": "e0f64db1-9911-48a9-ef23-a83d3783f8bb"
      },
      "execution_count": 49,
      "outputs": [
        {
          "output_type": "display_data",
          "data": {
            "text/plain": [
              "<Figure size 864x432 with 1 Axes>"
            ],
            "image/png": "[encoded data removed]"
          },
          "metadata": {}
        }
      ]
    },
    {
      "cell_type": "markdown",
      "source": [
        "A continuación vemos graficada la mediana como medida más robusta y menos influenciable por estos datos extremos. "
      ],
      "metadata": {
        "id": "dFSsAdH9FZqp"
      }
    },
    {
      "cell_type": "code",
      "source": [
        "language_medians = filtered_df_lang.groupby('programming_language').median()\\\n",
        "    .reset_index()\\\n",
        "    .rename(columns={'programming_language': 'language', 'salary_monthly_BRUTO': 'median'})"
      ],
      "metadata": {
        "id": "1SoWJI6KBFLo"
      },
      "execution_count": 50,
      "outputs": []
    },
    {
      "cell_type": "markdown",
      "source": [
        "##aa"
      ],
      "metadata": {
        "id": "1u6RCT7wOHog"
      }
    },
    {
      "cell_type": "code",
      "source": [
        "seaborn.set_theme(style=\"white\")\n",
        "x = numpy.array(list(language_medians['language']))\n",
        "y = numpy.array(list(language_medians['median']))\n",
        "ord = numpy.array(list(filtered_language_count['language']))\n",
        "f, (ax1) = plt.subplots(1, 1, figsize=(15, 5), sharex=True)\n",
        "\n",
        "seaborn.barplot(x=x, y=y, palette=\"rocket\", ax=ax1, order = ord)\n",
        "ax1.axhline(0, color=\"k\", clip_on=False)\n",
        "ax1.set_ylabel(\"Mediana de Salario Mensual BRUTO\")\n",
        "ax1.set_title(\"Mediana de Salario Mensual BRUTO para los lenguajes de programación o tecnologías más frecuentes\")"
      ],
      "metadata": {
        "colab": {
          "base_uri": "https://localhost:8080/",
          "height": 355
        },
        "outputId": "274f0613-9b00-4342-e2dd-5eec627d057a",
        "id": "r3wjjMJnBGIM"
      },
      "execution_count": 51,
      "outputs": [
        {
          "output_type": "execute_result",
          "data": {
            "text/plain": [
              "Text(0.5, 1.0, 'Mediana de Salario Mensual BRUTO para los lenguajes de programación o tecnologías más frecuentes')"
            ]
          },
          "metadata": {},
          "execution_count": 51
        },
        {
          "output_type": "display_data",
          "data": {
            "text/plain": [
              "<Figure size 1080x360 with 1 Axes>"
            ],
            "image/png": "[encoded data removed]"
          },
          "metadata": {}
        }
      ]
    },
    {
      "cell_type": "markdown",
      "source": [
        "En la gráfica se observa que los lenguajes `phyton`, `java` y `bash/shell` son los mejor remunerados. Por el contrario, la mediana del Salario Mensual BRUTO es menor para `html`, `css` y `php`."
      ],
      "metadata": {
        "id": "UNJsmmG-KECH"
      }
    },
    {
      "cell_type": "code",
      "source": [
        "# ESTO NO ME QUEDA MUY CLARO PARA QUÉ LO HICIMOS. Mientras tanto lo dejo comentado.\n",
        "\n",
        "filtered=filtered_df_lang[['programming_language', 'salary_monthly_BRUTO']]\n",
        "filtered[:5]"
      ],
      "metadata": {
        "id": "czZDx90Y_QRy",
        "colab": {
          "base_uri": "https://localhost:8080/",
          "height": 206
        },
        "outputId": "33b6e024-38a7-4d53-9c62-8f49dd59e313"
      },
      "execution_count": 52,
      "outputs": [
        {
          "output_type": "execute_result",
          "data": {
            "text/plain": [
              "  programming_language  salary_monthly_BRUTO\n",
              "1                 html                79,000\n",
              "1           javascript                79,000\n",
              "1               python                79,000\n",
              "3           bash/shell               130,000\n",
              "3                  css               130,000"
            ],
            "text/html": [
              "\n",
              "  <div id=\"df-6af3d5ac-4124-47cb-935b-5fe3a8a03c39\">\n",
              "    <div class=\"colab-df-container\">\n",
              "      <div>\n",
              "<style scoped>\n",
              "    .dataframe tbody tr th:only-of-type {\n",
              "        vertical-align: middle;\n",
              "    }\n",
              "\n",
              "    .dataframe tbody tr th {\n",
              "        vertical-align: top;\n",
              "    }\n",
              "\n",
              "    .dataframe thead th {\n",
              "        text-align: right;\n",
              "    }\n",
              "</style>\n",
              "<table border=\"1\" class=\"dataframe\">\n",
              "  <thead>\n",
              "    <tr style=\"text-align: right;\">\n",
              "      <th></th>\n",
              "      <th>programming_language</th>\n",
              "      <th>salary_monthly_BRUTO</th>\n",
              "    </tr>\n",
              "  </thead>\n",
              "  <tbody>\n",
              "    <tr>\n",
              "      <th>1</th>\n",
              "      <td>html</td>\n",
              "      <td>79,000</td>\n",
              "    </tr>\n",
              "    <tr>\n",
              "      <th>1</th>\n",
              "      <td>javascript</td>\n",
              "      <td>79,000</td>\n",
              "    </tr>\n",
              "    <tr>\n",
              "      <th>1</th>\n",
              "      <td>python</td>\n",
              "      <td>79,000</td>\n",
              "    </tr>\n",
              "    <tr>\n",
              "      <th>3</th>\n",
              "      <td>bash/shell</td>\n",
              "      <td>130,000</td>\n",
              "    </tr>\n",
              "    <tr>\n",
              "      <th>3</th>\n",
              "      <td>css</td>\n",
              "      <td>130,000</td>\n",
              "    </tr>\n",
              "  </tbody>\n",
              "</table>\n",
              "</div>\n",
              "      <button class=\"colab-df-convert\" onclick=\"convertToInteractive('df-6af3d5ac-4124-47cb-935b-5fe3a8a03c39')\"\n",
              "              title=\"Convert this dataframe to an interactive table.\"\n",
              "              style=\"display:none;\">\n",
              "        \n",
              "  <svg xmlns=\"http://www.w3.org/2000/svg\" height=\"24px\"viewBox=\"0 0 24 24\"\n",
              "       width=\"24px\">\n",
              "    <path d=\"M0 0h24v24H0V0z\" fill=\"none\"/>\n",
              "    <path d=\"M18.56 5.44l.94 2.06.94-2.06 2.06-.94-2.06-.94-.94-2.06-.94 2.06-2.06.94zm-11 1L8.5 8.5l.94-2.06 2.06-.94-2.06-.94L8.5 2.5l-.94 2.06-2.06.94zm10 10l.94 2.06.94-2.06 2.06-.94-2.06-.94-.94-2.06-.94 2.06-2.06.94z\"/><path d=\"M17.41 7.96l-1.37-1.37c-.4-.4-.92-.59-1.43-.59-.52 0-1.04.2-1.43.59L10.3 9.45l-7.72 7.72c-.78.78-.78 2.05 0 2.83L4 21.41c.39.39.9.59 1.41.59.51 0 1.02-.2 1.41-.59l7.78-7.78 2.81-2.81c.8-.78.8-2.07 0-2.86zM5.41 20L4 18.59l7.72-7.72 1.47 1.35L5.41 20z\"/>\n",
              "  </svg>\n",
              "      </button>\n",
              "      \n",
              "  <style>\n",
              "    .colab-df-container {\n",
              "      display:flex;\n",
              "      flex-wrap:wrap;\n",
              "      gap: 12px;\n",
              "    }\n",
              "\n",
              "    .colab-df-convert {\n",
              "      background-color: #E8F0FE;\n",
              "      border: none;\n",
              "      border-radius: 50%;\n",
              "      cursor: pointer;\n",
              "      display: none;\n",
              "      fill: #1967D2;\n",
              "      height: 32px;\n",
              "      padding: 0 0 0 0;\n",
              "      width: 32px;\n",
              "    }\n",
              "\n",
              "    .colab-df-convert:hover {\n",
              "      background-color: #E2EBFA;\n",
              "      box-shadow: 0px 1px 2px rgba(60, 64, 67, 0.3), 0px 1px 3px 1px rgba(60, 64, 67, 0.15);\n",
              "      fill: #174EA6;\n",
              "    }\n",
              "\n",
              "    [theme=dark] .colab-df-convert {\n",
              "      background-color: #3B4455;\n",
              "      fill: #D2E3FC;\n",
              "    }\n",
              "\n",
              "    [theme=dark] .colab-df-convert:hover {\n",
              "      background-color: #434B5C;\n",
              "      box-shadow: 0px 1px 3px 1px rgba(0, 0, 0, 0.15);\n",
              "      filter: drop-shadow(0px 1px 2px rgba(0, 0, 0, 0.3));\n",
              "      fill: #FFFFFF;\n",
              "    }\n",
              "  </style>\n",
              "\n",
              "      <script>\n",
              "        const buttonEl =\n",
              "          document.querySelector('#df-6af3d5ac-4124-47cb-935b-5fe3a8a03c39 button.colab-df-convert');\n",
              "        buttonEl.style.display =\n",
              "          google.colab.kernel.accessAllowed ? 'block' : 'none';\n",
              "\n",
              "        async function convertToInteractive(key) {\n",
              "          const element = document.querySelector('#df-6af3d5ac-4124-47cb-935b-5fe3a8a03c39');\n",
              "          const dataTable =\n",
              "            await google.colab.kernel.invokeFunction('convertToInteractive',\n",
              "                                                     [key], {});\n",
              "          if (!dataTable) return;\n",
              "\n",
              "          const docLinkHtml = 'Like what you see? Visit the ' +\n",
              "            '<a target=\"_blank\" href=https://colab.research.google.com/notebooks/data_table.ipynb>data table notebook</a>'\n",
              "            + ' to learn more about interactive tables.';\n",
              "          element.innerHTML = '';\n",
              "          dataTable['output_type'] = 'display_data';\n",
              "          await google.colab.output.renderOutput(dataTable, element);\n",
              "          const docLink = document.createElement('div');\n",
              "          docLink.innerHTML = docLinkHtml;\n",
              "          element.appendChild(docLink);\n",
              "        }\n",
              "      </script>\n",
              "    </div>\n",
              "  </div>\n",
              "  "
            ]
          },
          "metadata": {},
          "execution_count": 52
        }
      ]
    },
    {
      "cell_type": "code",
      "source": [
        "# ESTO QUE SIGUE PARA MI YA ESTÁ RESUELTO CON LA TABLA DE ARRIBA, les parece que lo saquemos? Mientras tanto lo comenté\n",
        "\n",
        "#filtered.reset_index(inplace=True)\n",
        "#dfl=df.groupby(filtered['programming_language'])[['salary_monthly_BRUTO']].sum() ##sacar medio del salario  \n",
        "#dfl_int=dfl.describe().round()\n",
        "#dfl_int"
      ],
      "metadata": {
        "id": "ZKwql7ya_iV_"
      },
      "execution_count": 53,
      "outputs": []
    },
    {
      "cell_type": "code",
      "source": [
        "#dfl_int=dfl.astype(int)\n",
        "#df_val_order=dfl_int.sort_values('salary_monthly_NETO',ascending=False)[:10]\n",
        "#df_val_order ##sacar por promedio"
      ],
      "metadata": {
        "id": "BbRVwLVUmTHM"
      },
      "execution_count": 54,
      "outputs": []
    },
    {
      "cell_type": "code",
      "source": [
        "#seaborn.displot(filtered_df_lang['programming_language'][:50].dropna(),\n",
        "#                 stat='count', aspect=4) ##ordenar por mayor frecuencia"
      ],
      "metadata": {
        "id": "WMw00sCeAcP1"
      },
      "execution_count": 55,
      "outputs": []
    },
    {
      "cell_type": "code",
      "source": [
        "#Agregar grafica por salario promedio y por mediana."
      ],
      "metadata": {
        "id": "ya-rU_KmAykE"
      },
      "execution_count": 56,
      "outputs": []
    },
    {
      "cell_type": "markdown",
      "metadata": {
        "id": "tWo8SmmC9FAk"
      },
      "source": [
        "# Ejercicio 2 - Densidades y varias variables\n",
        "\n",
        "Responder a la pregunta general: **¿Que herramientas (prácticas y teóricas) són útiles para explorar la base, descubrir patrones, asociaciones?**\n",
        "\n",
        "Para ello considere (igual al ejercicio Anterior):\n",
        "1. Seleccionar las columnas relevantes para analizar.\n",
        "2. Seleccionar las filas relevantes para analizar. Esto incluye la eliminación de valores extremos y erróneos, pero también puede enfocar el análisis en sub-poblaciones. "
      ]
    },
    {
      "cell_type": "markdown",
      "source": [
        "Leo nuevamente el data set\n",
        "se puede eliminar despues, lo hice por las dudas, (revisar si es necesario)"
      ],
      "metadata": {
        "id": "sO1ecZ-FOIaw"
      }
    },
    {
      "cell_type": "code",
      "source": [
        "url = 'https://cs.famaf.unc.edu.ar/~mteruel/datasets/diplodatos/sysarmy_survey_2020_processed.csv'\n",
        "df = pd.read_csv(url)"
      ],
      "metadata": {
        "id": "FBLDsFhJWCBe"
      },
      "execution_count": 57,
      "outputs": []
    },
    {
      "cell_type": "code",
      "source": [
        "df[:3]"
      ],
      "metadata": {
        "colab": {
          "base_uri": "https://localhost:8080/",
          "height": 324
        },
        "id": "NYumXLM3WMyP",
        "outputId": "af41d923-75cb-4388-8edd-a06c4ebe3f8d"
      },
      "execution_count": 58,
      "outputs": [
        {
          "output_type": "execute_result",
          "data": {
            "text/plain": [
              "  profile_gender  profile_age work_country                    work_province  \\\n",
              "0          Mujer           26    Argentina  Ciudad Autónoma de Buenos Aires   \n",
              "1         Hombre           29    Argentina                       Corrientes   \n",
              "2          Mujer           22    Argentina  Ciudad Autónoma de Buenos Aires   \n",
              "\n",
              "   profile_years_experience  work_years_in_company  \\\n",
              "0                         3                      3   \n",
              "1                         5                      2   \n",
              "2                         2                      0   \n",
              "\n",
              "   work_years_in_current_position  work_people_in_charge_of  \\\n",
              "0                               3                         0   \n",
              "1                               2                         4   \n",
              "2                               0                         0   \n",
              "\n",
              "  profile_studies_level profile_studies_level_state  ...  \\\n",
              "0         Universitario                    En curso  ...   \n",
              "1         Universitario                    En curso  ...   \n",
              "2            Secundario                  Completado  ...   \n",
              "\n",
              "  work_has_violence_situations profile_sexual_orientation  \\\n",
              "0         En mi trabajo actual                 Homosexual   \n",
              "1                        Jamás               Heterosexual   \n",
              "2       En un trabajo anterior           Bisexual o queer   \n",
              "\n",
              "  profile_has_disabilities profile_has_disabilities_hiring_difficulties  \\\n",
              "0                      NaN                                          NaN   \n",
              "1                   Visual                                           No   \n",
              "2                      NaN                                           No   \n",
              "\n",
              "  company_employee_number                          company_main_activity  \\\n",
              "0                501-1000  Servicios / Consultoría de Software / Digital   \n",
              "1                 201-500                               Otras industrias   \n",
              "2               2001-5000                               Otras industrias   \n",
              "\n",
              "  company_recommended company_diversity_policies  \\\n",
              "0                   7                          2   \n",
              "1                   8                          9   \n",
              "2                   6                          9   \n",
              "\n",
              "                              company_extra_benefits  \\\n",
              "0  Capacitaciones y/o cursos, Comidas pagas / sub...   \n",
              "1  Horarios flexibles, Stock options / RSUs, Viát...   \n",
              "2  Clases de gimnasia online, Comidas pagas / sub...   \n",
              "\n",
              "  company_best_companies_city  \n",
              "0                         NaN  \n",
              "1                         NaN  \n",
              "2                         NaN  \n",
              "\n",
              "[3 rows x 48 columns]"
            ],
            "text/html": [
              "\n",
              "  <div id=\"df-61df5774-fd34-48fa-980a-76559ebe1f92\">\n",
              "    <div class=\"colab-df-container\">\n",
              "      <div>\n",
              "<style scoped>\n",
              "    .dataframe tbody tr th:only-of-type {\n",
              "        vertical-align: middle;\n",
              "    }\n",
              "\n",
              "    .dataframe tbody tr th {\n",
              "        vertical-align: top;\n",
              "    }\n",
              "\n",
              "    .dataframe thead th {\n",
              "        text-align: right;\n",
              "    }\n",
              "</style>\n",
              "<table border=\"1\" class=\"dataframe\">\n",
              "  <thead>\n",
              "    <tr style=\"text-align: right;\">\n",
              "      <th></th>\n",
              "      <th>profile_gender</th>\n",
              "      <th>profile_age</th>\n",
              "      <th>work_country</th>\n",
              "      <th>work_province</th>\n",
              "      <th>profile_years_experience</th>\n",
              "      <th>work_years_in_company</th>\n",
              "      <th>work_years_in_current_position</th>\n",
              "      <th>work_people_in_charge_of</th>\n",
              "      <th>profile_studies_level</th>\n",
              "      <th>profile_studies_level_state</th>\n",
              "      <th>...</th>\n",
              "      <th>work_has_violence_situations</th>\n",
              "      <th>profile_sexual_orientation</th>\n",
              "      <th>profile_has_disabilities</th>\n",
              "      <th>profile_has_disabilities_hiring_difficulties</th>\n",
              "      <th>company_employee_number</th>\n",
              "      <th>company_main_activity</th>\n",
              "      <th>company_recommended</th>\n",
              "      <th>company_diversity_policies</th>\n",
              "      <th>company_extra_benefits</th>\n",
              "      <th>company_best_companies_city</th>\n",
              "    </tr>\n",
              "  </thead>\n",
              "  <tbody>\n",
              "    <tr>\n",
              "      <th>0</th>\n",
              "      <td>Mujer</td>\n",
              "      <td>26</td>\n",
              "      <td>Argentina</td>\n",
              "      <td>Ciudad Autónoma de Buenos Aires</td>\n",
              "      <td>3</td>\n",
              "      <td>3</td>\n",
              "      <td>3</td>\n",
              "      <td>0</td>\n",
              "      <td>Universitario</td>\n",
              "      <td>En curso</td>\n",
              "      <td>...</td>\n",
              "      <td>En mi trabajo actual</td>\n",
              "      <td>Homosexual</td>\n",
              "      <td>NaN</td>\n",
              "      <td>NaN</td>\n",
              "      <td>501-1000</td>\n",
              "      <td>Servicios / Consultoría de Software / Digital</td>\n",
              "      <td>7</td>\n",
              "      <td>2</td>\n",
              "      <td>Capacitaciones y/o cursos, Comidas pagas / sub...</td>\n",
              "      <td>NaN</td>\n",
              "    </tr>\n",
              "    <tr>\n",
              "      <th>1</th>\n",
              "      <td>Hombre</td>\n",
              "      <td>29</td>\n",
              "      <td>Argentina</td>\n",
              "      <td>Corrientes</td>\n",
              "      <td>5</td>\n",
              "      <td>2</td>\n",
              "      <td>2</td>\n",
              "      <td>4</td>\n",
              "      <td>Universitario</td>\n",
              "      <td>En curso</td>\n",
              "      <td>...</td>\n",
              "      <td>Jamás</td>\n",
              "      <td>Heterosexual</td>\n",
              "      <td>Visual</td>\n",
              "      <td>No</td>\n",
              "      <td>201-500</td>\n",
              "      <td>Otras industrias</td>\n",
              "      <td>8</td>\n",
              "      <td>9</td>\n",
              "      <td>Horarios flexibles, Stock options / RSUs, Viát...</td>\n",
              "      <td>NaN</td>\n",
              "    </tr>\n",
              "    <tr>\n",
              "      <th>2</th>\n",
              "      <td>Mujer</td>\n",
              "      <td>22</td>\n",
              "      <td>Argentina</td>\n",
              "      <td>Ciudad Autónoma de Buenos Aires</td>\n",
              "      <td>2</td>\n",
              "      <td>0</td>\n",
              "      <td>0</td>\n",
              "      <td>0</td>\n",
              "      <td>Secundario</td>\n",
              "      <td>Completado</td>\n",
              "      <td>...</td>\n",
              "      <td>En un trabajo anterior</td>\n",
              "      <td>Bisexual o queer</td>\n",
              "      <td>NaN</td>\n",
              "      <td>No</td>\n",
              "      <td>2001-5000</td>\n",
              "      <td>Otras industrias</td>\n",
              "      <td>6</td>\n",
              "      <td>9</td>\n",
              "      <td>Clases de gimnasia online, Comidas pagas / sub...</td>\n",
              "      <td>NaN</td>\n",
              "    </tr>\n",
              "  </tbody>\n",
              "</table>\n",
              "<p>3 rows × 48 columns</p>\n",
              "</div>\n",
              "      <button class=\"colab-df-convert\" onclick=\"convertToInteractive('df-61df5774-fd34-48fa-980a-76559ebe1f92')\"\n",
              "              title=\"Convert this dataframe to an interactive table.\"\n",
              "              style=\"display:none;\">\n",
              "        \n",
              "  <svg xmlns=\"http://www.w3.org/2000/svg\" height=\"24px\"viewBox=\"0 0 24 24\"\n",
              "       width=\"24px\">\n",
              "    <path d=\"M0 0h24v24H0V0z\" fill=\"none\"/>\n",
              "    <path d=\"M18.56 5.44l.94 2.06.94-2.06 2.06-.94-2.06-.94-.94-2.06-.94 2.06-2.06.94zm-11 1L8.5 8.5l.94-2.06 2.06-.94-2.06-.94L8.5 2.5l-.94 2.06-2.06.94zm10 10l.94 2.06.94-2.06 2.06-.94-2.06-.94-.94-2.06-.94 2.06-2.06.94z\"/><path d=\"M17.41 7.96l-1.37-1.37c-.4-.4-.92-.59-1.43-.59-.52 0-1.04.2-1.43.59L10.3 9.45l-7.72 7.72c-.78.78-.78 2.05 0 2.83L4 21.41c.39.39.9.59 1.41.59.51 0 1.02-.2 1.41-.59l7.78-7.78 2.81-2.81c.8-.78.8-2.07 0-2.86zM5.41 20L4 18.59l7.72-7.72 1.47 1.35L5.41 20z\"/>\n",
              "  </svg>\n",
              "      </button>\n",
              "      \n",
              "  <style>\n",
              "    .colab-df-container {\n",
              "      display:flex;\n",
              "      flex-wrap:wrap;\n",
              "      gap: 12px;\n",
              "    }\n",
              "\n",
              "    .colab-df-convert {\n",
              "      background-color: #E8F0FE;\n",
              "      border: none;\n",
              "      border-radius: 50%;\n",
              "      cursor: pointer;\n",
              "      display: none;\n",
              "      fill: #1967D2;\n",
              "      height: 32px;\n",
              "      padding: 0 0 0 0;\n",
              "      width: 32px;\n",
              "    }\n",
              "\n",
              "    .colab-df-convert:hover {\n",
              "      background-color: #E2EBFA;\n",
              "      box-shadow: 0px 1px 2px rgba(60, 64, 67, 0.3), 0px 1px 3px 1px rgba(60, 64, 67, 0.15);\n",
              "      fill: #174EA6;\n",
              "    }\n",
              "\n",
              "    [theme=dark] .colab-df-convert {\n",
              "      background-color: #3B4455;\n",
              "      fill: #D2E3FC;\n",
              "    }\n",
              "\n",
              "    [theme=dark] .colab-df-convert:hover {\n",
              "      background-color: #434B5C;\n",
              "      box-shadow: 0px 1px 3px 1px rgba(0, 0, 0, 0.15);\n",
              "      filter: drop-shadow(0px 1px 2px rgba(0, 0, 0, 0.3));\n",
              "      fill: #FFFFFF;\n",
              "    }\n",
              "  </style>\n",
              "\n",
              "      <script>\n",
              "        const buttonEl =\n",
              "          document.querySelector('#df-61df5774-fd34-48fa-980a-76559ebe1f92 button.colab-df-convert');\n",
              "        buttonEl.style.display =\n",
              "          google.colab.kernel.accessAllowed ? 'block' : 'none';\n",
              "\n",
              "        async function convertToInteractive(key) {\n",
              "          const element = document.querySelector('#df-61df5774-fd34-48fa-980a-76559ebe1f92');\n",
              "          const dataTable =\n",
              "            await google.colab.kernel.invokeFunction('convertToInteractive',\n",
              "                                                     [key], {});\n",
              "          if (!dataTable) return;\n",
              "\n",
              "          const docLinkHtml = 'Like what you see? Visit the ' +\n",
              "            '<a target=\"_blank\" href=https://colab.research.google.com/notebooks/data_table.ipynb>data table notebook</a>'\n",
              "            + ' to learn more about interactive tables.';\n",
              "          element.innerHTML = '';\n",
              "          dataTable['output_type'] = 'display_data';\n",
              "          await google.colab.output.renderOutput(dataTable, element);\n",
              "          const docLink = document.createElement('div');\n",
              "          docLink.innerHTML = docLinkHtml;\n",
              "          element.appendChild(docLink);\n",
              "        }\n",
              "      </script>\n",
              "    </div>\n",
              "  </div>\n",
              "  "
            ]
          },
          "metadata": {},
          "execution_count": 58
        }
      ]
    },
    {
      "cell_type": "markdown",
      "source": [
        "Seleccioné la columna Company Recommended.\n",
        "\n",
        "Seleccionar las filas relevantes para analizar. Esto incluye la eliminación de valores extremos y erróneos, pero también puede enfocar el análisis en sub-poblaciones."
      ],
      "metadata": {
        "id": "j_Atm_clclK-"
      }
    },
    {
      "cell_type": "markdown",
      "source": [
        "Histograma de recomendaciones ( o algo asi!)\n",
        "Se observa que la mayoria recomienda su empresa para trabajar??"
      ],
      "metadata": {
        "id": "E4oQOHWGmyRF"
      }
    },
    {
      "cell_type": "code",
      "source": [
        "RECOMIENDAN_col = 'company_recommended'\n",
        "seaborn.displot(df[RECOMIENDAN_col], aspect=2)"
      ],
      "metadata": {
        "colab": {
          "base_uri": "https://localhost:8080/",
          "height": 382
        },
        "id": "PQkExVsblc8A",
        "outputId": "1a41c906-ec58-4e6d-daf6-4b5aad202d82"
      },
      "execution_count": 59,
      "outputs": [
        {
          "output_type": "execute_result",
          "data": {
            "text/plain": [
              "<seaborn.axisgrid.FacetGrid at 0x7fa867335150>"
            ]
          },
          "metadata": {},
          "execution_count": 59
        },
        {
          "output_type": "display_data",
          "data": {
            "text/plain": [
              "<Figure size 720x360 with 1 Axes>"
            ],
            "image/png": "[encoded data removed]"
          },
          "metadata": {}
        }
      ]
    },
    {
      "cell_type": "markdown",
      "source": [
        "ESTADISTICAS DESCRIPTIVAS (revisar porque me aparecen 3 puntitos y me esconde parte de la visualizacion\n"
      ],
      "metadata": {
        "id": "9vw2gGJLyJj7"
      }
    },
    {
      "cell_type": "code",
      "source": [
        "df[RECOMIENDAN_col].describe().apply(lambda s: '{0:.3f}'.format(s))"
      ],
      "metadata": {
        "colab": {
          "base_uri": "https://localhost:8080/"
        },
        "id": "VlEGXRUlyMn1",
        "outputId": "9e71b9ff-d260-4e7a-fbb3-91d732a04bf5"
      },
      "execution_count": 60,
      "outputs": [
        {
          "output_type": "execute_result",
          "data": {
            "text/plain": [
              "count    6095.000\n",
              "mean        7.340\n",
              "std         2.024\n",
              "min         1.000\n",
              "25%         6.000\n",
              "50%         8.000\n",
              "75%         9.000\n",
              "max        10.000\n",
              "Name: company_recommended, dtype: object"
            ]
          },
          "metadata": {},
          "execution_count": 60
        }
      ]
    },
    {
      "cell_type": "markdown",
      "source": [
        "MEDIA Y MEDIANA DE LAS RECOMENDACIONES\n",
        "si no coinciden es porque la distribución no es simétrica\n",
        "\n",
        "En este caso se observa que la media se desplaza hacia los valores mas altos. esto se debe a que la mayoria asigno valores por encima de 5 y por lo tanto en general, los encuestados recomendaria su compa;ía con. Es decir, son mas los qeu recomiendna que los que no ##revisar/mejorar esta analisis"
      ],
      "metadata": {
        "id": "YB67QR_JystV"
      }
    },
    {
      "cell_type": "code",
      "source": [
        "df[RECOMIENDAN_col].mean(), df[RECOMIENDAN_col].median()"
      ],
      "metadata": {
        "colab": {
          "base_uri": "https://localhost:8080/"
        },
        "id": "ScK9Z_M-y7Gc",
        "outputId": "202ee162-f390-4e2b-fb0b-ae7e4a0fd81b"
      },
      "execution_count": 61,
      "outputs": [
        {
          "output_type": "execute_result",
          "data": {
            "text/plain": [
              "(7.340114848236259, 8.0)"
            ]
          },
          "metadata": {},
          "execution_count": 61
        }
      ]
    },
    {
      "cell_type": "markdown",
      "source": [
        "Lo mismo para a;os de experiencia\n"
      ],
      "metadata": {
        "id": "1xgbeLGgzYT9"
      }
    },
    {
      "cell_type": "markdown",
      "source": [
        "VALORACIONES Y LENGUAJES \n",
        "NO SE SI: \n",
        "1)SUMA LAS VALORACIONES QUE RECIBIO CADA PROGRAMA, O \n",
        "2) SI CUENTA CUANTOS ENCUESTADOS VALORARON EL LENGUAJE\n",
        "\n",
        "COMO SACO LOS TRES PUNTITOS DE LA TABLA?"
      ],
      "metadata": {
        "id": "bZC68lgazJ3C"
      }
    },
    {
      "cell_type": "code",
      "source": [
        "language_count = df_lang.programming_language.value_counts()\\\n",
        "    .reset_index()\\\n",
        "    .rename(columns={'index': 'Valoracion recom', 'company_recommended': 'frequency'})\n",
        "language_count[:30]"
      ],
      "metadata": {
        "colab": {
          "base_uri": "https://localhost:8080/",
          "height": 990
        },
        "id": "o6_nwOWpoEjU",
        "outputId": "a5db9528-2937-4537-b795-950a5e351c8e"
      },
      "execution_count": 62,
      "outputs": [
        {
          "output_type": "execute_result",
          "data": {
            "text/plain": [
              "   Valoracion recom  programming_language\n",
              "0        javascript                  2513\n",
              "1               sql                  2154\n",
              "2              html                  1861\n",
              "3            python                  1475\n",
              "4              java                  1453\n",
              "5               css                  1247\n",
              "6        bash/shell                   993\n",
              "7               php                   891\n",
              "8              .net                   823\n",
              "9        typescript                   779\n",
              "10               c#                   734\n",
              "11               go                   306\n",
              "12              c++                   271\n",
              "13                c                   242\n",
              "14              vba                   222\n",
              "15           kotlin                   191\n",
              "16           groovy                   169\n",
              "17             ruby                   157\n",
              "18            scala                   115\n",
              "19            swift                   103\n",
              "20                r                    86\n",
              "21            cobol                    81\n",
              "22             abap                    73\n",
              "23             perl                    65\n",
              "24      objective-c                    51\n",
              "25           delphi                    44\n",
              "26       powershell                    41\n",
              "27             dart                    38\n",
              "28        assembler                    36\n",
              "29     actionscript                    35"
            ],
            "text/html": [
              "\n",
              "  <div id=\"df-f96e5b44-c205-406f-ab2c-d6975d30ab8e\">\n",
              "    <div class=\"colab-df-container\">\n",
              "      <div>\n",
              "<style scoped>\n",
              "    .dataframe tbody tr th:only-of-type {\n",
              "        vertical-align: middle;\n",
              "    }\n",
              "\n",
              "    .dataframe tbody tr th {\n",
              "        vertical-align: top;\n",
              "    }\n",
              "\n",
              "    .dataframe thead th {\n",
              "        text-align: right;\n",
              "    }\n",
              "</style>\n",
              "<table border=\"1\" class=\"dataframe\">\n",
              "  <thead>\n",
              "    <tr style=\"text-align: right;\">\n",
              "      <th></th>\n",
              "      <th>Valoracion recom</th>\n",
              "      <th>programming_language</th>\n",
              "    </tr>\n",
              "  </thead>\n",
              "  <tbody>\n",
              "    <tr>\n",
              "      <th>0</th>\n",
              "      <td>javascript</td>\n",
              "      <td>2513</td>\n",
              "    </tr>\n",
              "    <tr>\n",
              "      <th>1</th>\n",
              "      <td>sql</td>\n",
              "      <td>2154</td>\n",
              "    </tr>\n",
              "    <tr>\n",
              "      <th>2</th>\n",
              "      <td>html</td>\n",
              "      <td>1861</td>\n",
              "    </tr>\n",
              "    <tr>\n",
              "      <th>3</th>\n",
              "      <td>python</td>\n",
              "      <td>1475</td>\n",
              "    </tr>\n",
              "    <tr>\n",
              "      <th>4</th>\n",
              "      <td>java</td>\n",
              "      <td>1453</td>\n",
              "    </tr>\n",
              "    <tr>\n",
              "      <th>5</th>\n",
              "      <td>css</td>\n",
              "      <td>1247</td>\n",
              "    </tr>\n",
              "    <tr>\n",
              "      <th>6</th>\n",
              "      <td>bash/shell</td>\n",
              "      <td>993</td>\n",
              "    </tr>\n",
              "    <tr>\n",
              "      <th>7</th>\n",
              "      <td>php</td>\n",
              "      <td>891</td>\n",
              "    </tr>\n",
              "    <tr>\n",
              "      <th>8</th>\n",
              "      <td>.net</td>\n",
              "      <td>823</td>\n",
              "    </tr>\n",
              "    <tr>\n",
              "      <th>9</th>\n",
              "      <td>typescript</td>\n",
              "      <td>779</td>\n",
              "    </tr>\n",
              "    <tr>\n",
              "      <th>10</th>\n",
              "      <td>c#</td>\n",
              "      <td>734</td>\n",
              "    </tr>\n",
              "    <tr>\n",
              "      <th>11</th>\n",
              "      <td>go</td>\n",
              "      <td>306</td>\n",
              "    </tr>\n",
              "    <tr>\n",
              "      <th>12</th>\n",
              "      <td>c++</td>\n",
              "      <td>271</td>\n",
              "    </tr>\n",
              "    <tr>\n",
              "      <th>13</th>\n",
              "      <td>c</td>\n",
              "      <td>242</td>\n",
              "    </tr>\n",
              "    <tr>\n",
              "      <th>14</th>\n",
              "      <td>vba</td>\n",
              "      <td>222</td>\n",
              "    </tr>\n",
              "    <tr>\n",
              "      <th>15</th>\n",
              "      <td>kotlin</td>\n",
              "      <td>191</td>\n",
              "    </tr>\n",
              "    <tr>\n",
              "      <th>16</th>\n",
              "      <td>groovy</td>\n",
              "      <td>169</td>\n",
              "    </tr>\n",
              "    <tr>\n",
              "      <th>17</th>\n",
              "      <td>ruby</td>\n",
              "      <td>157</td>\n",
              "    </tr>\n",
              "    <tr>\n",
              "      <th>18</th>\n",
              "      <td>scala</td>\n",
              "      <td>115</td>\n",
              "    </tr>\n",
              "    <tr>\n",
              "      <th>19</th>\n",
              "      <td>swift</td>\n",
              "      <td>103</td>\n",
              "    </tr>\n",
              "    <tr>\n",
              "      <th>20</th>\n",
              "      <td>r</td>\n",
              "      <td>86</td>\n",
              "    </tr>\n",
              "    <tr>\n",
              "      <th>21</th>\n",
              "      <td>cobol</td>\n",
              "      <td>81</td>\n",
              "    </tr>\n",
              "    <tr>\n",
              "      <th>22</th>\n",
              "      <td>abap</td>\n",
              "      <td>73</td>\n",
              "    </tr>\n",
              "    <tr>\n",
              "      <th>23</th>\n",
              "      <td>perl</td>\n",
              "      <td>65</td>\n",
              "    </tr>\n",
              "    <tr>\n",
              "      <th>24</th>\n",
              "      <td>objective-c</td>\n",
              "      <td>51</td>\n",
              "    </tr>\n",
              "    <tr>\n",
              "      <th>25</th>\n",
              "      <td>delphi</td>\n",
              "      <td>44</td>\n",
              "    </tr>\n",
              "    <tr>\n",
              "      <th>26</th>\n",
              "      <td>powershell</td>\n",
              "      <td>41</td>\n",
              "    </tr>\n",
              "    <tr>\n",
              "      <th>27</th>\n",
              "      <td>dart</td>\n",
              "      <td>38</td>\n",
              "    </tr>\n",
              "    <tr>\n",
              "      <th>28</th>\n",
              "      <td>assembler</td>\n",
              "      <td>36</td>\n",
              "    </tr>\n",
              "    <tr>\n",
              "      <th>29</th>\n",
              "      <td>actionscript</td>\n",
              "      <td>35</td>\n",
              "    </tr>\n",
              "  </tbody>\n",
              "</table>\n",
              "</div>\n",
              "      <button class=\"colab-df-convert\" onclick=\"convertToInteractive('df-f96e5b44-c205-406f-ab2c-d6975d30ab8e')\"\n",
              "              title=\"Convert this dataframe to an interactive table.\"\n",
              "              style=\"display:none;\">\n",
              "        \n",
              "  <svg xmlns=\"http://www.w3.org/2000/svg\" height=\"24px\"viewBox=\"0 0 24 24\"\n",
              "       width=\"24px\">\n",
              "    <path d=\"M0 0h24v24H0V0z\" fill=\"none\"/>\n",
              "    <path d=\"M18.56 5.44l.94 2.06.94-2.06 2.06-.94-2.06-.94-.94-2.06-.94 2.06-2.06.94zm-11 1L8.5 8.5l.94-2.06 2.06-.94-2.06-.94L8.5 2.5l-.94 2.06-2.06.94zm10 10l.94 2.06.94-2.06 2.06-.94-2.06-.94-.94-2.06-.94 2.06-2.06.94z\"/><path d=\"M17.41 7.96l-1.37-1.37c-.4-.4-.92-.59-1.43-.59-.52 0-1.04.2-1.43.59L10.3 9.45l-7.72 7.72c-.78.78-.78 2.05 0 2.83L4 21.41c.39.39.9.59 1.41.59.51 0 1.02-.2 1.41-.59l7.78-7.78 2.81-2.81c.8-.78.8-2.07 0-2.86zM5.41 20L4 18.59l7.72-7.72 1.47 1.35L5.41 20z\"/>\n",
              "  </svg>\n",
              "      </button>\n",
              "      \n",
              "  <style>\n",
              "    .colab-df-container {\n",
              "      display:flex;\n",
              "      flex-wrap:wrap;\n",
              "      gap: 12px;\n",
              "    }\n",
              "\n",
              "    .colab-df-convert {\n",
              "      background-color: #E8F0FE;\n",
              "      border: none;\n",
              "      border-radius: 50%;\n",
              "      cursor: pointer;\n",
              "      display: none;\n",
              "      fill: #1967D2;\n",
              "      height: 32px;\n",
              "      padding: 0 0 0 0;\n",
              "      width: 32px;\n",
              "    }\n",
              "\n",
              "    .colab-df-convert:hover {\n",
              "      background-color: #E2EBFA;\n",
              "      box-shadow: 0px 1px 2px rgba(60, 64, 67, 0.3), 0px 1px 3px 1px rgba(60, 64, 67, 0.15);\n",
              "      fill: #174EA6;\n",
              "    }\n",
              "\n",
              "    [theme=dark] .colab-df-convert {\n",
              "      background-color: #3B4455;\n",
              "      fill: #D2E3FC;\n",
              "    }\n",
              "\n",
              "    [theme=dark] .colab-df-convert:hover {\n",
              "      background-color: #434B5C;\n",
              "      box-shadow: 0px 1px 3px 1px rgba(0, 0, 0, 0.15);\n",
              "      filter: drop-shadow(0px 1px 2px rgba(0, 0, 0, 0.3));\n",
              "      fill: #FFFFFF;\n",
              "    }\n",
              "  </style>\n",
              "\n",
              "      <script>\n",
              "        const buttonEl =\n",
              "          document.querySelector('#df-f96e5b44-c205-406f-ab2c-d6975d30ab8e button.colab-df-convert');\n",
              "        buttonEl.style.display =\n",
              "          google.colab.kernel.accessAllowed ? 'block' : 'none';\n",
              "\n",
              "        async function convertToInteractive(key) {\n",
              "          const element = document.querySelector('#df-f96e5b44-c205-406f-ab2c-d6975d30ab8e');\n",
              "          const dataTable =\n",
              "            await google.colab.kernel.invokeFunction('convertToInteractive',\n",
              "                                                     [key], {});\n",
              "          if (!dataTable) return;\n",
              "\n",
              "          const docLinkHtml = 'Like what you see? Visit the ' +\n",
              "            '<a target=\"_blank\" href=https://colab.research.google.com/notebooks/data_table.ipynb>data table notebook</a>'\n",
              "            + ' to learn more about interactive tables.';\n",
              "          element.innerHTML = '';\n",
              "          dataTable['output_type'] = 'display_data';\n",
              "          await google.colab.output.renderOutput(dataTable, element);\n",
              "          const docLink = document.createElement('div');\n",
              "          docLink.innerHTML = docLinkHtml;\n",
              "          element.appendChild(docLink);\n",
              "        }\n",
              "      </script>\n",
              "    </div>\n",
              "  </div>\n",
              "  "
            ]
          },
          "metadata": {},
          "execution_count": 62
        }
      ]
    },
    {
      "cell_type": "markdown",
      "source": [
        "HISTOGRAMA DE A;OS DE EXPERIENCIA"
      ],
      "metadata": {
        "id": "rXcWrqEKrz3Q"
      }
    },
    {
      "cell_type": "code",
      "source": [
        "#Conteos de Datos que no son numéricos, datos categóricos. Pueden ser ordinales o no ordinales.\n",
        "fig = plt.figure(figsize=(10, 10))\n",
        "seaborn.countplot(y=df.profile_years_experience\t, color='steelblue')"
      ],
      "metadata": {
        "colab": {
          "base_uri": "https://localhost:8080/",
          "height": 628
        },
        "id": "u4JX3sIpr0xR",
        "outputId": "ff70b9b9-37e4-4959-d682-2e23d4c9d455"
      },
      "execution_count": 63,
      "outputs": [
        {
          "output_type": "execute_result",
          "data": {
            "text/plain": [
              "<matplotlib.axes._subplots.AxesSubplot at 0x7fa867202390>"
            ]
          },
          "metadata": {},
          "execution_count": 63
        },
        {
          "output_type": "display_data",
          "data": {
            "text/plain": [
              "<Figure size 720x720 with 1 Axes>"
            ],
            "image/png": "[encoded data removed]"
          },
          "metadata": {}
        }
      ]
    },
    {
      "cell_type": "markdown",
      "source": [
        "TRABAJO CON A;OS DE EXPERIENCIA\n",
        "HISTOGRAMA\n",
        "SE OBSERVA QUE LOS DE MENOS DE 10 A;OS USAN MESES ADEMAS DE A;OS\n",
        "SE PODRIA USAR UN BIN MAS GRANDE PARA AGRUPAR?"
      ],
      "metadata": {
        "id": "3VmUAgk0lbOH"
      }
    },
    {
      "cell_type": "code",
      "source": [
        "plt.figure()\n",
        "fig = plt.figure(figsize=(25, 5))\n",
        "seaborn.countplot(x=df.profile_years_experience, color='GREEN')\n",
        "#for ax in axes:\n",
        "plt.tick_params(labelrotation=0)"
      ],
      "metadata": {
        "colab": {
          "base_uri": "https://localhost:8080/",
          "height": 309
        },
        "id": "MxYArYNlsWKR",
        "outputId": "12f96f61-b299-48b0-c88c-7adb9715cf25"
      },
      "execution_count": 69,
      "outputs": [
        {
          "output_type": "display_data",
          "data": {
            "text/plain": [
              "<Figure size 432x288 with 0 Axes>"
            ]
          },
          "metadata": {}
        },
        {
          "output_type": "display_data",
          "data": {
            "text/plain": [
              "<Figure size 1800x360 with 1 Axes>"
            ],
            "image/png": "[encoded data removed]"
          },
          "metadata": {}
        }
      ]
    },
    {
      "cell_type": "markdown",
      "source": [
        "Aplico descriptivas para a;os de experiencia\n"
      ],
      "metadata": {
        "id": "4-l0R2gWNpBY"
      }
    },
    {
      "cell_type": "code",
      "source": [
        "experiencia_col = 'profile_years_experience'"
      ],
      "metadata": {
        "id": "EbMZqP7jNqzv"
      },
      "execution_count": 65,
      "outputs": []
    },
    {
      "cell_type": "code",
      "source": [
        "df[experiencia_col].describe().apply(lambda s: '{0:.3f}'.format(s))"
      ],
      "metadata": {
        "colab": {
          "base_uri": "https://localhost:8080/"
        },
        "id": "QL2iPLNYOGZG",
        "outputId": "2ec6f075-97e6-447a-ee22-041ba9e1ad96"
      },
      "execution_count": 66,
      "outputs": [
        {
          "output_type": "execute_result",
          "data": {
            "text/plain": [
              "count    6095.000\n",
              "mean        8.931\n",
              "std         7.161\n",
              "min         0.000\n",
              "25%         3.000\n",
              "50%         7.000\n",
              "75%        13.000\n",
              "max       115.000\n",
              "Name: profile_years_experience, dtype: object"
            ]
          },
          "metadata": {},
          "execution_count": 66
        }
      ]
    },
    {
      "cell_type": "markdown",
      "source": [
        "veo un out lier de 115 a;os\n",
        "Voy a aplicar percentles para eliminar valor atipico\n"
      ],
      "metadata": {
        "id": "BVyLK2o_mIVu"
      }
    },
    {
      "cell_type": "code",
      "source": [
        "k = 95\n",
        "percentile_95 = df[experiencia_col].quantile(k / 100)\n",
        "n_below = len(df[df[experiencia_col] < percentile_95])\n",
        "n_above = len(df[df[experiencia_col] > percentile_95])\n",
        "print('Percentil {} de la columna {}: {}'.format(k, experiencia_col, percentile_95))\n",
        "print('% de datos menor que percentil {}: {}'.format(k, n_below / len(df)))\n",
        "print('% de datos mayor que percentil {}: {}'.format(k, n_above / len(df)))"
      ],
      "metadata": {
        "colab": {
          "base_uri": "https://localhost:8080/"
        },
        "id": "q6bkCLiTmJH9",
        "outputId": "9aa6ecfd-0e91-435a-f024-2ff56810ae25"
      },
      "execution_count": 70,
      "outputs": [
        {
          "output_type": "stream",
          "name": "stdout",
          "text": [
            "Percentil 95 de la columna profile_years_experience: 22.0\n",
            "% de datos menor que percentil 95: 0.9447087776866284\n",
            "% de datos mayor que percentil 95: 0.04675963904840033\n"
          ]
        }
      ]
    },
    {
      "cell_type": "markdown",
      "source": [
        "vamos a analizar que percentil conviene tomar\n"
      ],
      "metadata": {
        "id": "4iuDx1r8nmiD"
      }
    },
    {
      "cell_type": "code",
      "source": [
        "df[experiencia_col].quantile([.95, .98, .99, .995, .998, .999])"
      ],
      "metadata": {
        "colab": {
          "base_uri": "https://localhost:8080/"
        },
        "id": "-6dEUBg3n9ZV",
        "outputId": "37dd8604-c287-43d4-d1e9-d35f71d7b440"
      },
      "execution_count": 72,
      "outputs": [
        {
          "output_type": "execute_result",
          "data": {
            "text/plain": [
              "1   22\n",
              "1   27\n",
              "1   30\n",
              "1   32\n",
              "1   35\n",
              "1   37\n",
              "Name: profile_years_experience, dtype: float64"
            ]
          },
          "metadata": {},
          "execution_count": 72
        }
      ]
    },
    {
      "cell_type": "markdown",
      "source": [
        "No se porque se ve el 1 en la columna del la izquierda, en lugar del percentil\n",
        "Podemos decir que se puede tomar le percentil .999, porqeu cnsideranod que algunos encuestados dicen tenr mas de 55 a;os, es razonable 37 a;os de experiencia_"
      ],
      "metadata": {
        "id": "xwOwLar-oZmS"
      }
    },
    {
      "cell_type": "markdown",
      "source": [
        "veamos los datos de edad\n",
        "##hacer"
      ],
      "metadata": {
        "id": "9a6OoIPgo5gc"
      }
    },
    {
      "cell_type": "code",
      "source": [
        "age = [profile_age]\n",
        "print (age)"
      ],
      "metadata": {
        "colab": {
          "base_uri": "https://localhost:8080/",
          "height": 183
        },
        "id": "e5abkCUqo7zS",
        "outputId": "7f2e7a64-7011-4533-c0fe-ec369d70f5f5"
      },
      "execution_count": 79,
      "outputs": [
        {
          "output_type": "error",
          "ename": "NameError",
          "evalue": "ignored",
          "traceback": [
            "\u001b[0;31m---------------------------------------------------------------------------\u001b[0m",
            "\u001b[0;31mNameError\u001b[0m                                 Traceback (most recent call last)",
            "\u001b[0;32m<ipython-input-79-7221576b89d0>\u001b[0m in \u001b[0;36m<module>\u001b[0;34m()\u001b[0m\n\u001b[0;32m----> 1\u001b[0;31m \u001b[0mage\u001b[0m \u001b[0;34m=\u001b[0m \u001b[0;34m[\u001b[0m\u001b[0mprofile_age\u001b[0m\u001b[0;34m]\u001b[0m\u001b[0;34m\u001b[0m\u001b[0;34m\u001b[0m\u001b[0m\n\u001b[0m\u001b[1;32m      2\u001b[0m \u001b[0mprint\u001b[0m \u001b[0;34m(\u001b[0m\u001b[0mage\u001b[0m\u001b[0;34m)\u001b[0m\u001b[0;34m\u001b[0m\u001b[0;34m\u001b[0m\u001b[0m\n",
            "\u001b[0;31mNameError\u001b[0m: name 'profile_age' is not defined"
          ]
        }
      ]
    },
    {
      "cell_type": "markdown",
      "source": [
        ""
      ],
      "metadata": {
        "id": "SGu3srktpEEl"
      }
    },
    {
      "cell_type": "code",
      "source": [
        "## La diferencia no siempre se aprecia en los gráficos\n",
        "fig, axes = plt.subplots(nrows=2, figsize=(16, 8))\n",
        "seaborn.histplot(df[experiencia_col], bins=50, ax=axes[0], color='CYAN')\n",
        "axes[0].axvline(df[experiencia_col].mean(), color='orangered',\n",
        "            linestyle='--', label='Media')\n",
        "axes[0].axvline(df[experiencia_col].median(), color='indigo',\n",
        "            linestyle='-.', label='Mediana')\n",
        "\n",
        "filtered_df = df[df[experiencia_col] < 30]\n",
        "seaborn.histplot(filtered_df[experiencia_col], bins=30, ax=axes[1], color='YELLOW')\n",
        "axes[1].axvline(filtered_df[experiencia_col].mean(), color='orangered',\n",
        "            linestyle='--', label='Media')\n",
        "axes[1].axvline(filtered_df[experiencia_col].median(), color='indigo',\n",
        "            linestyle='-.', label='Mediana')\n",
        "\n",
        "axes[0].legend()\n",
        "seaborn.despine()"
      ],
      "metadata": {
        "colab": {
          "base_uri": "https://localhost:8080/",
          "height": 504
        },
        "id": "eNJRwZLwpFCO",
        "outputId": "fc96f979-1df0-48e3-d988-339bd26b931f"
      },
      "execution_count": 68,
      "outputs": [
        {
          "output_type": "display_data",
          "data": {
            "text/plain": [
              "<Figure size 1152x576 with 2 Axes>"
            ],
            "image/png": "[encoded data removed]"
          },
          "metadata": {}
        }
      ]
    },
    {
      "cell_type": "markdown",
      "source": [
        ""
      ],
      "metadata": {
        "id": "pvjwt1dMpFmW"
      }
    },
    {
      "cell_type": "code",
      "source": [
        "df[['company_recommended', 'profile_years_experience']].describe().round()"
      ],
      "metadata": {
        "id": "n6yA71mROho6",
        "colab": {
          "base_uri": "https://localhost:8080/",
          "height": 236
        },
        "outputId": "4e54f6ab-1417-436c-fa89-7a9115f92a83"
      },
      "execution_count": null,
      "outputs": [
        {
          "output_type": "execute_result",
          "data": {
            "text/plain": [
              "       company_recommended  profile_years_experience\n",
              "count                6,095                     6,095\n",
              "mean                     7                         9\n",
              "...                    ...                       ...\n",
              "75%                      9                        13\n",
              "max                     10                       115\n",
              "\n",
              "[8 rows x 2 columns]"
            ],
            "text/html": [
              "\n",
              "  <div id=\"df-364e9893-af4d-4ac1-a754-eb2b298ea732\">\n",
              "    <div class=\"colab-df-container\">\n",
              "      <div>\n",
              "<style scoped>\n",
              "    .dataframe tbody tr th:only-of-type {\n",
              "        vertical-align: middle;\n",
              "    }\n",
              "\n",
              "    .dataframe tbody tr th {\n",
              "        vertical-align: top;\n",
              "    }\n",
              "\n",
              "    .dataframe thead th {\n",
              "        text-align: right;\n",
              "    }\n",
              "</style>\n",
              "<table border=\"1\" class=\"dataframe\">\n",
              "  <thead>\n",
              "    <tr style=\"text-align: right;\">\n",
              "      <th></th>\n",
              "      <th>company_recommended</th>\n",
              "      <th>profile_years_experience</th>\n",
              "    </tr>\n",
              "  </thead>\n",
              "  <tbody>\n",
              "    <tr>\n",
              "      <th>count</th>\n",
              "      <td>6,095</td>\n",
              "      <td>6,095</td>\n",
              "    </tr>\n",
              "    <tr>\n",
              "      <th>mean</th>\n",
              "      <td>7</td>\n",
              "      <td>9</td>\n",
              "    </tr>\n",
              "    <tr>\n",
              "      <th>...</th>\n",
              "      <td>...</td>\n",
              "      <td>...</td>\n",
              "    </tr>\n",
              "    <tr>\n",
              "      <th>75%</th>\n",
              "      <td>9</td>\n",
              "      <td>13</td>\n",
              "    </tr>\n",
              "    <tr>\n",
              "      <th>max</th>\n",
              "      <td>10</td>\n",
              "      <td>115</td>\n",
              "    </tr>\n",
              "  </tbody>\n",
              "</table>\n",
              "<p>8 rows × 2 columns</p>\n",
              "</div>\n",
              "      <button class=\"colab-df-convert\" onclick=\"convertToInteractive('df-364e9893-af4d-4ac1-a754-eb2b298ea732')\"\n",
              "              title=\"Convert this dataframe to an interactive table.\"\n",
              "              style=\"display:none;\">\n",
              "        \n",
              "  <svg xmlns=\"http://www.w3.org/2000/svg\" height=\"24px\"viewBox=\"0 0 24 24\"\n",
              "       width=\"24px\">\n",
              "    <path d=\"M0 0h24v24H0V0z\" fill=\"none\"/>\n",
              "    <path d=\"M18.56 5.44l.94 2.06.94-2.06 2.06-.94-2.06-.94-.94-2.06-.94 2.06-2.06.94zm-11 1L8.5 8.5l.94-2.06 2.06-.94-2.06-.94L8.5 2.5l-.94 2.06-2.06.94zm10 10l.94 2.06.94-2.06 2.06-.94-2.06-.94-.94-2.06-.94 2.06-2.06.94z\"/><path d=\"M17.41 7.96l-1.37-1.37c-.4-.4-.92-.59-1.43-.59-.52 0-1.04.2-1.43.59L10.3 9.45l-7.72 7.72c-.78.78-.78 2.05 0 2.83L4 21.41c.39.39.9.59 1.41.59.51 0 1.02-.2 1.41-.59l7.78-7.78 2.81-2.81c.8-.78.8-2.07 0-2.86zM5.41 20L4 18.59l7.72-7.72 1.47 1.35L5.41 20z\"/>\n",
              "  </svg>\n",
              "      </button>\n",
              "      \n",
              "  <style>\n",
              "    .colab-df-container {\n",
              "      display:flex;\n",
              "      flex-wrap:wrap;\n",
              "      gap: 12px;\n",
              "    }\n",
              "\n",
              "    .colab-df-convert {\n",
              "      background-color: #E8F0FE;\n",
              "      border: none;\n",
              "      border-radius: 50%;\n",
              "      cursor: pointer;\n",
              "      display: none;\n",
              "      fill: #1967D2;\n",
              "      height: 32px;\n",
              "      padding: 0 0 0 0;\n",
              "      width: 32px;\n",
              "    }\n",
              "\n",
              "    .colab-df-convert:hover {\n",
              "      background-color: #E2EBFA;\n",
              "      box-shadow: 0px 1px 2px rgba(60, 64, 67, 0.3), 0px 1px 3px 1px rgba(60, 64, 67, 0.15);\n",
              "      fill: #174EA6;\n",
              "    }\n",
              "\n",
              "    [theme=dark] .colab-df-convert {\n",
              "      background-color: #3B4455;\n",
              "      fill: #D2E3FC;\n",
              "    }\n",
              "\n",
              "    [theme=dark] .colab-df-convert:hover {\n",
              "      background-color: #434B5C;\n",
              "      box-shadow: 0px 1px 3px 1px rgba(0, 0, 0, 0.15);\n",
              "      filter: drop-shadow(0px 1px 2px rgba(0, 0, 0, 0.3));\n",
              "      fill: #FFFFFF;\n",
              "    }\n",
              "  </style>\n",
              "\n",
              "      <script>\n",
              "        const buttonEl =\n",
              "          document.querySelector('#df-364e9893-af4d-4ac1-a754-eb2b298ea732 button.colab-df-convert');\n",
              "        buttonEl.style.display =\n",
              "          google.colab.kernel.accessAllowed ? 'block' : 'none';\n",
              "\n",
              "        async function convertToInteractive(key) {\n",
              "          const element = document.querySelector('#df-364e9893-af4d-4ac1-a754-eb2b298ea732');\n",
              "          const dataTable =\n",
              "            await google.colab.kernel.invokeFunction('convertToInteractive',\n",
              "                                                     [key], {});\n",
              "          if (!dataTable) return;\n",
              "\n",
              "          const docLinkHtml = 'Like what you see? Visit the ' +\n",
              "            '<a target=\"_blank\" href=https://colab.research.google.com/notebooks/data_table.ipynb>data table notebook</a>'\n",
              "            + ' to learn more about interactive tables.';\n",
              "          element.innerHTML = '';\n",
              "          dataTable['output_type'] = 'display_data';\n",
              "          await google.colab.output.renderOutput(dataTable, element);\n",
              "          const docLink = document.createElement('div');\n",
              "          docLink.innerHTML = docLinkHtml;\n",
              "          element.appendChild(docLink);\n",
              "        }\n",
              "      </script>\n",
              "    </div>\n",
              "  </div>\n",
              "  "
            ]
          },
          "metadata": {},
          "execution_count": 242
        }
      ]
    },
    {
      "cell_type": "markdown",
      "source": [
        "GRAFICOS DE CAJA"
      ],
      "metadata": {
        "id": "B0w8P_d6OuZO"
      }
    },
    {
      "cell_type": "code",
      "source": [
        "plt.figure(figsize=(12, 3))\n",
        "seaborn.boxplot(x=df[experiencia_col])\n",
        "seaborn.despine()"
      ],
      "metadata": {
        "colab": {
          "base_uri": "https://localhost:8080/",
          "height": 230
        },
        "id": "o0OU-sKZQb7S",
        "outputId": "c4a67fae-177b-4627-b196-d46db72e91b8"
      },
      "execution_count": null,
      "outputs": [
        {
          "output_type": "display_data",
          "data": {
            "text/plain": [
              "<Figure size 864x216 with 1 Axes>"
            ],
            "image/png": "[encoded data removed]"
          },
          "metadata": {}
        }
      ]
    },
    {
      "cell_type": "code",
      "source": [
        "plt.figure(figsize=(12, 3))\n",
        "seaborn.boxplot(x=df[RECOMIENDAN_col])\n",
        "seaborn.despine()"
      ],
      "metadata": {
        "colab": {
          "base_uri": "https://localhost:8080/",
          "height": 230
        },
        "id": "9f5WHffeQrKK",
        "outputId": "246e9a9e-5a7c-4c7e-e4d2-6fd7e5eb4a20"
      },
      "execution_count": null,
      "outputs": [
        {
          "output_type": "display_data",
          "data": {
            "text/plain": [
              "<Figure size 864x216 with 1 Axes>"
            ],
            "image/png": "[encoded data removed]"
          },
          "metadata": {}
        }
      ]
    },
    {
      "cell_type": "markdown",
      "source": [
        ""
      ],
      "metadata": {
        "id": "dW-7Wn3MRETZ"
      }
    },
    {
      "cell_type": "code",
      "source": [
        "plt.figure(figsize=(12, 6))\n",
        "seaborn.boxplot(data=df, x=RECOMIENDAN_col, y='profile_studies_level',\n",
        "                color='orangered')\n",
        "plt.ticklabel_format(style='plain', axis='x')"
      ],
      "metadata": {
        "colab": {
          "base_uri": "https://localhost:8080/",
          "height": 394
        },
        "id": "4a3Y6IyXRFLM",
        "outputId": "dbcd4915-17d9-4b18-8e68-a789c90222fd"
      },
      "execution_count": null,
      "outputs": [
        {
          "output_type": "display_data",
          "data": {
            "text/plain": [
              "<Figure size 864x432 with 1 Axes>"
            ],
            "image/png": "[encoded data removed]"
          },
          "metadata": {}
        }
      ]
    },
    {
      "cell_type": "code",
      "source": [
        "plt.figure(figsize=(36, 10))\n",
        "seaborn.boxplot(data=df, x=experiencia_col, y='profile_studies_level',\n",
        "                color='orangered')\n",
        "plt.ticklabel_format(style='plain', axis='x')"
      ],
      "metadata": {
        "colab": {
          "base_uri": "https://localhost:8080/",
          "height": 492
        },
        "id": "euN-uj6gRRok",
        "outputId": "96dc1e45-7e6c-4a22-db31-abac4477f96d"
      },
      "execution_count": null,
      "outputs": [
        {
          "output_type": "display_data",
          "data": {
            "text/plain": [
              "<Figure size 2592x720 with 1 Axes>"
            ],
            "image/png": "[encoded data removed]"
          },
          "metadata": {}
        }
      ]
    },
    {
      "cell_type": "markdown",
      "source": [
        "BOXENPLOT"
      ],
      "metadata": {
        "id": "rlUo2ASZSQYe"
      }
    },
    {
      "cell_type": "code",
      "source": [
        "plt.figure(figsize=(12, 6))\n",
        "seaborn.boxenplot(data=df, x=RECOMIENDAN_col, y='profile_studies_level',\n",
        "                color='CYAN')\n",
        "plt.ticklabel_format(style='plain', axis='x')"
      ],
      "metadata": {
        "colab": {
          "base_uri": "https://localhost:8080/",
          "height": 394
        },
        "id": "DVeaEDdUSSo8",
        "outputId": "c66e90d4-a55b-45a7-d073-5b55bf56c469"
      },
      "execution_count": null,
      "outputs": [
        {
          "output_type": "display_data",
          "data": {
            "text/plain": [
              "<Figure size 864x432 with 1 Axes>"
            ],
            "image/png": "[encoded data removed]"
          },
          "metadata": {}
        }
      ]
    },
    {
      "cell_type": "code",
      "source": [
        "plt.figure(figsize=(24, 6))\n",
        "seaborn.boxenplot(data=df, x=experiencia_col, y='profile_studies_level',\n",
        "                color='cyan')\n",
        "plt.ticklabel_format(style='plain', axis='x')"
      ],
      "metadata": {
        "colab": {
          "base_uri": "https://localhost:8080/",
          "height": 394
        },
        "id": "IKkEivoxScyW",
        "outputId": "9057de14-03d6-4865-84f9-c177e3dd7299"
      },
      "execution_count": null,
      "outputs": [
        {
          "output_type": "display_data",
          "data": {
            "text/plain": [
              "<Figure size 1728x432 with 1 Axes>"
            ],
            "image/png": "[encoded data removed]"
          },
          "metadata": {}
        }
      ]
    },
    {
      "cell_type": "markdown",
      "source": [
        ""
      ],
      "metadata": {
        "id": "zOnnz8yQiU_w"
      }
    },
    {
      "cell_type": "markdown",
      "source": [
        "PERCENTILES"
      ],
      "metadata": {
        "id": "T4xLtuIZZZlF"
      }
    },
    {
      "cell_type": "markdown",
      "source": [
        "Eliminación de valores extremos\n",
        "Usando percentiles\n",
        "Una forma conservadora de eliminar valores extremos que estén afectando a la media, el rango y las visualizaciones es seleccionar un cierto porcentaje más extremo. Para eso, usamos los percentiles.\n",
        "\n",
        "Por ejemplo, podemos elegir quedarnos con el 99% de salarios más bajos, eliminando el 1%. Podemos calcular todos los percentiles para decidir cuál sería el más apropiado."
      ],
      "metadata": {
        "id": "VDuU5IFmgaAg"
      }
    },
    {
      "cell_type": "code",
      "source": [
        "k = 95\n",
        "percentile_95 = df[experiencia_col].quantile(k / 100)\n",
        "n_below = len(df[df[experiencia_col] < percentile_95])\n",
        "n_above = len(df[df[experiencia_col] > percentile_95])\n",
        "print('Percentil {} de la columna {}: {}'.format(k, experiencia_col, percentile_95))\n",
        "print('% de datos menor que percentil {}: {}'.format(k, n_below / len(df)))\n",
        "print('% de datos mayor que percentil {}: {}'.format(k, n_above / len(df)))"
      ],
      "metadata": {
        "colab": {
          "base_uri": "https://localhost:8080/"
        },
        "id": "mFvqo75YRRl1",
        "outputId": "f05fc736-f783-4347-bb08-1e3dc66120da"
      },
      "execution_count": null,
      "outputs": [
        {
          "output_type": "stream",
          "name": "stdout",
          "text": [
            "Percentil 95 de la columna profile_years_experience: 22.0\n",
            "% de datos menor que percentil 95: 0.9447087776866284\n",
            "% de datos mayor que percentil 95: 0.04675963904840033\n"
          ]
        }
      ]
    },
    {
      "cell_type": "code",
      "source": [
        "df[experiencia_col].quantile([.95, .98, .99, .995, .998])"
      ],
      "metadata": {
        "colab": {
          "base_uri": "https://localhost:8080/"
        },
        "id": "hpVtXPCdasW9",
        "outputId": "bdea7c04-cde2-4fce-c82a-780b2c00eea9"
      },
      "execution_count": null,
      "outputs": [
        {
          "output_type": "execute_result",
          "data": {
            "text/plain": [
              "1   22\n",
              "1   27\n",
              "    ..\n",
              "1   32\n",
              "1   35\n",
              "Name: profile_years_experience, Length: 5, dtype: float64"
            ]
          },
          "metadata": {},
          "execution_count": 250
        }
      ]
    },
    {
      "cell_type": "markdown",
      "source": [
        ""
      ],
      "metadata": {
        "id": "oIPN_j3hficO"
      }
    },
    {
      "cell_type": "code",
      "source": [
        "plt.figure(figsize=(24, 3))\n",
        "max_limit = df[experiencia_col].quantile(.98)\n",
        "seaborn.boxenplot(x=df[df[experiencia_col] < max_limit][experiencia_col])"
      ],
      "metadata": {
        "colab": {
          "base_uri": "https://localhost:8080/",
          "height": 248
        },
        "id": "GwDcImFifjP7",
        "outputId": "1509915f-e64b-46b5-d675-9dde27b80b76"
      },
      "execution_count": null,
      "outputs": [
        {
          "output_type": "execute_result",
          "data": {
            "text/plain": [
              "<matplotlib.axes._subplots.AxesSubplot at 0x7f0c24f67a90>"
            ]
          },
          "metadata": {},
          "execution_count": 251
        },
        {
          "output_type": "display_data",
          "data": {
            "text/plain": [
              "<Figure size 1728x216 with 1 Axes>"
            ],
            "image/png": "[encoded data removed]"
          },
          "metadata": {}
        }
      ]
    },
    {
      "cell_type": "markdown",
      "source": [
        ""
      ],
      "metadata": {
        "id": "wY6jJZYjiX-I"
      }
    },
    {
      "cell_type": "code",
      "source": [
        "fig, axes = plt.subplots(figsize=(12, 12), nrows=3)\n",
        "max_limit = df[experiencia_col].quantile(.98)\n",
        "data = df[df[experiencia_col] < max_limit][experiencia_col]\n",
        "seaborn.histplot(x=data, ax=axes[0])\n",
        "seaborn.boxplot(x=data, ax=axes[1])\n",
        "seaborn.boxenplot(x=data, ax=axes[2])"
      ],
      "metadata": {
        "id": "HVI6tzZkiYcW",
        "outputId": "a03180c5-49a2-4827-9c6b-92d35abde496",
        "colab": {
          "base_uri": "https://localhost:8080/",
          "height": 740
        }
      },
      "execution_count": null,
      "outputs": [
        {
          "output_type": "execute_result",
          "data": {
            "text/plain": [
              "<matplotlib.axes._subplots.AxesSubplot at 0x7f0c255e4b10>"
            ]
          },
          "metadata": {},
          "execution_count": 252
        },
        {
          "output_type": "display_data",
          "data": {
            "text/plain": [
              "<Figure size 864x864 with 3 Axes>"
            ],
            "image/png": "[encoded data removed]"
          },
          "metadata": {}
        }
      ]
    },
    {
      "cell_type": "markdown",
      "source": [
        "¡Mirando los datos!\n",
        "¿Quiénes son los que tienen tanta experiencia?"
      ],
      "metadata": {
        "id": "pYQoHu5lhIas"
      }
    },
    {
      "cell_type": "code",
      "source": [
        "df[df[experiencia_col] > df[experiencia_col].quantile(0.98)]"
      ],
      "metadata": {
        "colab": {
          "base_uri": "https://localhost:8080/",
          "height": 386
        },
        "id": "49a2oZrwgr_U",
        "outputId": "875a97b0-5ad7-45bf-a742-1896557aeca9"
      },
      "execution_count": null,
      "outputs": [
        {
          "output_type": "execute_result",
          "data": {
            "text/plain": [
              "     profile_gender  profile_age work_country  \\\n",
              "30           Hombre           53    Argentina   \n",
              "43           Hombre           45    Argentina   \n",
              "...             ...          ...          ...   \n",
              "6002          Mujer           54    Argentina   \n",
              "6076         Hombre           49    Argentina   \n",
              "\n",
              "                        work_province  profile_years_experience  \\\n",
              "30                                GBA                        30   \n",
              "43                            Córdoba                        29   \n",
              "...                               ...                       ...   \n",
              "6002        Provincia de Buenos Aires                        30   \n",
              "6076  Ciudad Autónoma de Buenos Aires                        28   \n",
              "\n",
              "      work_years_in_company  work_years_in_current_position  \\\n",
              "30                       10                              10   \n",
              "43                        2                               2   \n",
              "...                     ...                             ...   \n",
              "6002                     23                              10   \n",
              "6076                      0                               0   \n",
              "\n",
              "      work_people_in_charge_of profile_studies_level  \\\n",
              "30                           5         Universitario   \n",
              "43                           0         Universitario   \n",
              "...                        ...                   ...   \n",
              "6002                         2         Universitario   \n",
              "6076                         0         Universitario   \n",
              "\n",
              "     profile_studies_level_state  ... work_has_violence_situations  \\\n",
              "30                      En curso  ...       En un trabajo anterior   \n",
              "43                    Incompleto  ...         En mi trabajo actual   \n",
              "...                          ...  ...                          ...   \n",
              "6002                  Completado  ...                        Jamás   \n",
              "6076                  Incompleto  ...                        Jamás   \n",
              "\n",
              "     profile_sexual_orientation profile_has_disabilities  \\\n",
              "30                 Heterosexual                      NaN   \n",
              "43                 Heterosexual                      NaN   \n",
              "...                         ...                      ...   \n",
              "6002               Heterosexual                      NaN   \n",
              "6076               Heterosexual                      NaN   \n",
              "\n",
              "     profile_has_disabilities_hiring_difficulties company_employee_number  \\\n",
              "30                                            NaN                 201-500   \n",
              "43                                            NaN                   11-50   \n",
              "...                                           ...                     ...   \n",
              "6002                                          NaN                   11-50   \n",
              "6076                                           No                 201-500   \n",
              "\n",
              "                              company_main_activity company_recommended  \\\n",
              "30                                 Otras industrias                   6   \n",
              "43    Servicios / Consultoría de Software / Digital                   9   \n",
              "...                                             ...                 ...   \n",
              "6002                               Otras industrias                   1   \n",
              "6076  Servicios / Consultoría de Software / Digital                   9   \n",
              "\n",
              "     company_diversity_policies  \\\n",
              "30                            1   \n",
              "43                            7   \n",
              "...                         ...   \n",
              "6002                          1   \n",
              "6076                          9   \n",
              "\n",
              "                                 company_extra_benefits  \\\n",
              "30    Abono de celular, Comidas pagas / subvencionad...   \n",
              "43                                    Clases de idiomas   \n",
              "...                                                 ...   \n",
              "6002                          Capacitaciones y/o cursos   \n",
              "6076  Abono de Internet, Capacitaciones y/o cursos, ...   \n",
              "\n",
              "     company_best_companies_city  \n",
              "30                           NaN  \n",
              "43                           NaN  \n",
              "...                          ...  \n",
              "6002                         NaN  \n",
              "6076                         NaN  \n",
              "\n",
              "[109 rows x 48 columns]"
            ],
            "text/html": [
              "\n",
              "  <div id=\"df-3dfbf908-bbd6-4b8e-b052-8eb55d82a305\">\n",
              "    <div class=\"colab-df-container\">\n",
              "      <div>\n",
              "<style scoped>\n",
              "    .dataframe tbody tr th:only-of-type {\n",
              "        vertical-align: middle;\n",
              "    }\n",
              "\n",
              "    .dataframe tbody tr th {\n",
              "        vertical-align: top;\n",
              "    }\n",
              "\n",
              "    .dataframe thead th {\n",
              "        text-align: right;\n",
              "    }\n",
              "</style>\n",
              "<table border=\"1\" class=\"dataframe\">\n",
              "  <thead>\n",
              "    <tr style=\"text-align: right;\">\n",
              "      <th></th>\n",
              "      <th>profile_gender</th>\n",
              "      <th>profile_age</th>\n",
              "      <th>work_country</th>\n",
              "      <th>work_province</th>\n",
              "      <th>profile_years_experience</th>\n",
              "      <th>work_years_in_company</th>\n",
              "      <th>work_years_in_current_position</th>\n",
              "      <th>work_people_in_charge_of</th>\n",
              "      <th>profile_studies_level</th>\n",
              "      <th>profile_studies_level_state</th>\n",
              "      <th>...</th>\n",
              "      <th>work_has_violence_situations</th>\n",
              "      <th>profile_sexual_orientation</th>\n",
              "      <th>profile_has_disabilities</th>\n",
              "      <th>profile_has_disabilities_hiring_difficulties</th>\n",
              "      <th>company_employee_number</th>\n",
              "      <th>company_main_activity</th>\n",
              "      <th>company_recommended</th>\n",
              "      <th>company_diversity_policies</th>\n",
              "      <th>company_extra_benefits</th>\n",
              "      <th>company_best_companies_city</th>\n",
              "    </tr>\n",
              "  </thead>\n",
              "  <tbody>\n",
              "    <tr>\n",
              "      <th>30</th>\n",
              "      <td>Hombre</td>\n",
              "      <td>53</td>\n",
              "      <td>Argentina</td>\n",
              "      <td>GBA</td>\n",
              "      <td>30</td>\n",
              "      <td>10</td>\n",
              "      <td>10</td>\n",
              "      <td>5</td>\n",
              "      <td>Universitario</td>\n",
              "      <td>En curso</td>\n",
              "      <td>...</td>\n",
              "      <td>En un trabajo anterior</td>\n",
              "      <td>Heterosexual</td>\n",
              "      <td>NaN</td>\n",
              "      <td>NaN</td>\n",
              "      <td>201-500</td>\n",
              "      <td>Otras industrias</td>\n",
              "      <td>6</td>\n",
              "      <td>1</td>\n",
              "      <td>Abono de celular, Comidas pagas / subvencionad...</td>\n",
              "      <td>NaN</td>\n",
              "    </tr>\n",
              "    <tr>\n",
              "      <th>43</th>\n",
              "      <td>Hombre</td>\n",
              "      <td>45</td>\n",
              "      <td>Argentina</td>\n",
              "      <td>Córdoba</td>\n",
              "      <td>29</td>\n",
              "      <td>2</td>\n",
              "      <td>2</td>\n",
              "      <td>0</td>\n",
              "      <td>Universitario</td>\n",
              "      <td>Incompleto</td>\n",
              "      <td>...</td>\n",
              "      <td>En mi trabajo actual</td>\n",
              "      <td>Heterosexual</td>\n",
              "      <td>NaN</td>\n",
              "      <td>NaN</td>\n",
              "      <td>11-50</td>\n",
              "      <td>Servicios / Consultoría de Software / Digital</td>\n",
              "      <td>9</td>\n",
              "      <td>7</td>\n",
              "      <td>Clases de idiomas</td>\n",
              "      <td>NaN</td>\n",
              "    </tr>\n",
              "    <tr>\n",
              "      <th>...</th>\n",
              "      <td>...</td>\n",
              "      <td>...</td>\n",
              "      <td>...</td>\n",
              "      <td>...</td>\n",
              "      <td>...</td>\n",
              "      <td>...</td>\n",
              "      <td>...</td>\n",
              "      <td>...</td>\n",
              "      <td>...</td>\n",
              "      <td>...</td>\n",
              "      <td>...</td>\n",
              "      <td>...</td>\n",
              "      <td>...</td>\n",
              "      <td>...</td>\n",
              "      <td>...</td>\n",
              "      <td>...</td>\n",
              "      <td>...</td>\n",
              "      <td>...</td>\n",
              "      <td>...</td>\n",
              "      <td>...</td>\n",
              "      <td>...</td>\n",
              "    </tr>\n",
              "    <tr>\n",
              "      <th>6002</th>\n",
              "      <td>Mujer</td>\n",
              "      <td>54</td>\n",
              "      <td>Argentina</td>\n",
              "      <td>Provincia de Buenos Aires</td>\n",
              "      <td>30</td>\n",
              "      <td>23</td>\n",
              "      <td>10</td>\n",
              "      <td>2</td>\n",
              "      <td>Universitario</td>\n",
              "      <td>Completado</td>\n",
              "      <td>...</td>\n",
              "      <td>Jamás</td>\n",
              "      <td>Heterosexual</td>\n",
              "      <td>NaN</td>\n",
              "      <td>NaN</td>\n",
              "      <td>11-50</td>\n",
              "      <td>Otras industrias</td>\n",
              "      <td>1</td>\n",
              "      <td>1</td>\n",
              "      <td>Capacitaciones y/o cursos</td>\n",
              "      <td>NaN</td>\n",
              "    </tr>\n",
              "    <tr>\n",
              "      <th>6076</th>\n",
              "      <td>Hombre</td>\n",
              "      <td>49</td>\n",
              "      <td>Argentina</td>\n",
              "      <td>Ciudad Autónoma de Buenos Aires</td>\n",
              "      <td>28</td>\n",
              "      <td>0</td>\n",
              "      <td>0</td>\n",
              "      <td>0</td>\n",
              "      <td>Universitario</td>\n",
              "      <td>Incompleto</td>\n",
              "      <td>...</td>\n",
              "      <td>Jamás</td>\n",
              "      <td>Heterosexual</td>\n",
              "      <td>NaN</td>\n",
              "      <td>No</td>\n",
              "      <td>201-500</td>\n",
              "      <td>Servicios / Consultoría de Software / Digital</td>\n",
              "      <td>9</td>\n",
              "      <td>9</td>\n",
              "      <td>Abono de Internet, Capacitaciones y/o cursos, ...</td>\n",
              "      <td>NaN</td>\n",
              "    </tr>\n",
              "  </tbody>\n",
              "</table>\n",
              "<p>109 rows × 48 columns</p>\n",
              "</div>\n",
              "      <button class=\"colab-df-convert\" onclick=\"convertToInteractive('df-3dfbf908-bbd6-4b8e-b052-8eb55d82a305')\"\n",
              "              title=\"Convert this dataframe to an interactive table.\"\n",
              "              style=\"display:none;\">\n",
              "        \n",
              "  <svg xmlns=\"http://www.w3.org/2000/svg\" height=\"24px\"viewBox=\"0 0 24 24\"\n",
              "       width=\"24px\">\n",
              "    <path d=\"M0 0h24v24H0V0z\" fill=\"none\"/>\n",
              "    <path d=\"M18.56 5.44l.94 2.06.94-2.06 2.06-.94-2.06-.94-.94-2.06-.94 2.06-2.06.94zm-11 1L8.5 8.5l.94-2.06 2.06-.94-2.06-.94L8.5 2.5l-.94 2.06-2.06.94zm10 10l.94 2.06.94-2.06 2.06-.94-2.06-.94-.94-2.06-.94 2.06-2.06.94z\"/><path d=\"M17.41 7.96l-1.37-1.37c-.4-.4-.92-.59-1.43-.59-.52 0-1.04.2-1.43.59L10.3 9.45l-7.72 7.72c-.78.78-.78 2.05 0 2.83L4 21.41c.39.39.9.59 1.41.59.51 0 1.02-.2 1.41-.59l7.78-7.78 2.81-2.81c.8-.78.8-2.07 0-2.86zM5.41 20L4 18.59l7.72-7.72 1.47 1.35L5.41 20z\"/>\n",
              "  </svg>\n",
              "      </button>\n",
              "      \n",
              "  <style>\n",
              "    .colab-df-container {\n",
              "      display:flex;\n",
              "      flex-wrap:wrap;\n",
              "      gap: 12px;\n",
              "    }\n",
              "\n",
              "    .colab-df-convert {\n",
              "      background-color: #E8F0FE;\n",
              "      border: none;\n",
              "      border-radius: 50%;\n",
              "      cursor: pointer;\n",
              "      display: none;\n",
              "      fill: #1967D2;\n",
              "      height: 32px;\n",
              "      padding: 0 0 0 0;\n",
              "      width: 32px;\n",
              "    }\n",
              "\n",
              "    .colab-df-convert:hover {\n",
              "      background-color: #E2EBFA;\n",
              "      box-shadow: 0px 1px 2px rgba(60, 64, 67, 0.3), 0px 1px 3px 1px rgba(60, 64, 67, 0.15);\n",
              "      fill: #174EA6;\n",
              "    }\n",
              "\n",
              "    [theme=dark] .colab-df-convert {\n",
              "      background-color: #3B4455;\n",
              "      fill: #D2E3FC;\n",
              "    }\n",
              "\n",
              "    [theme=dark] .colab-df-convert:hover {\n",
              "      background-color: #434B5C;\n",
              "      box-shadow: 0px 1px 3px 1px rgba(0, 0, 0, 0.15);\n",
              "      filter: drop-shadow(0px 1px 2px rgba(0, 0, 0, 0.3));\n",
              "      fill: #FFFFFF;\n",
              "    }\n",
              "  </style>\n",
              "\n",
              "      <script>\n",
              "        const buttonEl =\n",
              "          document.querySelector('#df-3dfbf908-bbd6-4b8e-b052-8eb55d82a305 button.colab-df-convert');\n",
              "        buttonEl.style.display =\n",
              "          google.colab.kernel.accessAllowed ? 'block' : 'none';\n",
              "\n",
              "        async function convertToInteractive(key) {\n",
              "          const element = document.querySelector('#df-3dfbf908-bbd6-4b8e-b052-8eb55d82a305');\n",
              "          const dataTable =\n",
              "            await google.colab.kernel.invokeFunction('convertToInteractive',\n",
              "                                                     [key], {});\n",
              "          if (!dataTable) return;\n",
              "\n",
              "          const docLinkHtml = 'Like what you see? Visit the ' +\n",
              "            '<a target=\"_blank\" href=https://colab.research.google.com/notebooks/data_table.ipynb>data table notebook</a>'\n",
              "            + ' to learn more about interactive tables.';\n",
              "          element.innerHTML = '';\n",
              "          dataTable['output_type'] = 'display_data';\n",
              "          await google.colab.output.renderOutput(dataTable, element);\n",
              "          const docLink = document.createElement('div');\n",
              "          docLink.innerHTML = docLinkHtml;\n",
              "          element.appendChild(docLink);\n",
              "        }\n",
              "      </script>\n",
              "    </div>\n",
              "  </div>\n",
              "  "
            ]
          },
          "metadata": {},
          "execution_count": 253
        }
      ]
    },
    {
      "cell_type": "markdown",
      "source": [
        "# DESCRIPTIVA"
      ],
      "metadata": {
        "id": "PG436IMZzwia"
      }
    },
    {
      "cell_type": "code",
      "source": [
        ""
      ],
      "metadata": {
        "id": "nvF033rJzzcz"
      },
      "execution_count": null,
      "outputs": []
    },
    {
      "cell_type": "markdown",
      "source": [
        "vamos a ver recomendacion vs salario\n"
      ],
      "metadata": {
        "id": "mGFzVvmvn_j5"
      }
    },
    {
      "cell_type": "code",
      "source": [
        ""
      ],
      "metadata": {
        "id": "K9ZbcpRBxrAw"
      },
      "execution_count": null,
      "outputs": []
    },
    {
      "cell_type": "markdown",
      "metadata": {
        "id": "5baYhH0XHM3S"
      },
      "source": [
        "## a) Densidad conjunta\n",
        "\n",
        "Que herramientas visuales y modelos puede utilizar para estudiar la distribución y comportamiento de sus datos? \n",
        "\n",
        "Elija tres variables numéricas y 2 variables categóricas. Visualice la base según varias de las variables elegidas. Puede describir de alguna forma el comportamiento de sus datos? Que herramientas utilizaría? Describa\n",
        "\n",
        "\n"
      ]
    },
    {
      "cell_type": "markdown",
      "source": [
        "Varias Variables\n",
        "Varias Categóricas"
      ],
      "metadata": {
        "id": "789pi1yVzN3J"
      }
    },
    {
      "cell_type": "code",
      "source": [
        "## Tabla de contingencia\n",
        "pd.crosstab(df.work_province, df.profile_studies_level)#, normalize=True) #no están ordenados \n",
        "#pd.crosstab(df.profile_gender, df.profile_studies_level)[sorted_studies_levels]#ordenados "
      ],
      "metadata": {
        "colab": {
          "base_uri": "https://localhost:8080/",
          "height": 200
        },
        "id": "jVeXNu6DyuAK",
        "outputId": "ad326035-dcf7-440e-9aaf-e3a55e55f85e"
      },
      "execution_count": null,
      "outputs": [
        {
          "output_type": "error",
          "ename": "NameError",
          "evalue": "ignored",
          "traceback": [
            "\u001b[0;31m---------------------------------------------------------------------------\u001b[0m",
            "\u001b[0;31mNameError\u001b[0m                                 Traceback (most recent call last)",
            "\u001b[0;32m<ipython-input-2-0f8c3569eaab>\u001b[0m in \u001b[0;36m<module>\u001b[0;34m()\u001b[0m\n\u001b[1;32m      1\u001b[0m \u001b[0;31m## Tabla de contingencia\u001b[0m\u001b[0;34m\u001b[0m\u001b[0;34m\u001b[0m\u001b[0;34m\u001b[0m\u001b[0m\n\u001b[0;32m----> 2\u001b[0;31m \u001b[0mpd\u001b[0m\u001b[0;34m.\u001b[0m\u001b[0mcrosstab\u001b[0m\u001b[0;34m(\u001b[0m\u001b[0mdf\u001b[0m\u001b[0;34m.\u001b[0m\u001b[0mwork_province\u001b[0m\u001b[0;34m,\u001b[0m \u001b[0mdf\u001b[0m\u001b[0;34m.\u001b[0m\u001b[0mprofile_studies_level\u001b[0m\u001b[0;34m)\u001b[0m\u001b[0;31m#, normalize=True) #no están ordenados\u001b[0m\u001b[0;34m\u001b[0m\u001b[0;34m\u001b[0m\u001b[0m\n\u001b[0m\u001b[1;32m      3\u001b[0m \u001b[0;31m#pd.crosstab(df.profile_gender, df.profile_studies_level)[sorted_studies_levels]#ordenados\u001b[0m\u001b[0;34m\u001b[0m\u001b[0;34m\u001b[0m\u001b[0;34m\u001b[0m\u001b[0m\n",
            "\u001b[0;31mNameError\u001b[0m: name 'pd' is not defined"
          ]
        }
      ]
    },
    {
      "cell_type": "markdown",
      "source": [
        ""
      ],
      "metadata": {
        "id": "yp2cIaZLzyJi"
      }
    },
    {
      "cell_type": "code",
      "source": [
        "fig = plt.figure(figsize=(8,5))\n",
        "exp = pd.crosstab(df.work_province,\n",
        "                  df.profile_studies_level)[profile_studies_level]\n",
        "seaborn.heatmap(exp, annot=True, fmt='g')\n",
        "plt.xticks(rotation=30)\n",
        "plt.yticks(rotation=0)\n",
        "seaborn.despine()"
      ],
      "metadata": {
        "colab": {
          "base_uri": "https://localhost:8080/",
          "height": 252
        },
        "id": "FTrxPWX0zymr",
        "outputId": "4c1c06df-e606-4522-a34f-fafe559eb675"
      },
      "execution_count": null,
      "outputs": [
        {
          "output_type": "error",
          "ename": "NameError",
          "evalue": "ignored",
          "traceback": [
            "\u001b[0;31m---------------------------------------------------------------------------\u001b[0m",
            "\u001b[0;31mNameError\u001b[0m                                 Traceback (most recent call last)",
            "\u001b[0;32m<ipython-input-255-b90ca77a5b73>\u001b[0m in \u001b[0;36m<module>\u001b[0;34m()\u001b[0m\n\u001b[1;32m      1\u001b[0m \u001b[0mfig\u001b[0m \u001b[0;34m=\u001b[0m \u001b[0mplt\u001b[0m\u001b[0;34m.\u001b[0m\u001b[0mfigure\u001b[0m\u001b[0;34m(\u001b[0m\u001b[0mfigsize\u001b[0m\u001b[0;34m=\u001b[0m\u001b[0;34m(\u001b[0m\u001b[0;36m8\u001b[0m\u001b[0;34m,\u001b[0m\u001b[0;36m5\u001b[0m\u001b[0;34m)\u001b[0m\u001b[0;34m)\u001b[0m\u001b[0;34m\u001b[0m\u001b[0;34m\u001b[0m\u001b[0m\n\u001b[1;32m      2\u001b[0m exp = pd.crosstab(df.work_province,\n\u001b[0;32m----> 3\u001b[0;31m                   df.profile_studies_level)[profile_studies_level]\n\u001b[0m\u001b[1;32m      4\u001b[0m \u001b[0mseaborn\u001b[0m\u001b[0;34m.\u001b[0m\u001b[0mheatmap\u001b[0m\u001b[0;34m(\u001b[0m\u001b[0mexp\u001b[0m\u001b[0;34m,\u001b[0m \u001b[0mannot\u001b[0m\u001b[0;34m=\u001b[0m\u001b[0;32mTrue\u001b[0m\u001b[0;34m,\u001b[0m \u001b[0mfmt\u001b[0m\u001b[0;34m=\u001b[0m\u001b[0;34m'g'\u001b[0m\u001b[0;34m)\u001b[0m\u001b[0;34m\u001b[0m\u001b[0;34m\u001b[0m\u001b[0m\n\u001b[1;32m      5\u001b[0m \u001b[0mplt\u001b[0m\u001b[0;34m.\u001b[0m\u001b[0mxticks\u001b[0m\u001b[0;34m(\u001b[0m\u001b[0mrotation\u001b[0m\u001b[0;34m=\u001b[0m\u001b[0;36m30\u001b[0m\u001b[0;34m)\u001b[0m\u001b[0;34m\u001b[0m\u001b[0;34m\u001b[0m\u001b[0m\n",
            "\u001b[0;31mNameError\u001b[0m: name 'profile_studies_level' is not defined"
          ]
        },
        {
          "output_type": "display_data",
          "data": {
            "text/plain": [
              "<Figure size 576x360 with 0 Axes>"
            ]
          },
          "metadata": {}
        }
      ]
    },
    {
      "cell_type": "code",
      "source": [
        "fig = plt.figure(figsize=(8,5))\n",
        "exp = pd.crosstab(df.profile_gender,\n",
        "                  df.profile_studies_level)[sorted_studies_levels]\n",
        "seaborn.heatmap(exp, annot=True, fmt='g')\n",
        "plt.xticks(rotation=30)\n",
        "plt.yticks(rotation=0)\n",
        "seaborn.despine()"
      ],
      "metadata": {
        "id": "m0Bonzkm30WI"
      },
      "execution_count": null,
      "outputs": []
    },
    {
      "cell_type": "markdown",
      "metadata": {
        "id": "lkuHE2aZGHMO"
      },
      "source": [
        "## b) Asociación\n",
        "\n",
        "* Necesitamos decidir si sacar o no la columna de salario bruto. Para hacer la encuesta más simple.\n",
        "¿Existe una correlación entre el salario bruto y el neto? Que abordaje y medidas usaría\n",
        "\n"
      ]
    },
    {
      "cell_type": "markdown",
      "metadata": {
        "id": "7MZrbRJCm-ae"
      },
      "source": [
        "## c) Densidad condicional \n",
        "\n",
        "Estudie la distribución del salario según el nivel de estudio.\n",
        "\n",
        "Separe la población según el nivel de estudio (elija dos subpoblaciones numerosas) y grafique de manera comparativa ambos histogramas de la variable `'salary_monthly_NETO'`\n",
        "¿Considera que ambas variables son independientes?\n",
        "¿Qué analizaría al respecto?\n",
        "\n",
        "Calcule medidas de centralización y dispersión para cada subpoblación\n",
        "\n",
        "\n",
        "\n",
        "\n"
      ]
    },
    {
      "cell_type": "code",
      "source": [
        "# Ejercicio\n",
        "# Responder: ¿Si uno tiene más de 5 años de experiencia, la probabilidad de cobrar más que el promedio aumenta? ¿Estos eventos, son independientes?\n",
        "\n",
        "is_above_avg = df[salary_col] > avg_salary\n",
        "exp_greater_5 = df.profile_years_experience > 5\n",
        "\n",
        "intersection_count = len(df[is_above_avg & exp_greater_5])\n",
        "p_condic_above_avg = len(df[is_above_avg & exp_greater_5])/len(df[exp_greater_5])\n",
        "print(p_condic_above_avg)"
      ],
      "metadata": {
        "id": "b6rU4m9Mefnw"
      },
      "execution_count": null,
      "outputs": []
    },
    {
      "cell_type": "markdown",
      "metadata": {
        "id": "u8wgYxNiqVpE"
      },
      "source": [
        "## d) Densidad Conjunta condicional\n",
        "\n",
        "Elija dos variables numéricas y una categórica. \n",
        "Estudie la dispersión (scatterplot) de las dos variables discriminando en color por la variable categórica (ayuda: hue en seaborn)\n"
      ]
    }
  ]
}