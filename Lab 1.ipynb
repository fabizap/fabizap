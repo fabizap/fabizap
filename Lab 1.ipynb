{
  "cells": [
    {
      "cell_type": "markdown",
      "metadata": {
        "id": "3YCf0-D-FMi6"
      },
      "source": [
        "# Laboratorio 1: Regresión en Boston\n",
        "\n",
        "En este laboratorio deben hacer experimentos de regresión con el conjunto de datos \"Boston house prices dataset\".\n",
        "\n",
        "Estudiarán el dataset, harán visualizaciones y seleccionarán atributos relevantes a mano.\n",
        "\n",
        "Luego, entrenarán y evaluarán diferentes tipos de regresiones, buscando las configuraciones que mejores resultados den."
      ]
    },
    {
      "cell_type": "code",
      "execution_count": 72,
      "metadata": {
        "id": "93nZ6yhAFMi_"
      },
      "outputs": [],
      "source": [
        "import numpy as np\n",
        "import matplotlib.pyplot as plt"
      ]
    },
    {
      "cell_type": "markdown",
      "metadata": {
        "id": "ECpRl6lxFMjB"
      },
      "source": [
        "## Carga del Conjunto de Datos\n",
        "\n",
        "Cargamos el conjunto de datos y vemos su contenido."
      ]
    },
    {
      "cell_type": "code",
      "execution_count": 73,
      "metadata": {
        "colab": {
          "base_uri": "https://localhost:8080/"
        },
        "id": "aHv4zfkCFMjC",
        "outputId": "09c57d1e-ba18-4718-e0b8-6d786ef2d0d5"
      },
      "outputs": [
        {
          "output_type": "stream",
          "name": "stderr",
          "text": [
            "/usr/local/lib/python3.7/dist-packages/sklearn/utils/deprecation.py:87: FutureWarning: Function load_boston is deprecated; `load_boston` is deprecated in 1.0 and will be removed in 1.2.\n",
            "\n",
            "    The Boston housing prices dataset has an ethical problem. You can refer to\n",
            "    the documentation of this function for further details.\n",
            "\n",
            "    The scikit-learn maintainers therefore strongly discourage the use of this\n",
            "    dataset unless the purpose of the code is to study and educate about\n",
            "    ethical issues in data science and machine learning.\n",
            "\n",
            "    In this special case, you can fetch the dataset from the original\n",
            "    source::\n",
            "\n",
            "        import pandas as pd\n",
            "        import numpy as np\n",
            "\n",
            "\n",
            "        data_url = \"http://lib.stat.cmu.edu/datasets/boston\"\n",
            "        raw_df = pd.read_csv(data_url, sep=\"\\s+\", skiprows=22, header=None)\n",
            "        data = np.hstack([raw_df.values[::2, :], raw_df.values[1::2, :2]])\n",
            "        target = raw_df.values[1::2, 2]\n",
            "\n",
            "    Alternative datasets include the California housing dataset (i.e.\n",
            "    :func:`~sklearn.datasets.fetch_california_housing`) and the Ames housing\n",
            "    dataset. You can load the datasets as follows::\n",
            "\n",
            "        from sklearn.datasets import fetch_california_housing\n",
            "        housing = fetch_california_housing()\n",
            "\n",
            "    for the California housing dataset and::\n",
            "\n",
            "        from sklearn.datasets import fetch_openml\n",
            "        housing = fetch_openml(name=\"house_prices\", as_frame=True)\n",
            "\n",
            "    for the Ames housing dataset.\n",
            "    \n",
            "  warnings.warn(msg, category=FutureWarning)\n"
          ]
        },
        {
          "output_type": "execute_result",
          "data": {
            "text/plain": [
              "dict_keys(['data', 'target', 'feature_names', 'DESCR', 'filename', 'data_module'])"
            ]
          },
          "metadata": {},
          "execution_count": 73
        }
      ],
      "source": [
        "from sklearn.datasets import load_boston\n",
        "boston = load_boston()\n",
        "boston.keys()"
      ]
    },
    {
      "cell_type": "code",
      "execution_count": 74,
      "metadata": {
        "colab": {
          "base_uri": "https://localhost:8080/"
        },
        "id": "4yvbBC2pFMjD",
        "outputId": "5e59c4ab-02fa-4db9-bdc8-7037fc40e50c"
      },
      "outputs": [
        {
          "output_type": "execute_result",
          "data": {
            "text/plain": [
              "array(['CRIM', 'ZN', 'INDUS', 'CHAS', 'NOX', 'RM', 'AGE', 'DIS', 'RAD',\n",
              "       'TAX', 'PTRATIO', 'B', 'LSTAT'], dtype='<U7')"
            ]
          },
          "metadata": {},
          "execution_count": 74
        }
      ],
      "source": [
        "#print(boston['DESCR'])   # descripción del dataset\n",
        "# boston['data']           # matriz con los datos de entrada (atributos)\n",
        "# boston['target']         # vector de valores a predecir\n",
        "boston['feature_names']  # nombres de los atributos para cada columna de 'data'"
      ]
    },
    {
      "cell_type": "code",
      "execution_count": 75,
      "metadata": {
        "colab": {
          "base_uri": "https://localhost:8080/"
        },
        "id": "tfy0ilQjFMjE",
        "outputId": "2be8dca6-56ce-4ef6-e877-5de6080b1246"
      },
      "outputs": [
        {
          "output_type": "execute_result",
          "data": {
            "text/plain": [
              "((506, 13), (506,))"
            ]
          },
          "metadata": {},
          "execution_count": 75
        }
      ],
      "source": [
        "boston['data'].shape, boston['target'].shape"
      ]
    },
    {
      "cell_type": "markdown",
      "metadata": {
        "id": "a-lrwR4HFMjF"
      },
      "source": [
        "## División en Entrenamiento y Evaluación\n",
        "\n",
        "Dividimos aleatoriamente los datos en 80% para entrenamiento y 20% para evaluación:"
      ]
    },
    {
      "cell_type": "code",
      "execution_count": 76,
      "metadata": {
        "colab": {
          "base_uri": "https://localhost:8080/"
        },
        "id": "B2X6O1ffFMjF",
        "outputId": "74fa7e3b-0580-4410-ff19-0914bd74b660"
      },
      "outputs": [
        {
          "output_type": "execute_result",
          "data": {
            "text/plain": [
              "((404, 13), (102, 13))"
            ]
          },
          "metadata": {},
          "execution_count": 76
        }
      ],
      "source": [
        "from sklearn.model_selection import train_test_split\n",
        "X, y = boston['data'], boston['target']\n",
        "X_train, X_test, y_train, y_test = train_test_split(X, y, train_size=0.8, random_state=0)\n",
        "X_train.shape, X_test.shape"
      ]
    },
    {
      "cell_type": "markdown",
      "metadata": {
        "id": "nnamEWYiFMjG"
      },
      "source": [
        "##### Ejercicio 1: Descripción de los Datos y la Tarea\n",
        "\n",
        "Responda las siguientes preguntas:\n",
        "\n",
        "1. ¿De qué se trata el conjunto de datos?\n",
        "Son datos referidos al negocio inmobiliario \n",
        "\n",
        "2. ¿Cuál es la variable objetivo que hay que predecir? ¿Qué significado tiene?\n",
        "\n",
        "4. ¿Qué atributos imagina ud. que serán los más determinantes para la predicción?\n",
        "\n",
        "habitaciones, m2, impuetos, distancia al centro, distancia carretera\n",
        "\n",
        "5. ¿Qué problemas observa a priori en el conjunto de datos? ¿Observa posibles sesgos, riesgos, dilemas éticos, etc? Piense que los datos pueden ser utilizados para hacer predicciones futuras.\n",
        "\n",
        "**No hace falta escribir código para responder estas preguntas.**"
      ]
    },
    {
      "cell_type": "raw",
      "metadata": {
        "id": "3FbG2eFOFMjH"
      },
      "source": [
        "**Responder todas las preguntas acá.**"
      ]
    },
    {
      "cell_type": "markdown",
      "metadata": {
        "id": "K8_otpJNFMjH"
      },
      "source": [
        "## Ejercicio 2: Visualización de los Datos\n",
        "\n",
        "1. Para cada atributo de entrada, haga una gráfica que muestre su relación con la variable objetivo.\n",
        "2. Estudie las gráficas, identificando **a ojo** los atributos que a su criterio sean los más informativos para la predicción.\n",
        "3. Para ud., ¿cuáles son esos atributos? Lístelos en orden de importancia."
      ]
    },
    {
      "cell_type": "code",
      "execution_count": null,
      "metadata": {
        "id": "zksDgbW2FMjI"
      },
      "outputs": [],
      "source": [
        "# 1. Resolver acá. Ayuda/ejemplo:\n",
        "feature = 'LSTAT'\n",
        "selector = (boston['feature_names'] == feature)\n",
        "plt.scatter(X[:, selector], y, facecolor=\"dodgerblue\", edgecolor=\"k\", label=\"datos\")\n",
        "plt.title(feature)\n",
        "plt.show()"
      ]
    },
    {
      "cell_type": "raw",
      "metadata": {
        "id": "gnMyAEizFMjJ"
      },
      "source": [
        "** *Para mi RM Y LSTAT, y por último NOX, son IMPORTANTES*. Responder acá**"
      ]
    },
    {
      "cell_type": "markdown",
      "metadata": {
        "id": "D2K5cehmFMjJ"
      },
      "source": [
        "## Ejercicio 3: Regresión Lineal\n",
        "\n",
        "1. Seleccione **un solo atributo** que considere puede ser el más apropiado.\n",
        "2. Instancie una regresión lineal de **scikit-learn**, y entrénela usando sólo el atributo seleccionado.\n",
        "3. Evalúe, calculando error cuadrático medio para los conjuntos de entrenamiento y evaluación.\n",
        "4. Grafique el modelo resultante, junto con los puntos de entrenamiento y evaluación.\n",
        "5. Interprete el resultado, haciendo algún comentario sobre las cualidades del modelo obtenido.\n",
        "\n",
        "**Observación:** Con algunos atributos se puede obtener un error en test menor a 50."
      ]
    },
    {
      "cell_type": "code",
      "execution_count": 78,
      "metadata": {
        "colab": {
          "base_uri": "https://localhost:8080/"
        },
        "id": "HSwWcwPeFMjK",
        "outputId": "b20c2e61-ef28-4367-9a9a-70c04c2c578a"
      },
      "outputs": [
        {
          "output_type": "execute_result",
          "data": {
            "text/plain": [
              "((404, 1), (102, 1))"
            ]
          },
          "metadata": {},
          "execution_count": 78
        }
      ],
      "source": [
        "# 1. Resolver acá. Ayuda:\n",
        "feature = 'RM'  # selecciono el atributo 'CRIM'\n",
        "selector = (boston['feature_names'] == feature)\n",
        "X_train_f = X_train[:, selector]\n",
        "X_test_f = X_test[:, selector]\n",
        "X_train_f.shape, X_test_f.shape"
      ]
    },
    {
      "cell_type": "code",
      "execution_count": 89,
      "metadata": {
        "id": "X-AjksOmEvCz"
      },
      "outputs": [],
      "source": [
        "# 2. Instanciar y entrenar acá.\n",
        "X_train, X_test, y_train, y_test = train_test_split(X, y, train_size=0.8, random_state=0)"
      ]
    },
    {
      "cell_type": "code",
      "source": [
        "model.fit(X_train, y_train)"
      ],
      "metadata": {
        "id": "pNMdhbANJlj4",
        "outputId": "a375e84d-460a-479e-92f3-96090406f7e2",
        "colab": {
          "base_uri": "https://localhost:8080/"
        }
      },
      "execution_count": 90,
      "outputs": [
        {
          "output_type": "execute_result",
          "data": {
            "text/plain": [
              "Pipeline(steps=[('polynomialfeatures', PolynomialFeatures()),\n",
              "                ('linearregression', LinearRegression(fit_intercept=False))])"
            ]
          },
          "metadata": {},
          "execution_count": 90
        }
      ]
    },
    {
      "cell_type": "code",
      "execution_count": 92,
      "metadata": {
        "id": "Bg5XgEKaFMjL"
      },
      "outputs": [],
      "source": [
        "# 3. Predecir y evaluar acá.\n",
        "\n",
        "y_train_pred = model.predict(X_train)\n",
        "y_val_pred = model.predict(X_test)\n"
      ]
    },
    {
      "cell_type": "code",
      "execution_count": 93,
      "metadata": {
        "colab": {
          "base_uri": "https://localhost:8080/",
          "height": 281
        },
        "id": "zt2HcNhqFMjL",
        "outputId": "31530fcb-c3e4-4c04-dd32-fe4808f70085"
      },
      "outputs": [
        {
          "output_type": "display_data",
          "data": {
            "text/plain": [
              "<Figure size 432x288 with 1 Axes>"
            ],
            "image/png": "[encoded data removed]"
          },
          "metadata": {
            "needs_background": "light"
          }
        }
      ],
      "source": [
        "# 4. Graficar acá. Ayuda:\n",
        "x_start = min(np.min(X_train_f), np.min(X_test_f))\n",
        "x_end = max(np.max(X_train_f), np.max(X_test_f))\n",
        "x = np.linspace(x_start, x_end, 200).reshape(-1, 1)\n",
        "# plt.plot(x, model.predict(x), color=\"tomato\", label=\"modelo\")\n",
        "\n",
        "plt.scatter(X_train_f, y_train, facecolor=\"dodgerblue\", edgecolor=\"k\", label=\"train\")\n",
        "plt.scatter(X_test_f, y_test, facecolor=\"white\", edgecolor=\"k\", label=\"test\")\n",
        "plt.title(feature)\n",
        "plt.legend()\n",
        "plt.show()"
      ]
    },
    {
      "cell_type": "raw",
      "metadata": {
        "id": "Mp5wC0ZzFMjM"
      },
      "source": [
        "**5. Responder acá**"
      ]
    },
    {
      "cell_type": "markdown",
      "metadata": {
        "id": "hlWsWm_UFMjM"
      },
      "source": [
        "## Ejercicio 4: Regresión Polinomial\n",
        "\n",
        "En este ejercicio deben entrenar regresiones polinomiales de diferente complejidad, siempre usando **scikit-learn**.\n",
        "\n",
        "Deben usar **el mismo atributo** seleccionado para el ejercicio anterior.\n",
        "\n",
        "1. Para varios grados de polinomio, haga lo siguiente:\n",
        "    1. Instancie y entrene una regresión polinomial.\n",
        "    2. Prediga y calcule error en entrenamiento y evaluación. Imprima los valores.\n",
        "    3. Guarde los errores en una lista.\n",
        "2. Grafique las curvas de error en términos del grado del polinomio.\n",
        "3. Interprete la curva, identificando el punto en que comienza a haber sobreajuste, si lo hay.\n",
        "4. Seleccione el modelo que mejor funcione, y grafique el modelo conjuntamente con los puntos.\n",
        "5. Interprete el resultado, haciendo algún comentario sobre las cualidades del modelo obtenido.\n",
        "\n",
        "**Observación:** Con algunos atributos se pueden obtener errores en test menores a 40 e incluso a 35."
      ]
    },
    {
      "cell_type": "code",
      "execution_count": null,
      "metadata": {
        "id": "tLczwkRnFMjM"
      },
      "outputs": [],
      "source": [
        "# 1. Resolver acá."
      ]
    },
    {
      "cell_type": "code",
      "execution_count": null,
      "metadata": {
        "id": "LoR8c52AFMjN"
      },
      "outputs": [],
      "source": [
        "# 2. Graficar curvas de error acá."
      ]
    },
    {
      "cell_type": "raw",
      "metadata": {
        "id": "XTzNJAnSFMjN"
      },
      "source": [
        "**3. Responder acá**"
      ]
    },
    {
      "cell_type": "code",
      "execution_count": null,
      "metadata": {
        "id": "Yosb-qfTFMjN"
      },
      "outputs": [],
      "source": [
        "# 4. Reconstruir mejor modelo acá y graficar."
      ]
    },
    {
      "cell_type": "raw",
      "metadata": {
        "id": "FjdzGTvFFMjN"
      },
      "source": [
        "**5. Responder acá**"
      ]
    },
    {
      "cell_type": "markdown",
      "metadata": {
        "id": "znsbmCuxFMjN"
      },
      "source": [
        "## Ejercicio 5: Regresión con más de un Atributo\n",
        "\n",
        "En este ejercicio deben entrenar regresiones que toman más de un atributo de entrada.\n",
        "\n",
        "1. Seleccione **dos o tres atributos** entre los más relevantes encontrados en el ejercicio 2.\n",
        "2. Repita el ejercicio anterior, pero usando los atributos seleccionados. No hace falta graficar el modelo final.\n",
        "3. Interprete el resultado y compare con los ejercicios anteriores. ¿Se obtuvieron mejores modelos? ¿Porqué?"
      ]
    },
    {
      "cell_type": "code",
      "execution_count": null,
      "metadata": {
        "id": "1QwKAB4vFMjO"
      },
      "outputs": [],
      "source": [
        "# 1. Resolver acá. Ayuda (con dos atributos):\n",
        "selector = (boston['feature_names'] == 'CRIM') | (boston['feature_names'] == 'ZN')\n",
        "X_train_fs = X_train[:, selector]\n",
        "X_test_fs = X_test[:, selector]\n",
        "X_train_fs.shape, X_test_fs.shape"
      ]
    },
    {
      "cell_type": "code",
      "execution_count": null,
      "metadata": {
        "id": "f8zyV3jUFMjO"
      },
      "outputs": [],
      "source": [
        "# 2. Resolver acá."
      ]
    },
    {
      "cell_type": "raw",
      "metadata": {
        "id": "gay5114_FMjO"
      },
      "source": [
        "**3. Responder acá.**"
      ]
    },
    {
      "cell_type": "markdown",
      "metadata": {
        "id": "4_hmCgOgFMjO"
      },
      "source": [
        "## Más ejercicios (opcionales)\n",
        "\n",
        "### Ejercicio 6: A Todo Feature\n",
        "\n",
        "Entrene y evalúe regresiones pero utilizando todos los atributos de entrada (va a andar mucho más lento). Estudie los resultados.\n",
        "\n",
        "### Ejercicio 7: Regularización\n",
        "\n",
        "Entrene y evalúe regresiones con regularización \"ridge\". Deberá probar distintos valores de \"alpha\" (fuerza de la regularización). ¿Mejoran los resultados?\n"
      ]
    }
  ],
  "metadata": {
    "kernelspec": {
      "display_name": "Python 3",
      "language": "python",
      "name": "python3"
    },
    "language_info": {
      "codemirror_mode": {
        "name": "ipython",
        "version": 3
      },
      "file_extension": ".py",
      "mimetype": "text/x-python",
      "name": "python",
      "nbconvert_exporter": "python",
      "pygments_lexer": "ipython3",
      "version": "3.8.10"
    },
    "colab": {
      "name": "Lab 1.ipynb",
      "provenance": []
    }
  },
  "nbformat": 4,
  "nbformat_minor": 0
}